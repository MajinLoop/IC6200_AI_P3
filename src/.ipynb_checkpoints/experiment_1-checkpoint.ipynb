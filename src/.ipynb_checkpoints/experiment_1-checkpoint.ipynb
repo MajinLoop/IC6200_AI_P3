{
 "cells": [
  {
   "cell_type": "markdown",
   "metadata": {},
   "source": [
    "# Lbrerías"
   ]
  },
  {
   "cell_type": "code",
   "execution_count": 98,
   "metadata": {},
   "outputs": [],
   "source": [
    "# General\n",
    "import os\n",
    "from typing import Tuple\n",
    "import random\n",
    "from collections import Counter\n",
    "from PIL import Image\n",
    "import time\n",
    "\n",
    "# Pytorch\n",
    "import torch\n",
    "from torch import nn\n",
    "import torch.nn.functional as F\n",
    "from torch.utils.data import DataLoader, Dataset, Subset, random_split\n",
    "from torchvision import datasets, transforms\n",
    "import torchvision.models as models\n",
    "import torch.optim as optim\n",
    "from torch.quantization import QuantStub, DeQuantStub, get_default_qconfig, fuse_modules\n",
    "\n",
    "\n",
    "# Pytorch Lightning\n",
    "import pytorch_lightning as pl\n",
    "from pytorch_lightning import Trainer\n",
    "from pytorch_lightning.callbacks.early_stopping import EarlyStopping\n",
    "from pytorch_lightning.loggers import WandbLogger\n",
    "\n",
    "# Hydra\n",
    "import hydra\n",
    "from hydra.core.global_hydra import GlobalHydra\n",
    "from omegaconf import DictConfig\n",
    "from omegaconf import OmegaConf\n",
    "\n",
    "# W&B\n",
    "import wandb\n",
    "\n",
    "# Sklearn\n",
    "from sklearn.model_selection import train_test_split\n",
    "\n",
    "# Matplotlib\n",
    "import matplotlib.pyplot as plt"
   ]
  },
  {
   "cell_type": "markdown",
   "metadata": {},
   "source": [
    "## Comprobacion de pytorch y CUDA"
   ]
  },
  {
   "cell_type": "code",
   "execution_count": 99,
   "metadata": {},
   "outputs": [
    {
     "name": "stdout",
     "output_type": "stream",
     "text": [
      "PyTorch version: 2.4.1\n",
      "CUDA available: True\n",
      "CUDA version: 11.8\n",
      "Device Name: NVIDIA GeForce RTX 3050 Ti Laptop GPU\n"
     ]
    }
   ],
   "source": [
    "print(\"PyTorch version:\", torch.__version__)\n",
    "print(\"CUDA available:\", torch.cuda.is_available())\n",
    "if torch.cuda.is_available():\n",
    "    print(\"CUDA version:\", torch.version.cuda)\n",
    "    print(\"Device Name:\", torch.cuda.get_device_name(0))"
   ]
  },
  {
   "cell_type": "markdown",
   "metadata": {},
   "source": [
    "## Configuración de librerías"
   ]
  },
  {
   "cell_type": "code",
   "execution_count": 100,
   "metadata": {},
   "outputs": [
    {
     "data": {
      "text/plain": [
       "True"
      ]
     },
     "execution_count": 100,
     "metadata": {},
     "output_type": "execute_result"
    }
   ],
   "source": [
    "# Permite que PyTorch utilice Tensor Cores para operaciones de punto flotante en precisión mixta, lo que mejora significativamente el rendimiento en GPUs modernas.\n",
    "# torch.set_float32_matmul_precision('high')\n",
    "\n",
    "# Esto permite a CUDA optimizar dinámicamente las operaciones basándose en el tamaño de tus tensores.\n",
    "# torch.backends.cudnn.benchmark = True\n",
    "\n",
    "random.seed(42)\n",
    "\n",
    "# Configuración de Weights & Biases\n",
    "# user: alejandro-campos-technological-institute-of-costa-rica\n",
    "wandb.login()"
   ]
  },
  {
   "cell_type": "markdown",
   "metadata": {},
   "source": [
    "# Globales y constantes"
   ]
  },
  {
   "cell_type": "code",
   "execution_count": 101,
   "metadata": {},
   "outputs": [
    {
     "name": "stdout",
     "output_type": "stream",
     "text": [
      "model:\n",
      "  learning_rate: 0.003\n",
      "  batch_size: 16\n",
      "  epochs: 2\n",
      "  patience: 3\n",
      "  train_dataset_dir: data/train\n",
      "  validation_dataset_dir: data/valid\n",
      "  test_dataset_dir: data/test\n",
      "data:\n",
      "  labeled_percentage: 0.3\n",
      "\n"
     ]
    }
   ],
   "source": [
    "#------------------------------------------------------------------------------------------------------------------------------------------------------------------\n",
    "# Para la ejecución y corrida con los experimentos y configuraciones de hiperparámetros se utiliza Hydra, un framework open-source\n",
    "# que simplifica el desarrollo de experimentos basado en una configuración jerárquica.\n",
    "#------------------------------------------------------------------------------------------------------------------------------------------------------------------\n",
    "GlobalHydra.instance().clear()\n",
    "hydra.initialize(config_path=\".\", version_base=None)\n",
    "cfg = hydra.compose(config_name=\"config\")\n",
    "\n",
    "print(OmegaConf.to_yaml(cfg))\n",
    "\n",
    "CHECKPOINTS_PATH = 'checkpoints'\n",
    "\n",
    "DEVICE = torch.device(\"cuda\" if torch.cuda.is_available() else \"cpu\")\n",
    "\n",
    "NUM_WORKERS = 4"
   ]
  },
  {
   "cell_type": "markdown",
   "metadata": {},
   "source": [
    "# Definiciones generales"
   ]
  },
  {
   "cell_type": "markdown",
   "metadata": {},
   "source": [
    "## Clase de carga"
   ]
  },
  {
   "cell_type": "markdown",
   "metadata": {},
   "source": [
    "Debe crear su propia clase de carga de datos utilizando “LightningDataModule”"
   ]
  },
  {
   "cell_type": "code",
   "execution_count": 102,
   "metadata": {},
   "outputs": [],
   "source": [
    "class CustomLoader(pl.LightningDataModule):\n",
    "    def __init__(self, dataset: Dataset, batch_size=32):\n",
    "        super().__init__()\n",
    "        self.dataset = dataset\n",
    "        self.batch_size = batch_size\n",
    "\n",
    "\n",
    "    def split(self, labeled_percentage) -> Tuple[Dataset, Dataset]:\n",
    "        labels = [sample[1] for sample in self.dataset.samples]        \n",
    "        \n",
    "        # División estratificada\n",
    "        labeled_indices, unlabeled_indices = train_test_split \\\n",
    "        (\n",
    "            range(len(self.dataset)),\n",
    "            test_size=1 - labeled_percentage,\n",
    "            stratify=labels\n",
    "        )\n",
    "\n",
    "        labeled_subset = Subset(self.dataset, labeled_indices)\n",
    "        unlabeled_subset = Subset(self.dataset, unlabeled_indices)\n",
    "        \n",
    "        labeled_dataset = self.create_dataset_from_subset(labeled_subset)\n",
    "        unlabeled_dataset = self.create_dataset_from_subset(unlabeled_subset)\n",
    "\n",
    "        return labeled_dataset, unlabeled_dataset\n",
    "\n",
    "\n",
    "    def create_dataset_from_subset(self, subset):\n",
    "        samples = [self.dataset.samples[idx] for idx in subset.indices]\n",
    "        new_dataset = datasets.ImageFolder(root=self.dataset.root, transform=self.dataset.transform)\n",
    "        new_dataset.samples = samples\n",
    "        new_dataset.targets = [sample[1] for sample in samples]  # Actualizar etiquetas\n",
    "        return new_dataset\n",
    "\n",
    "\n",
    "    def get_dataloader(self):\n",
    "        return DataLoader(self.labeled_data, batch_size=self.batch_size, shuffle=True)"
   ]
  },
  {
   "cell_type": "markdown",
   "metadata": {},
   "source": [
    "## Modelo del Autoencoder"
   ]
  },
  {
   "cell_type": "markdown",
   "metadata": {},
   "source": [
    "Creación de un propio modelo utilizando “LightningModule” basado en la Arquitectura U-Net con Skip Connections."
   ]
  },
  {
   "cell_type": "code",
   "execution_count": 103,
   "metadata": {},
   "outputs": [],
   "source": [
    "class UNetAutoencoder(pl.LightningModule):\n",
    "    def __init__(self, input_channels=3, output_channels=3, learning_rate=1e-3):\n",
    "        super(UNetAutoencoder, self).__init__()\n",
    "        self.learning_rate = learning_rate\n",
    "\n",
    "        # Encoder\n",
    "        self.enc1 = self.conv_block(input_channels, 64)\n",
    "        self.enc2 = self.conv_block(64, 128)\n",
    "        self.enc3 = self.conv_block(128, 256)\n",
    "        self.enc4 = self.conv_block(256, 512)\n",
    "        \n",
    "        # Bottleneck\n",
    "        self.bottleneck = self.conv_block(512, 1024)\n",
    "        \n",
    "        # Decoder\n",
    "        self.dec4 = self.upconv_block(1024, 512)\n",
    "        self.dec3 = self.upconv_block(512 + 512, 256)\n",
    "        self.dec2 = self.upconv_block(256 + 256, 128)\n",
    "        self.dec1 = self.upconv_block(128 + 128, 64)\n",
    "\n",
    "        # Final layer\n",
    "        self.final_layer = nn.Conv2d(128, output_channels, kernel_size=1)\n",
    "\n",
    "    def conv_block(self, in_channels, out_channels):\n",
    "        return nn.Sequential \\\n",
    "        (\n",
    "            nn.Conv2d(in_channels, out_channels, kernel_size=3, padding=1),\n",
    "            nn.ReLU(inplace=True),\n",
    "            nn.Conv2d(out_channels, out_channels, kernel_size=3, padding=1),\n",
    "            nn.ReLU(inplace=True)\n",
    "        )\n",
    "\n",
    "\n",
    "    def upconv_block(self, in_channels, out_channels):\n",
    "        return nn.Sequential \\\n",
    "        (\n",
    "            nn.ConvTranspose2d(in_channels, out_channels, kernel_size=2, stride=2),\n",
    "            nn.ReLU(inplace=True)\n",
    "        )\n",
    "    \n",
    "    \n",
    "    def forward(self, x):\n",
    "        # Encoder\n",
    "        # print(\"\\nx:\", x.shape)  # Muestra las dimensiones de la entrada\n",
    "        enc1 = self.enc1(x)\n",
    "        # print(\"enc1 size:\", enc1.shape)  # Muestra las dimensiones después de la primera capa\n",
    "\n",
    "        enc2 = self.enc2(F.max_pool2d(enc1, 2))\n",
    "        # print(\"enc2 size:\", enc2.shape)  # Muestra las dimensiones después de la segunda capa\n",
    "\n",
    "        enc3 = self.enc3(F.max_pool2d(enc2, 2))\n",
    "        # print(\"enc3 size:\", enc3.shape)  # Muestra las dimensiones después de la tercera capa\n",
    "\n",
    "        enc4 = self.enc4(F.max_pool2d(enc3, 2))\n",
    "        # print(\"enc4 size:\", enc4.shape)  # Muestra las dimensiones después de la cuarta capa\n",
    "\n",
    "        bottleneck = self.bottleneck(F.max_pool2d(enc4, 2))\n",
    "        # print(\"bottleneck size:\", bottleneck.shape)  # Muestra las dimensiones del cuello de botella\n",
    "\n",
    "\n",
    "        # Decoder\n",
    "        dec4 = self.dec4(bottleneck)\n",
    "        # print(\"dec4 size:\", dec4.shape)  # Muestra las dimensiones después de la primera capa del decodificador\n",
    "        dec4 = torch.cat((dec4, enc4), dim=1)\n",
    "        # print(\"dec4 after concatenation size:\", dec4.shape)  # Después de concatenar\n",
    "\n",
    "        dec3 = self.dec3(dec4)\n",
    "        # print(\"dec3 size:\", dec3.shape)  # Muestra las dimensiones después de la segunda capa del decodificador\n",
    "        dec3 = torch.cat((dec3, enc3), dim=1)\n",
    "        # print(\"dec3 after concatenation size:\", dec3.shape)  # Después de concatenar\n",
    "\n",
    "        dec2 = self.dec2(dec3)\n",
    "        # print(\"dec2 size:\", dec2.shape)  # Muestra las dimensiones después de la tercera capa del decodificador\n",
    "        dec2 = torch.cat((dec2, enc2), dim=1)\n",
    "        # print(\"dec2 after concatenation size:\", dec2.shape)  # Después de concatenar\n",
    "\n",
    "        dec1 = self.dec1(dec2)\n",
    "        # print(\"dec1 size:\", dec1.shape)  # Muestra las dimensiones después de la cuarta capa del decodificador\n",
    "        dec1 = torch.cat((dec1, enc1), dim=1)\n",
    "        # print(\"dec1 after concatenation size:\", dec1.shape)  # Después de concatenar\n",
    "        \n",
    "        # Output layer\n",
    "        output = self.final_layer(dec1)\n",
    "        # print(\"Output size:\", output.shape)  # Muestra las dimensiones de la salida\n",
    "        return output\n",
    "    \n",
    "\n",
    "\n",
    "    #------------------------------------------------------------------------------------------------------------------------------------------------------------------\n",
    "    # Debe redefinir como mínimo los métodos de training_step, test_step, configure_optimizers\n",
    "    #------------------------------------------------------------------------------------------------------------------------------------------------------------------\n",
    "    def training_step(self, batch, batch_idx):\n",
    "        inputs, _ = batch  # Ignora las etiquetas\n",
    "        outputs = self(inputs)\n",
    "        loss = F.mse_loss(outputs, inputs)\n",
    "        self.log('train_loss', loss)\n",
    "        return loss\n",
    "\n",
    "    \n",
    "    def test_step(self, batch, batch_idx):\n",
    "        inputs, _ = batch  # Ignora las etiquetas\n",
    "        outputs = self(inputs)\n",
    "        loss = F.mse_loss(outputs, inputs)\n",
    "        self.log('test_loss', loss)\n",
    "        return loss\n",
    "    \n",
    "\n",
    "    def configure_optimizers(self):\n",
    "        return torch.optim.Adam(self.parameters(), lr=self.learning_rate)"
   ]
  },
  {
   "cell_type": "markdown",
   "metadata": {},
   "source": [
    "### Función de entrenamiento"
   ]
  },
  {
   "cell_type": "markdown",
   "metadata": {},
   "source": [
    "Se utiliza el Callback de EarlyStopping durante el proceso de entrenamiento para evitar Overfitting del modelo."
   ]
  },
  {
   "cell_type": "code",
   "execution_count": 104,
   "metadata": {},
   "outputs": [],
   "source": [
    "def wandb_train(model: UNetAutoencoder, train_data_loader: DataLoader, model_name: str, wandb_project_name: str):\n",
    "    wandb_logger = WandbLogger \\\n",
    "    (\n",
    "        project=wandb_project_name,\n",
    "        name=model_name,\n",
    "        log_model=True  # Guarda el modelo en Wandb.\n",
    "    )\n",
    "    \n",
    "    trainer = pl.Trainer(\n",
    "        max_epochs=cfg.model.epochs,\n",
    "        accelerator=\"gpu\",  # Especifica que se usará GPU\n",
    "        devices=\"auto\",  # Usa todas las GPUs disponibles\n",
    "        precision=16,  # Habilita entrenamiento en precisión mixta (16 bits)\n",
    "        logger=wandb_logger,\n",
    "        callbacks=[EarlyStopping(monitor=\"train_loss\", patience=int(cfg.model.patience), mode=\"min\")]\n",
    "    )\n",
    "\n",
    "    try:\n",
    "        trainer.fit(model, train_data_loader)\n",
    "        filepath = os.path.join(CHECKPOINTS_PATH, f'{model_name}.ckpt')\n",
    "        trainer.save_checkpoint(filepath)\n",
    "    finally:\n",
    "        wandb.finish()"
   ]
  },
  {
   "cell_type": "markdown",
   "metadata": {},
   "source": [
    "### Función de checkpoint"
   ]
  },
  {
   "cell_type": "code",
   "execution_count": 105,
   "metadata": {},
   "outputs": [],
   "source": [
    "def checkpoint_UNetAutoencoder(model, model_name: str, ):\n",
    "    filepath = os.path.join(CHECKPOINTS_PATH, f'{model_name}.ckpt')\n",
    "\n",
    "    if os.path.exists(filepath):\n",
    "        model = UNetAutoencoder.load_from_checkpoint(filepath)\n",
    "        print(\"-------------------------------------------------------------\")\n",
    "        print(f\"Checkpoint {model_name} cargado con éxito.\")\n",
    "    else:\n",
    "        print(f\"Error: No se encontró el archivo de checkpoint en {filepath}.\")"
   ]
  },
  {
   "cell_type": "markdown",
   "metadata": {},
   "source": [
    "## Clasificadores"
   ]
  },
  {
   "cell_type": "markdown",
   "metadata": {},
   "source": [
    "### Clasificador A"
   ]
  },
  {
   "cell_type": "markdown",
   "metadata": {},
   "source": [
    "El clasificador A será entrenado desde 0"
   ]
  },
  {
   "cell_type": "code",
   "execution_count": 106,
   "metadata": {},
   "outputs": [],
   "source": [
    "# Clasificador A\n",
    "class ClassifierA(nn.Module):\n",
    "    def __init__(self, num_classes=20):\n",
    "        super(ClassifierA, self).__init__()\n",
    "\n",
    "        # Usamos el modelo ResNet50 preentrenado como base\n",
    "        self.model = models.resnet50(pretrained=False)\n",
    "\n",
    "        # Ajustar la última capa\n",
    "        self.model.fc = nn.Linear(self.model.fc.in_features, num_classes)\n",
    "    \n",
    "    def forward(self, x):\n",
    "        return self.model(x)"
   ]
  },
  {
   "cell_type": "markdown",
   "metadata": {},
   "source": [
    "### Clasificador B"
   ]
  },
  {
   "cell_type": "code",
   "execution_count": 107,
   "metadata": {},
   "outputs": [],
   "source": [
    "class ClassifierB(nn.Module):\n",
    "    def __init__(self, encoder, num_classes=20):\n",
    "        super(ClassifierB, self).__init__()\n",
    "\n",
    "        self.encoder = encoder\n",
    "        self.fc = nn.Sequential \\\n",
    "        (\n",
    "            nn.Flatten(),\n",
    "            nn.Linear(512 * 16 * 16, 256),  # Ajusta dimensiones según la salida del encoder\n",
    "            nn.ReLU(),\n",
    "            nn.Linear(256, num_classes)\n",
    "        )\n",
    "    \n",
    "    def forward(self, x):\n",
    "        # print(f'entrada del modelo B: {x.shape}')\n",
    "        x = self.encoder(x)\n",
    "        # print(f'salida del encoder: {x.shape}')\n",
    "        x = self.fc(x)\n",
    "        # print(f'salida de la fc: {x.shape}')\n",
    "        return x"
   ]
  },
  {
   "cell_type": "markdown",
   "metadata": {},
   "source": [
    "#### Encoder (Para los modelos B)"
   ]
  },
  {
   "cell_type": "code",
   "execution_count": 108,
   "metadata": {},
   "outputs": [],
   "source": [
    "class Encoder(nn.Module):\n",
    "    def __init__(self, autoencoder: UNetAutoencoder):\n",
    "        super(Encoder, self).__init__()\n",
    "        self.enc1 = autoencoder.enc1\n",
    "        self.enc2 = autoencoder.enc2\n",
    "        self.enc3 = autoencoder.enc3\n",
    "        self.enc4 = autoencoder.enc4\n",
    "\n",
    "    def forward(self, x):\n",
    "        x = self.enc1(x)\n",
    "        x = self.enc2(F.max_pool2d(x, 2))\n",
    "        x = self.enc3(F.max_pool2d(x, 2))\n",
    "        x = self.enc4(F.max_pool2d(x, 2))\n",
    "        return x"
   ]
  },
  {
   "cell_type": "markdown",
   "metadata": {},
   "source": [
    "### Funciones auxiliares"
   ]
  },
  {
   "cell_type": "code",
   "execution_count": 109,
   "metadata": {},
   "outputs": [],
   "source": [
    "def checkpoint_classifier(model, model_name: str, save=False):\n",
    "    filepath = os.path.join(CHECKPOINTS_PATH, f'{model_name}.ckpt')\n",
    "    \n",
    "    if save:\n",
    "        torch.save(model.state_dict(), filepath)\n",
    "        print(f\"Checkpoint guardado en {filepath}.\")\n",
    "    else:\n",
    "        if os.path.exists(filepath):\n",
    "            model.load_state_dict(torch.load(filepath))\n",
    "            print(\"-------------------------------------------------------------\")\n",
    "            print(f\"Checkpoint {model_name}.ckpt cargado con éxito.\")\n",
    "        else:\n",
    "            print(f\"Error: No se encontró el archivo de checkpoint en {filepath}.\")\n",
    "\n",
    "\n",
    "def train_clasifier(clasifier_model, model_name: str, train_dataloader: DataLoader, num_epochs=cfg.model.epochs):\n",
    "    print(f'Training: {model_name}')\n",
    "    clasifier_model = clasifier_model.to(DEVICE)\n",
    "\n",
    "    optimizer = optim.Adam(clasifier_model.parameters(), lr=cfg.model.learning_rate)\n",
    "    criterion = nn.CrossEntropyLoss()\n",
    "\n",
    "\n",
    "    for epoch in range(num_epochs):\n",
    "\n",
    "        clasifier_model.train()\n",
    "        running_loss = 0.0\n",
    "        correct = 0\n",
    "        total = 0\n",
    "\n",
    "        for inputs, labels in train_dataloader:\n",
    "            inputs, labels = inputs.to(DEVICE), labels.to(DEVICE)\n",
    "            optimizer.zero_grad()            \n",
    "            outputs = clasifier_model(inputs)\n",
    "            loss = criterion(outputs, labels)\n",
    "            loss.backward()\n",
    "            optimizer.step()\n",
    "\n",
    "            # Estadísticas\n",
    "            running_loss += loss.item()\n",
    "            _, predicted = torch.max(outputs, 1)\n",
    "            total += labels.size(0)\n",
    "            correct += (predicted == labels).sum().item()\n",
    "\n",
    "        # torch.cuda.empty_cache()\n",
    "\n",
    "        # Imprimir estadísticas del epoch\n",
    "        train_loss = running_loss / len(train_dataloader)\n",
    "        train_accuracy = correct / total\n",
    "        print(f\"Epoch {epoch+1}/{num_epochs}, Loss: {train_loss:.4f}, Accuracy: {train_accuracy:.4f}\")\n",
    "\n",
    "    checkpoint_classifier(model=clasifier_model, model_name=model_name, save=True)\n",
    "\n",
    "\n",
    "def cuantization(clasifier_model):\n",
    "    model_quantized = clasifier_model.__class__()  # Crea una instancia vacía del mismo tipo de modelo\n",
    "    model_quantized.load_state_dict(clasifier_model.state_dict())  # Cargar los pesos del modelo original\n",
    "    model_quantized = model_quantized.to('cpu')\n",
    "    model_quantized.eval()\n",
    "\n",
    "    model_quantized.qconfig = torch.quantization.get_default_qconfig('fbgemm')\n",
    "    torch.quantization.prepare(model_quantized, inplace=True)\n",
    "    torch.quantization.convert(model_quantized, inplace=True)\n",
    "    \n",
    "    print(model_quantized)\n",
    "    return model_quantized"
   ]
  },
  {
   "cell_type": "markdown",
   "metadata": {},
   "source": [
    "# Manipulación de datos"
   ]
  },
  {
   "cell_type": "markdown",
   "metadata": {},
   "source": [
    "## Carga de las muestras"
   ]
  },
  {
   "cell_type": "markdown",
   "metadata": {},
   "source": [
    "Se seleccionan solamente las 20 especies con mayor cantidad de muestras. Además se mueven unas 20 muestras del set de entrenamiento de cada especie al set de testing para incrementar su volumen, porque actualmente solo tiene 5 muestras para testing."
   ]
  },
  {
   "cell_type": "code",
   "execution_count": 110,
   "metadata": {},
   "outputs": [
    {
     "name": "stdout",
     "output_type": "stream",
     "text": [
      "Training samples: 2546\n",
      "Testing samples: 500\n",
      "[('data/train\\\\MOURNING CLOAK\\\\003.jpg', 13), ('data/train\\\\MOURNING CLOAK\\\\067.jpg', 13), ('data/train\\\\MOURNING CLOAK\\\\013.jpg', 13), ('data/train\\\\MOURNING CLOAK\\\\062.jpg', 13), ('data/train\\\\MOURNING CLOAK\\\\100.jpg', 13), ('data/train\\\\MOURNING CLOAK\\\\037.jpg', 13), ('data/train\\\\MOURNING CLOAK\\\\177.jpg', 13), ('data/train\\\\MOURNING CLOAK\\\\070.jpg', 13), ('data/train\\\\MOURNING CLOAK\\\\054.jpg', 13), ('data/train\\\\MOURNING CLOAK\\\\014.jpg', 13), ('data/train\\\\MOURNING CLOAK\\\\158.jpg', 13), ('data/train\\\\MOURNING CLOAK\\\\016.jpg', 13), ('data/train\\\\MOURNING CLOAK\\\\153.jpg', 13), ('data/train\\\\MOURNING CLOAK\\\\053.jpg', 13), ('data/train\\\\MOURNING CLOAK\\\\128.jpg', 13), ('data/train\\\\MOURNING CLOAK\\\\045.jpg', 13), ('data/train\\\\MOURNING CLOAK\\\\149.jpg', 13), ('data/train\\\\MOURNING CLOAK\\\\043.jpg', 13), ('data/train\\\\MOURNING CLOAK\\\\006.jpg', 13), ('data/train\\\\MOURNING CLOAK\\\\077.jpg', 13), ('data/train\\\\MOURNING CLOAK\\\\176.jpg', 13), ('data/train\\\\MOURNING CLOAK\\\\065.jpg', 13), ('data/train\\\\MOURNING CLOAK\\\\020.jpg', 13), ('data/train\\\\MOURNING CLOAK\\\\031.jpg', 13), ('data/train\\\\MOURNING CLOAK\\\\142.jpg', 13), ('data/train\\\\MOURNING CLOAK\\\\183.jpg', 13), ('data/train\\\\MOURNING CLOAK\\\\105.jpg', 13), ('data/train\\\\MOURNING CLOAK\\\\038.jpg', 13), ('data/train\\\\MOURNING CLOAK\\\\004.jpg', 13), ('data/train\\\\MOURNING CLOAK\\\\103.jpg', 13), ('data/train\\\\MOURNING CLOAK\\\\104.jpg', 13), ('data/train\\\\MOURNING CLOAK\\\\166.jpg', 13), ('data/train\\\\MOURNING CLOAK\\\\033.jpg', 13), ('data/train\\\\MOURNING CLOAK\\\\135.jpg', 13), ('data/train\\\\MOURNING CLOAK\\\\120.jpg', 13), ('data/train\\\\MOURNING CLOAK\\\\137.jpg', 13), ('data/train\\\\MOURNING CLOAK\\\\061.jpg', 13), ('data/train\\\\MOURNING CLOAK\\\\182.jpg', 13), ('data/train\\\\MOURNING CLOAK\\\\080.jpg', 13), ('data/train\\\\MOURNING CLOAK\\\\119.jpg', 13), ('data/train\\\\MOURNING CLOAK\\\\156.jpg', 13), ('data/train\\\\MOURNING CLOAK\\\\096.jpg', 13), ('data/train\\\\MOURNING CLOAK\\\\131.jpg', 13), ('data/train\\\\MOURNING CLOAK\\\\161.jpg', 13), ('data/train\\\\MOURNING CLOAK\\\\184.jpg', 13), ('data/train\\\\MOURNING CLOAK\\\\095.jpg', 13), ('data/train\\\\MOURNING CLOAK\\\\081.jpg', 13), ('data/train\\\\MOURNING CLOAK\\\\001.jpg', 13), ('data/train\\\\MOURNING CLOAK\\\\126.jpg', 13), ('data/train\\\\MOURNING CLOAK\\\\017.jpg', 13), ('data/train\\\\MOURNING CLOAK\\\\074.jpg', 13), ('data/train\\\\MOURNING CLOAK\\\\123.jpg', 13), ('data/train\\\\MOURNING CLOAK\\\\162.jpg', 13), ('data/train\\\\MOURNING CLOAK\\\\160.jpg', 13), ('data/train\\\\MOURNING CLOAK\\\\147.jpg', 13), ('data/train\\\\MOURNING CLOAK\\\\136.jpg', 13), ('data/train\\\\MOURNING CLOAK\\\\039.jpg', 13), ('data/train\\\\MOURNING CLOAK\\\\085.jpg', 13), ('data/train\\\\MOURNING CLOAK\\\\044.jpg', 13), ('data/train\\\\MOURNING CLOAK\\\\101.jpg', 13), ('data/train\\\\MOURNING CLOAK\\\\011.jpg', 13), ('data/train\\\\MOURNING CLOAK\\\\117.jpg', 13), ('data/train\\\\MOURNING CLOAK\\\\112.jpg', 13), ('data/train\\\\MOURNING CLOAK\\\\015.jpg', 13), ('data/train\\\\MOURNING CLOAK\\\\167.jpg', 13), ('data/train\\\\MOURNING CLOAK\\\\133.jpg', 13), ('data/train\\\\MOURNING CLOAK\\\\113.jpg', 13), ('data/train\\\\MOURNING CLOAK\\\\066.jpg', 13), ('data/train\\\\MOURNING CLOAK\\\\111.jpg', 13), ('data/train\\\\MOURNING CLOAK\\\\148.jpg', 13), ('data/train\\\\MOURNING CLOAK\\\\122.jpg', 13), ('data/train\\\\MOURNING CLOAK\\\\091.jpg', 13), ('data/train\\\\MOURNING CLOAK\\\\055.jpg', 13), ('data/train\\\\MOURNING CLOAK\\\\079.jpg', 13), ('data/train\\\\MOURNING CLOAK\\\\163.jpg', 13), ('data/train\\\\MOURNING CLOAK\\\\099.jpg', 13), ('data/train\\\\MOURNING CLOAK\\\\106.jpg', 13), ('data/train\\\\MOURNING CLOAK\\\\134.jpg', 13), ('data/train\\\\MOURNING CLOAK\\\\034.jpg', 13), ('data/train\\\\MOURNING CLOAK\\\\019.jpg', 13), ('data/train\\\\MOURNING CLOAK\\\\125.jpg', 13), ('data/train\\\\MOURNING CLOAK\\\\165.jpg', 13), ('data/train\\\\MOURNING CLOAK\\\\064.jpg', 13), ('data/train\\\\MOURNING CLOAK\\\\084.jpg', 13), ('data/train\\\\MOURNING CLOAK\\\\139.jpg', 13), ('data/train\\\\MOURNING CLOAK\\\\146.jpg', 13), ('data/train\\\\MOURNING CLOAK\\\\073.jpg', 13), ('data/train\\\\MOURNING CLOAK\\\\028.jpg', 13), ('data/train\\\\MOURNING CLOAK\\\\179.jpg', 13), ('data/train\\\\MOURNING CLOAK\\\\102.jpg', 13), ('data/train\\\\MOURNING CLOAK\\\\052.jpg', 13), ('data/train\\\\MOURNING CLOAK\\\\157.jpg', 13), ('data/train\\\\MOURNING CLOAK\\\\005.jpg', 13), ('data/train\\\\MOURNING CLOAK\\\\030.jpg', 13), ('data/train\\\\MOURNING CLOAK\\\\173.jpg', 13), ('data/train\\\\MOURNING CLOAK\\\\042.jpg', 13), ('data/train\\\\MOURNING CLOAK\\\\114.jpg', 13), ('data/train\\\\MOURNING CLOAK\\\\186.jpg', 13), ('data/train\\\\MOURNING CLOAK\\\\154.jpg', 13), ('data/train\\\\MOURNING CLOAK\\\\145.jpg', 13), ('data/train\\\\MOURNING CLOAK\\\\110.jpg', 13), ('data/train\\\\MOURNING CLOAK\\\\116.jpg', 13), ('data/train\\\\MOURNING CLOAK\\\\127.jpg', 13), ('data/train\\\\MOURNING CLOAK\\\\129.jpg', 13), ('data/train\\\\MOURNING CLOAK\\\\121.jpg', 13), ('data/train\\\\MOURNING CLOAK\\\\187.jpg', 13), ('data/train\\\\MOURNING CLOAK\\\\094.jpg', 13), ('data/train\\\\MOURNING CLOAK\\\\069.jpg', 13), ('data/train\\\\MOURNING CLOAK\\\\022.jpg', 13), ('data/train\\\\MOURNING CLOAK\\\\124.jpg', 13), ('data/train\\\\MOURNING CLOAK\\\\078.jpg', 13), ('data/train\\\\MOURNING CLOAK\\\\010.jpg', 13), ('data/train\\\\MOURNING CLOAK\\\\083.jpg', 13), ('data/train\\\\MOURNING CLOAK\\\\168.jpg', 13), ('data/train\\\\MOURNING CLOAK\\\\090.jpg', 13), ('data/train\\\\MOURNING CLOAK\\\\035.jpg', 13), ('data/train\\\\MOURNING CLOAK\\\\086.jpg', 13), ('data/train\\\\MOURNING CLOAK\\\\150.jpg', 13), ('data/train\\\\MOURNING CLOAK\\\\046.jpg', 13), ('data/train\\\\MOURNING CLOAK\\\\048.jpg', 13), ('data/train\\\\MOURNING CLOAK\\\\169.jpg', 13), ('data/train\\\\MOURNING CLOAK\\\\047.jpg', 13), ('data/train\\\\MOURNING CLOAK\\\\107.jpg', 13), ('data/train\\\\MOURNING CLOAK\\\\082.jpg', 13), ('data/train\\\\MOURNING CLOAK\\\\132.jpg', 13), ('data/train\\\\MOURNING CLOAK\\\\181.jpg', 13), ('data/train\\\\MOURNING CLOAK\\\\049.jpg', 13), ('data/train\\\\MOURNING CLOAK\\\\026.jpg', 13), ('data/train\\\\MOURNING CLOAK\\\\170.jpg', 13), ('data/train\\\\MOURNING CLOAK\\\\141.jpg', 13), ('data/train\\\\MOURNING CLOAK\\\\075.jpg', 13), ('data/train\\\\MOURNING CLOAK\\\\059.jpg', 13), ('data/train\\\\MOURNING CLOAK\\\\143.jpg', 13), ('data/train\\\\MOURNING CLOAK\\\\018.jpg', 13), ('data/train\\\\MOURNING CLOAK\\\\050.jpg', 13), ('data/train\\\\MOURNING CLOAK\\\\093.jpg', 13), ('data/train\\\\MOURNING CLOAK\\\\076.jpg', 13), ('data/train\\\\MOURNING CLOAK\\\\021.jpg', 13), ('data/train\\\\MOURNING CLOAK\\\\097.jpg', 13), ('data/train\\\\MOURNING CLOAK\\\\032.jpg', 13), ('data/train\\\\MOURNING CLOAK\\\\138.jpg', 13), ('data/train\\\\MOURNING CLOAK\\\\118.jpg', 13), ('data/train\\\\MOURNING CLOAK\\\\012.jpg', 13), ('data/train\\\\MOURNING CLOAK\\\\068.jpg', 13), ('data/train\\\\MOURNING CLOAK\\\\089.jpg', 13), ('data/train\\\\MOURNING CLOAK\\\\092.jpg', 13), ('data/train\\\\MOURNING CLOAK\\\\025.jpg', 13), ('data/train\\\\MOURNING CLOAK\\\\098.jpg', 13), ('data/train\\\\MOURNING CLOAK\\\\172.jpg', 13), ('data/train\\\\MOURNING CLOAK\\\\180.jpg', 13), ('data/train\\\\MOURNING CLOAK\\\\087.jpg', 13), ('data/train\\\\MOURNING CLOAK\\\\171.jpg', 13), ('data/train\\\\MOURNING CLOAK\\\\040.jpg', 13), ('data/train\\\\MOURNING CLOAK\\\\159.jpg', 13), ('data/train\\\\MOURNING CLOAK\\\\088.jpg', 13), ('data/train\\\\MOURNING CLOAK\\\\175.jpg', 13), ('data/train\\\\MOURNING CLOAK\\\\041.jpg', 13), ('data/train\\\\MOURNING CLOAK\\\\002.jpg', 13), ('data/train\\\\MOURNING CLOAK\\\\072.jpg', 13), ('data/train\\\\MOURNING CLOAK\\\\151.jpg', 13), ('data/train\\\\MOURNING CLOAK\\\\115.jpg', 13), ('data/train\\\\MOURNING CLOAK\\\\057.jpg', 13), ('data/train\\\\MOURNING CLOAK\\\\108.jpg', 13), ('data/train\\\\MOURNING CLOAK\\\\178.jpg', 13), ('data/train\\\\MOURNING CLOAK\\\\051.jpg', 13), ('data/train\\\\MOURNING CLOAK\\\\144.jpg', 13), ('data/train\\\\MOURNING CLOAK\\\\185.jpg', 13), ('data/train\\\\GREEN HAIRSTREAK\\\\101.jpg', 9), ('data/train\\\\GREEN HAIRSTREAK\\\\108.jpg', 9), ('data/train\\\\GREEN HAIRSTREAK\\\\123.jpg', 9), ('data/train\\\\GREEN HAIRSTREAK\\\\091.jpg', 9), ('data/train\\\\GREEN HAIRSTREAK\\\\075.jpg', 9), ('data/train\\\\GREEN HAIRSTREAK\\\\099.jpg', 9), ('data/train\\\\GREEN HAIRSTREAK\\\\066.jpg', 9), ('data/train\\\\GREEN HAIRSTREAK\\\\161.jpg', 9), ('data/train\\\\GREEN HAIRSTREAK\\\\042.jpg', 9), ('data/train\\\\GREEN HAIRSTREAK\\\\163.jpg', 9), ('data/train\\\\GREEN HAIRSTREAK\\\\168.jpg', 9), ('data/train\\\\GREEN HAIRSTREAK\\\\159.jpg', 9), ('data/train\\\\GREEN HAIRSTREAK\\\\041.jpg', 9), ('data/train\\\\GREEN HAIRSTREAK\\\\098.jpg', 9), ('data/train\\\\GREEN HAIRSTREAK\\\\088.jpg', 9), ('data/train\\\\GREEN HAIRSTREAK\\\\090.jpg', 9), ('data/train\\\\GREEN HAIRSTREAK\\\\030.jpg', 9), ('data/train\\\\GREEN HAIRSTREAK\\\\076.jpg', 9), ('data/train\\\\GREEN HAIRSTREAK\\\\040.jpg', 9), ('data/train\\\\GREEN HAIRSTREAK\\\\029.jpg', 9), ('data/train\\\\GREEN HAIRSTREAK\\\\015.jpg', 9), ('data/train\\\\GREEN HAIRSTREAK\\\\095.jpg', 9), ('data/train\\\\GREEN HAIRSTREAK\\\\035.jpg', 9), ('data/train\\\\GREEN HAIRSTREAK\\\\102.jpg', 9), ('data/train\\\\GREEN HAIRSTREAK\\\\047.jpg', 9), ('data/train\\\\GREEN HAIRSTREAK\\\\092.jpg', 9), ('data/train\\\\GREEN HAIRSTREAK\\\\170.jpg', 9), ('data/train\\\\GREEN HAIRSTREAK\\\\172.jpg', 9), ('data/train\\\\GREEN HAIRSTREAK\\\\054.jpg', 9), ('data/train\\\\GREEN HAIRSTREAK\\\\023.jpg', 9), ('data/train\\\\GREEN HAIRSTREAK\\\\078.jpg', 9), ('data/train\\\\GREEN HAIRSTREAK\\\\107.jpg', 9), ('data/train\\\\GREEN HAIRSTREAK\\\\152.jpg', 9), ('data/train\\\\GREEN HAIRSTREAK\\\\082.jpg', 9), ('data/train\\\\GREEN HAIRSTREAK\\\\124.jpg', 9), ('data/train\\\\GREEN HAIRSTREAK\\\\027.jpg', 9), ('data/train\\\\GREEN HAIRSTREAK\\\\051.jpg', 9), ('data/train\\\\GREEN HAIRSTREAK\\\\003.jpg', 9), ('data/train\\\\GREEN HAIRSTREAK\\\\089.jpg', 9), ('data/train\\\\GREEN HAIRSTREAK\\\\073.jpg', 9), ('data/train\\\\GREEN HAIRSTREAK\\\\045.jpg', 9), ('data/train\\\\GREEN HAIRSTREAK\\\\167.jpg', 9), ('data/train\\\\GREEN HAIRSTREAK\\\\154.jpg', 9), ('data/train\\\\GREEN HAIRSTREAK\\\\026.jpg', 9), ('data/train\\\\GREEN HAIRSTREAK\\\\144.jpg', 9), ('data/train\\\\GREEN HAIRSTREAK\\\\165.jpg', 9), ('data/train\\\\GREEN HAIRSTREAK\\\\077.jpg', 9), ('data/train\\\\GREEN HAIRSTREAK\\\\039.jpg', 9), ('data/train\\\\GREEN HAIRSTREAK\\\\005.jpg', 9), ('data/train\\\\GREEN HAIRSTREAK\\\\166.jpg', 9), ('data/train\\\\GREEN HAIRSTREAK\\\\150.jpg', 9), ('data/train\\\\GREEN HAIRSTREAK\\\\110.jpg', 9), ('data/train\\\\GREEN HAIRSTREAK\\\\097.jpg', 9), ('data/train\\\\GREEN HAIRSTREAK\\\\011.jpg', 9), ('data/train\\\\GREEN HAIRSTREAK\\\\074.jpg', 9), ('data/train\\\\GREEN HAIRSTREAK\\\\093.jpg', 9), ('data/train\\\\GREEN HAIRSTREAK\\\\173.jpg', 9), ('data/train\\\\GREEN HAIRSTREAK\\\\086.jpg', 9), ('data/train\\\\GREEN HAIRSTREAK\\\\067.jpg', 9), ('data/train\\\\GREEN HAIRSTREAK\\\\175.jpg', 9), ('data/train\\\\GREEN HAIRSTREAK\\\\004.jpg', 9), ('data/train\\\\GREEN HAIRSTREAK\\\\021.jpg', 9), ('data/train\\\\GREEN HAIRSTREAK\\\\048.jpg', 9), ('data/train\\\\GREEN HAIRSTREAK\\\\065.jpg', 9), ('data/train\\\\GREEN HAIRSTREAK\\\\079.jpg', 9), ('data/train\\\\GREEN HAIRSTREAK\\\\081.jpg', 9), ('data/train\\\\GREEN HAIRSTREAK\\\\038.jpg', 9), ('data/train\\\\GREEN HAIRSTREAK\\\\104.jpg', 9), ('data/train\\\\GREEN HAIRSTREAK\\\\020.jpg', 9), ('data/train\\\\GREEN HAIRSTREAK\\\\114.jpg', 9), ('data/train\\\\GREEN HAIRSTREAK\\\\100.jpg', 9), ('data/train\\\\GREEN HAIRSTREAK\\\\037.jpg', 9), ('data/train\\\\GREEN HAIRSTREAK\\\\143.jpg', 9), ('data/train\\\\GREEN HAIRSTREAK\\\\157.jpg', 9), ('data/train\\\\GREEN HAIRSTREAK\\\\050.jpg', 9), ('data/train\\\\GREEN HAIRSTREAK\\\\001.jpg', 9), ('data/train\\\\GREEN HAIRSTREAK\\\\128.jpg', 9), ('data/train\\\\GREEN HAIRSTREAK\\\\135.jpg', 9), ('data/train\\\\GREEN HAIRSTREAK\\\\112.jpg', 9), ('data/train\\\\GREEN HAIRSTREAK\\\\119.jpg', 9), ('data/train\\\\GREEN HAIRSTREAK\\\\028.jpg', 9), ('data/train\\\\GREEN HAIRSTREAK\\\\062.jpg', 9), ('data/train\\\\GREEN HAIRSTREAK\\\\131.jpg', 9), ('data/train\\\\GREEN HAIRSTREAK\\\\121.jpg', 9), ('data/train\\\\GREEN HAIRSTREAK\\\\022.jpg', 9), ('data/train\\\\GREEN HAIRSTREAK\\\\155.jpg', 9), ('data/train\\\\GREEN HAIRSTREAK\\\\012.jpg', 9), ('data/train\\\\GREEN HAIRSTREAK\\\\146.jpg', 9), ('data/train\\\\GREEN HAIRSTREAK\\\\070.jpg', 9), ('data/train\\\\GREEN HAIRSTREAK\\\\115.jpg', 9), ('data/train\\\\GREEN HAIRSTREAK\\\\117.jpg', 9), ('data/train\\\\GREEN HAIRSTREAK\\\\158.jpg', 9), ('data/train\\\\GREEN HAIRSTREAK\\\\071.jpg', 9), ('data/train\\\\GREEN HAIRSTREAK\\\\147.jpg', 9), ('data/train\\\\GREEN HAIRSTREAK\\\\010.jpg', 9), ('data/train\\\\GREEN HAIRSTREAK\\\\106.jpg', 9), ('data/train\\\\GREEN HAIRSTREAK\\\\120.jpg', 9), ('data/train\\\\GREEN HAIRSTREAK\\\\036.jpg', 9), ('data/train\\\\GREEN HAIRSTREAK\\\\024.jpg', 9), ('data/train\\\\GREEN HAIRSTREAK\\\\130.jpg', 9), ('data/train\\\\GREEN HAIRSTREAK\\\\149.jpg', 9), ('data/train\\\\GREEN HAIRSTREAK\\\\153.jpg', 9), ('data/train\\\\GREEN HAIRSTREAK\\\\069.jpg', 9), ('data/train\\\\GREEN HAIRSTREAK\\\\129.jpg', 9), ('data/train\\\\GREEN HAIRSTREAK\\\\025.jpg', 9), ('data/train\\\\GREEN HAIRSTREAK\\\\032.jpg', 9), ('data/train\\\\GREEN HAIRSTREAK\\\\014.jpg', 9), ('data/train\\\\GREEN HAIRSTREAK\\\\160.jpg', 9), ('data/train\\\\GREEN HAIRSTREAK\\\\044.jpg', 9), ('data/train\\\\GREEN HAIRSTREAK\\\\118.jpg', 9), ('data/train\\\\GREEN HAIRSTREAK\\\\162.jpg', 9), ('data/train\\\\GREEN HAIRSTREAK\\\\008.jpg', 9), ('data/train\\\\GREEN HAIRSTREAK\\\\126.jpg', 9), ('data/train\\\\GREEN HAIRSTREAK\\\\083.jpg', 9), ('data/train\\\\GREEN HAIRSTREAK\\\\084.jpg', 9), ('data/train\\\\GREEN HAIRSTREAK\\\\151.jpg', 9), ('data/train\\\\GREEN HAIRSTREAK\\\\007.jpg', 9), ('data/train\\\\GREEN HAIRSTREAK\\\\094.jpg', 9), ('data/train\\\\GREEN HAIRSTREAK\\\\111.jpg', 9), ('data/train\\\\GREEN HAIRSTREAK\\\\060.jpg', 9), ('data/train\\\\GREEN HAIRSTREAK\\\\053.jpg', 9), ('data/train\\\\GREEN HAIRSTREAK\\\\134.jpg', 9), ('data/train\\\\GREEN HAIRSTREAK\\\\046.jpg', 9), ('data/train\\\\GREEN HAIRSTREAK\\\\056.jpg', 9), ('data/train\\\\GREEN HAIRSTREAK\\\\140.jpg', 9), ('data/train\\\\GREEN HAIRSTREAK\\\\127.jpg', 9), ('data/train\\\\GREEN HAIRSTREAK\\\\013.jpg', 9), ('data/train\\\\GREEN HAIRSTREAK\\\\049.jpg', 9), ('data/train\\\\GREEN HAIRSTREAK\\\\105.jpg', 9), ('data/train\\\\GREEN HAIRSTREAK\\\\138.jpg', 9), ('data/train\\\\GREEN HAIRSTREAK\\\\063.jpg', 9), ('data/train\\\\GREEN HAIRSTREAK\\\\171.jpg', 9), ('data/train\\\\GREEN HAIRSTREAK\\\\034.jpg', 9), ('data/train\\\\GREEN HAIRSTREAK\\\\164.jpg', 9), ('data/train\\\\GREEN HAIRSTREAK\\\\125.jpg', 9), ('data/train\\\\GREEN HAIRSTREAK\\\\072.jpg', 9), ('data/train\\\\GREEN HAIRSTREAK\\\\061.jpg', 9), ('data/train\\\\GREEN HAIRSTREAK\\\\132.jpg', 9), ('data/train\\\\GREEN HAIRSTREAK\\\\145.jpg', 9), ('data/train\\\\GREEN HAIRSTREAK\\\\085.jpg', 9), ('data/train\\\\GREEN HAIRSTREAK\\\\009.jpg', 9), ('data/train\\\\GREEN HAIRSTREAK\\\\176.jpg', 9), ('data/train\\\\GREEN HAIRSTREAK\\\\148.jpg', 9), ('data/train\\\\GREEN HAIRSTREAK\\\\016.jpg', 9), ('data/train\\\\GREEN HAIRSTREAK\\\\019.jpg', 9), ('data/train\\\\GREEN HAIRSTREAK\\\\002.jpg', 9), ('data/train\\\\GREEN HAIRSTREAK\\\\057.jpg', 9), ('data/train\\\\GREEN HAIRSTREAK\\\\059.jpg', 9), ('data/train\\\\GREEN HAIRSTREAK\\\\142.jpg', 9), ('data/train\\\\GREEN HAIRSTREAK\\\\006.jpg', 9), ('data/train\\\\GREEN HAIRSTREAK\\\\087.jpg', 9), ('data/train\\\\GREEN HAIRSTREAK\\\\017.jpg', 9), ('data/train\\\\GREEN HAIRSTREAK\\\\058.jpg', 9), ('data/train\\\\GREEN HAIRSTREAK\\\\064.jpg', 9), ('data/train\\\\GREEN HAIRSTREAK\\\\031.jpg', 9), ('data/train\\\\GREEN HAIRSTREAK\\\\116.jpg', 9), ('data/train\\\\BROWN ARGUS\\\\016.jpg', 5), ('data/train\\\\BROWN ARGUS\\\\118.jpg', 5), ('data/train\\\\BROWN ARGUS\\\\044.jpg', 5), ('data/train\\\\BROWN ARGUS\\\\002.jpg', 5), ('data/train\\\\BROWN ARGUS\\\\050.jpg', 5), ('data/train\\\\BROWN ARGUS\\\\144.jpg', 5), ('data/train\\\\BROWN ARGUS\\\\104.jpg', 5), ('data/train\\\\BROWN ARGUS\\\\048.jpg', 5), ('data/train\\\\BROWN ARGUS\\\\041.jpg', 5), ('data/train\\\\BROWN ARGUS\\\\067.jpg', 5), ('data/train\\\\BROWN ARGUS\\\\143.jpg', 5), ('data/train\\\\BROWN ARGUS\\\\107.jpg', 5), ('data/train\\\\BROWN ARGUS\\\\138.jpg', 5), ('data/train\\\\BROWN ARGUS\\\\094.jpg', 5), ('data/train\\\\BROWN ARGUS\\\\074.jpg', 5), ('data/train\\\\BROWN ARGUS\\\\019.jpg', 5), ('data/train\\\\BROWN ARGUS\\\\063.jpg', 5), ('data/train\\\\BROWN ARGUS\\\\119.jpg', 5), ('data/train\\\\BROWN ARGUS\\\\085.jpg', 5), ('data/train\\\\BROWN ARGUS\\\\055.jpg', 5), ('data/train\\\\BROWN ARGUS\\\\084.jpg', 5), ('data/train\\\\BROWN ARGUS\\\\155.jpg', 5), ('data/train\\\\BROWN ARGUS\\\\018.jpg', 5), ('data/train\\\\BROWN ARGUS\\\\081.jpg', 5), ('data/train\\\\BROWN ARGUS\\\\056.jpg', 5), ('data/train\\\\BROWN ARGUS\\\\154.jpg', 5), ('data/train\\\\BROWN ARGUS\\\\011.jpg', 5), ('data/train\\\\BROWN ARGUS\\\\091.jpg', 5), ('data/train\\\\BROWN ARGUS\\\\082.jpg', 5), ('data/train\\\\BROWN ARGUS\\\\131.jpg', 5), ('data/train\\\\BROWN ARGUS\\\\145.jpg', 5), ('data/train\\\\BROWN ARGUS\\\\105.jpg', 5), ('data/train\\\\BROWN ARGUS\\\\089.jpg', 5), ('data/train\\\\BROWN ARGUS\\\\106.jpg', 5), ('data/train\\\\BROWN ARGUS\\\\022.jpg', 5), ('data/train\\\\BROWN ARGUS\\\\115.jpg', 5), ('data/train\\\\BROWN ARGUS\\\\139.jpg', 5), ('data/train\\\\BROWN ARGUS\\\\146.jpg', 5), ('data/train\\\\BROWN ARGUS\\\\122.jpg', 5), ('data/train\\\\BROWN ARGUS\\\\093.jpg', 5), ('data/train\\\\BROWN ARGUS\\\\148.jpg', 5), ('data/train\\\\BROWN ARGUS\\\\158.jpg', 5), ('data/train\\\\BROWN ARGUS\\\\156.jpg', 5), ('data/train\\\\BROWN ARGUS\\\\060.jpg', 5), ('data/train\\\\BROWN ARGUS\\\\087.jpg', 5), ('data/train\\\\BROWN ARGUS\\\\013.jpg', 5), ('data/train\\\\BROWN ARGUS\\\\037.jpg', 5), ('data/train\\\\BROWN ARGUS\\\\078.jpg', 5), ('data/train\\\\BROWN ARGUS\\\\008.jpg', 5), ('data/train\\\\BROWN ARGUS\\\\033.jpg', 5), ('data/train\\\\BROWN ARGUS\\\\058.jpg', 5), ('data/train\\\\BROWN ARGUS\\\\057.jpg', 5), ('data/train\\\\BROWN ARGUS\\\\092.jpg', 5), ('data/train\\\\BROWN ARGUS\\\\051.jpg', 5), ('data/train\\\\BROWN ARGUS\\\\124.jpg', 5), ('data/train\\\\BROWN ARGUS\\\\064.jpg', 5), ('data/train\\\\BROWN ARGUS\\\\159.jpg', 5), ('data/train\\\\BROWN ARGUS\\\\132.jpg', 5), ('data/train\\\\BROWN ARGUS\\\\007.jpg', 5), ('data/train\\\\BROWN ARGUS\\\\135.jpg', 5), ('data/train\\\\BROWN ARGUS\\\\127.jpg', 5), ('data/train\\\\BROWN ARGUS\\\\062.jpg', 5), ('data/train\\\\BROWN ARGUS\\\\129.jpg', 5), ('data/train\\\\BROWN ARGUS\\\\099.jpg', 5), ('data/train\\\\BROWN ARGUS\\\\140.jpg', 5), ('data/train\\\\BROWN ARGUS\\\\015.jpg', 5), ('data/train\\\\BROWN ARGUS\\\\079.jpg', 5), ('data/train\\\\BROWN ARGUS\\\\076.jpg', 5), ('data/train\\\\BROWN ARGUS\\\\069.jpg', 5), ('data/train\\\\BROWN ARGUS\\\\164.jpg', 5), ('data/train\\\\BROWN ARGUS\\\\066.jpg', 5), ('data/train\\\\BROWN ARGUS\\\\083.jpg', 5), ('data/train\\\\BROWN ARGUS\\\\075.jpg', 5), ('data/train\\\\BROWN ARGUS\\\\009.jpg', 5), ('data/train\\\\BROWN ARGUS\\\\036.jpg', 5), ('data/train\\\\BROWN ARGUS\\\\097.jpg', 5), ('data/train\\\\BROWN ARGUS\\\\052.jpg', 5), ('data/train\\\\BROWN ARGUS\\\\025.jpg', 5), ('data/train\\\\BROWN ARGUS\\\\167.jpg', 5), ('data/train\\\\BROWN ARGUS\\\\098.jpg', 5), ('data/train\\\\BROWN ARGUS\\\\160.jpg', 5), ('data/train\\\\BROWN ARGUS\\\\125.jpg', 5), ('data/train\\\\BROWN ARGUS\\\\045.jpg', 5), ('data/train\\\\BROWN ARGUS\\\\059.jpg', 5), ('data/train\\\\BROWN ARGUS\\\\026.jpg', 5), ('data/train\\\\BROWN ARGUS\\\\134.jpg', 5), ('data/train\\\\BROWN ARGUS\\\\061.jpg', 5), ('data/train\\\\BROWN ARGUS\\\\005.jpg', 5), ('data/train\\\\BROWN ARGUS\\\\049.jpg', 5), ('data/train\\\\BROWN ARGUS\\\\112.jpg', 5), ('data/train\\\\BROWN ARGUS\\\\090.jpg', 5), ('data/train\\\\BROWN ARGUS\\\\103.jpg', 5), ('data/train\\\\BROWN ARGUS\\\\162.jpg', 5), ('data/train\\\\BROWN ARGUS\\\\137.jpg', 5), ('data/train\\\\BROWN ARGUS\\\\113.jpg', 5), ('data/train\\\\BROWN ARGUS\\\\101.jpg', 5), ('data/train\\\\BROWN ARGUS\\\\043.jpg', 5), ('data/train\\\\BROWN ARGUS\\\\150.jpg', 5), ('data/train\\\\BROWN ARGUS\\\\121.jpg', 5), ('data/train\\\\BROWN ARGUS\\\\004.jpg', 5), ('data/train\\\\BROWN ARGUS\\\\108.jpg', 5), ('data/train\\\\BROWN ARGUS\\\\023.jpg', 5), ('data/train\\\\BROWN ARGUS\\\\021.jpg', 5), ('data/train\\\\BROWN ARGUS\\\\031.jpg', 5), ('data/train\\\\BROWN ARGUS\\\\133.jpg', 5), ('data/train\\\\BROWN ARGUS\\\\096.jpg', 5), ('data/train\\\\BROWN ARGUS\\\\080.jpg', 5), ('data/train\\\\BROWN ARGUS\\\\152.jpg', 5), ('data/train\\\\BROWN ARGUS\\\\072.jpg', 5), ('data/train\\\\BROWN ARGUS\\\\100.jpg', 5), ('data/train\\\\BROWN ARGUS\\\\117.jpg', 5), ('data/train\\\\BROWN ARGUS\\\\147.jpg', 5), ('data/train\\\\BROWN ARGUS\\\\141.jpg', 5), ('data/train\\\\BROWN ARGUS\\\\032.jpg', 5), ('data/train\\\\BROWN ARGUS\\\\153.jpg', 5), ('data/train\\\\BROWN ARGUS\\\\163.jpg', 5), ('data/train\\\\BROWN ARGUS\\\\046.jpg', 5), ('data/train\\\\BROWN ARGUS\\\\123.jpg', 5), ('data/train\\\\BROWN ARGUS\\\\149.jpg', 5), ('data/train\\\\BROWN ARGUS\\\\128.jpg', 5), ('data/train\\\\BROWN ARGUS\\\\102.jpg', 5), ('data/train\\\\BROWN ARGUS\\\\120.jpg', 5), ('data/train\\\\BROWN ARGUS\\\\116.jpg', 5), ('data/train\\\\BROWN ARGUS\\\\047.jpg', 5), ('data/train\\\\BROWN ARGUS\\\\169.jpg', 5), ('data/train\\\\BROWN ARGUS\\\\006.jpg', 5), ('data/train\\\\BROWN ARGUS\\\\017.jpg', 5), ('data/train\\\\BROWN ARGUS\\\\111.jpg', 5), ('data/train\\\\BROWN ARGUS\\\\038.jpg', 5), ('data/train\\\\BROWN ARGUS\\\\095.jpg', 5), ('data/train\\\\BROWN ARGUS\\\\010.jpg', 5), ('data/train\\\\BROWN ARGUS\\\\039.jpg', 5), ('data/train\\\\BROWN ARGUS\\\\020.jpg', 5), ('data/train\\\\BROWN ARGUS\\\\029.jpg', 5), ('data/train\\\\BROWN ARGUS\\\\166.jpg', 5), ('data/train\\\\BROWN ARGUS\\\\110.jpg', 5), ('data/train\\\\BROWN ARGUS\\\\114.jpg', 5), ('data/train\\\\BROWN ARGUS\\\\042.jpg', 5), ('data/train\\\\BROWN ARGUS\\\\151.jpg', 5), ('data/train\\\\BROWN ARGUS\\\\034.jpg', 5), ('data/train\\\\BROWN ARGUS\\\\086.jpg', 5), ('data/train\\\\BROWN ARGUS\\\\001.jpg', 5), ('data/train\\\\BROWN ARGUS\\\\012.jpg', 5), ('data/train\\\\BROWN ARGUS\\\\071.jpg', 5), ('data/train\\\\BROWN ARGUS\\\\109.jpg', 5), ('data/train\\\\BROWN ARGUS\\\\024.jpg', 5), ('data/train\\\\BROWN ARGUS\\\\014.jpg', 5), ('data/train\\\\BROWN ARGUS\\\\065.jpg', 5), ('data/train\\\\BROWN ARGUS\\\\126.jpg', 5), ('data/train\\\\BROOKES BIRDWING\\\\042.jpg', 4), ('data/train\\\\BROOKES BIRDWING\\\\100.jpg', 4), ('data/train\\\\BROOKES BIRDWING\\\\149.jpg', 4), ('data/train\\\\BROOKES BIRDWING\\\\090.jpg', 4), ('data/train\\\\BROOKES BIRDWING\\\\114.jpg', 4), ('data/train\\\\BROOKES BIRDWING\\\\116.jpg', 4), ('data/train\\\\BROOKES BIRDWING\\\\098.jpg', 4), ('data/train\\\\BROOKES BIRDWING\\\\004.jpg', 4), ('data/train\\\\BROOKES BIRDWING\\\\155.jpg', 4), ('data/train\\\\BROOKES BIRDWING\\\\152.jpg', 4), ('data/train\\\\BROOKES BIRDWING\\\\016.jpg', 4), ('data/train\\\\BROOKES BIRDWING\\\\162.jpg', 4), ('data/train\\\\BROOKES BIRDWING\\\\111.jpg', 4), ('data/train\\\\BROOKES BIRDWING\\\\056.jpg', 4), ('data/train\\\\BROOKES BIRDWING\\\\017.jpg', 4), ('data/train\\\\BROOKES BIRDWING\\\\047.jpg', 4), ('data/train\\\\BROOKES BIRDWING\\\\014.jpg', 4), ('data/train\\\\BROOKES BIRDWING\\\\091.jpg', 4), ('data/train\\\\BROOKES BIRDWING\\\\075.jpg', 4), ('data/train\\\\BROOKES BIRDWING\\\\138.jpg', 4), ('data/train\\\\BROOKES BIRDWING\\\\161.jpg', 4), ('data/train\\\\BROOKES BIRDWING\\\\029.jpg', 4), ('data/train\\\\BROOKES BIRDWING\\\\153.jpg', 4), ('data/train\\\\BROOKES BIRDWING\\\\040.jpg', 4), ('data/train\\\\BROOKES BIRDWING\\\\135.jpg', 4), ('data/train\\\\BROOKES BIRDWING\\\\141.jpg', 4), ('data/train\\\\BROOKES BIRDWING\\\\130.jpg', 4), ('data/train\\\\BROOKES BIRDWING\\\\033.jpg', 4), ('data/train\\\\BROOKES BIRDWING\\\\076.jpg', 4), ('data/train\\\\BROOKES BIRDWING\\\\045.jpg', 4), ('data/train\\\\BROOKES BIRDWING\\\\005.jpg', 4), ('data/train\\\\BROOKES BIRDWING\\\\136.jpg', 4), ('data/train\\\\BROOKES BIRDWING\\\\006.jpg', 4), ('data/train\\\\BROOKES BIRDWING\\\\095.jpg', 4), ('data/train\\\\BROOKES BIRDWING\\\\087.jpg', 4), ('data/train\\\\BROOKES BIRDWING\\\\165.jpg', 4), ('data/train\\\\BROOKES BIRDWING\\\\052.jpg', 4), ('data/train\\\\BROOKES BIRDWING\\\\078.jpg', 4), ('data/train\\\\BROOKES BIRDWING\\\\102.jpg', 4), ('data/train\\\\BROOKES BIRDWING\\\\085.jpg', 4), ('data/train\\\\BROOKES BIRDWING\\\\026.jpg', 4), ('data/train\\\\BROOKES BIRDWING\\\\164.jpg', 4), ('data/train\\\\BROOKES BIRDWING\\\\059.jpg', 4), ('data/train\\\\BROOKES BIRDWING\\\\140.jpg', 4), ('data/train\\\\BROOKES BIRDWING\\\\163.jpg', 4), ('data/train\\\\BROOKES BIRDWING\\\\118.jpg', 4), ('data/train\\\\BROOKES BIRDWING\\\\084.jpg', 4), ('data/train\\\\BROOKES BIRDWING\\\\126.jpg', 4), ('data/train\\\\BROOKES BIRDWING\\\\143.jpg', 4), ('data/train\\\\BROOKES BIRDWING\\\\015.jpg', 4), ('data/train\\\\BROOKES BIRDWING\\\\039.jpg', 4), ('data/train\\\\BROOKES BIRDWING\\\\106.jpg', 4), ('data/train\\\\BROOKES BIRDWING\\\\094.jpg', 4), ('data/train\\\\BROOKES BIRDWING\\\\048.jpg', 4), ('data/train\\\\BROOKES BIRDWING\\\\089.jpg', 4), ('data/train\\\\BROOKES BIRDWING\\\\074.jpg', 4), ('data/train\\\\BROOKES BIRDWING\\\\069.jpg', 4), ('data/train\\\\BROOKES BIRDWING\\\\113.jpg', 4), ('data/train\\\\BROOKES BIRDWING\\\\025.jpg', 4), ('data/train\\\\BROOKES BIRDWING\\\\066.jpg', 4), ('data/train\\\\BROOKES BIRDWING\\\\157.jpg', 4), ('data/train\\\\BROOKES BIRDWING\\\\023.jpg', 4), ('data/train\\\\BROOKES BIRDWING\\\\112.jpg', 4), ('data/train\\\\BROOKES BIRDWING\\\\001.jpg', 4), ('data/train\\\\BROOKES BIRDWING\\\\062.jpg', 4), ('data/train\\\\BROOKES BIRDWING\\\\049.jpg', 4), ('data/train\\\\BROOKES BIRDWING\\\\003.jpg', 4), ('data/train\\\\BROOKES BIRDWING\\\\104.jpg', 4), ('data/train\\\\BROOKES BIRDWING\\\\125.jpg', 4), ('data/train\\\\BROOKES BIRDWING\\\\027.jpg', 4), ('data/train\\\\BROOKES BIRDWING\\\\008.jpg', 4), ('data/train\\\\BROOKES BIRDWING\\\\124.jpg', 4), ('data/train\\\\BROOKES BIRDWING\\\\060.jpg', 4), ('data/train\\\\BROOKES BIRDWING\\\\144.jpg', 4), ('data/train\\\\BROOKES BIRDWING\\\\088.jpg', 4), ('data/train\\\\BROOKES BIRDWING\\\\053.jpg', 4), ('data/train\\\\BROOKES BIRDWING\\\\054.jpg', 4), ('data/train\\\\BROOKES BIRDWING\\\\009.jpg', 4), ('data/train\\\\BROOKES BIRDWING\\\\139.jpg', 4), ('data/train\\\\BROOKES BIRDWING\\\\083.jpg', 4), ('data/train\\\\BROOKES BIRDWING\\\\146.jpg', 4), ('data/train\\\\BROOKES BIRDWING\\\\030.jpg', 4), ('data/train\\\\BROOKES BIRDWING\\\\020.jpg', 4), ('data/train\\\\BROOKES BIRDWING\\\\018.jpg', 4), ('data/train\\\\BROOKES BIRDWING\\\\011.jpg', 4), ('data/train\\\\BROOKES BIRDWING\\\\070.jpg', 4), ('data/train\\\\BROOKES BIRDWING\\\\123.jpg', 4), ('data/train\\\\BROOKES BIRDWING\\\\043.jpg', 4), ('data/train\\\\BROOKES BIRDWING\\\\129.jpg', 4), ('data/train\\\\BROOKES BIRDWING\\\\108.jpg', 4), ('data/train\\\\BROOKES BIRDWING\\\\037.jpg', 4), ('data/train\\\\BROOKES BIRDWING\\\\092.jpg', 4), ('data/train\\\\BROOKES BIRDWING\\\\010.jpg', 4), ('data/train\\\\BROOKES BIRDWING\\\\128.jpg', 4), ('data/train\\\\BROOKES BIRDWING\\\\101.jpg', 4), ('data/train\\\\BROOKES BIRDWING\\\\031.jpg', 4), ('data/train\\\\BROOKES BIRDWING\\\\081.jpg', 4), ('data/train\\\\BROOKES BIRDWING\\\\142.jpg', 4), ('data/train\\\\BROOKES BIRDWING\\\\067.jpg', 4), ('data/train\\\\BROOKES BIRDWING\\\\145.jpg', 4), ('data/train\\\\BROOKES BIRDWING\\\\036.jpg', 4), ('data/train\\\\BROOKES BIRDWING\\\\082.jpg', 4), ('data/train\\\\BROOKES BIRDWING\\\\131.jpg', 4), ('data/train\\\\BROOKES BIRDWING\\\\121.jpg', 4), ('data/train\\\\BROOKES BIRDWING\\\\034.jpg', 4), ('data/train\\\\BROOKES BIRDWING\\\\110.jpg', 4), ('data/train\\\\BROOKES BIRDWING\\\\158.jpg', 4), ('data/train\\\\BROOKES BIRDWING\\\\096.jpg', 4), ('data/train\\\\BROOKES BIRDWING\\\\021.jpg', 4), ('data/train\\\\BROOKES BIRDWING\\\\156.jpg', 4), ('data/train\\\\BROOKES BIRDWING\\\\071.jpg', 4), ('data/train\\\\BROOKES BIRDWING\\\\147.jpg', 4), ('data/train\\\\BROOKES BIRDWING\\\\055.jpg', 4), ('data/train\\\\BROOKES BIRDWING\\\\065.jpg', 4), ('data/train\\\\BROOKES BIRDWING\\\\120.jpg', 4), ('data/train\\\\BROOKES BIRDWING\\\\093.jpg', 4), ('data/train\\\\BROOKES BIRDWING\\\\105.jpg', 4), ('data/train\\\\BROOKES BIRDWING\\\\079.jpg', 4), ('data/train\\\\BROOKES BIRDWING\\\\137.jpg', 4), ('data/train\\\\BROOKES BIRDWING\\\\115.jpg', 4), ('data/train\\\\BROOKES BIRDWING\\\\097.jpg', 4), ('data/train\\\\BROOKES BIRDWING\\\\150.jpg', 4), ('data/train\\\\BROOKES BIRDWING\\\\041.jpg', 4), ('data/train\\\\BROOKES BIRDWING\\\\077.jpg', 4), ('data/train\\\\BROOKES BIRDWING\\\\072.jpg', 4), ('data/train\\\\BROOKES BIRDWING\\\\068.jpg', 4), ('data/train\\\\BROOKES BIRDWING\\\\160.jpg', 4), ('data/train\\\\BROOKES BIRDWING\\\\134.jpg', 4), ('data/train\\\\BROOKES BIRDWING\\\\035.jpg', 4), ('data/train\\\\BROOKES BIRDWING\\\\148.jpg', 4), ('data/train\\\\BROOKES BIRDWING\\\\032.jpg', 4), ('data/train\\\\BROOKES BIRDWING\\\\064.jpg', 4), ('data/train\\\\BROOKES BIRDWING\\\\013.jpg', 4), ('data/train\\\\BROOKES BIRDWING\\\\119.jpg', 4), ('data/train\\\\BROOKES BIRDWING\\\\133.jpg', 4), ('data/train\\\\BROOKES BIRDWING\\\\046.jpg', 4), ('data/train\\\\BROOKES BIRDWING\\\\057.jpg', 4), ('data/train\\\\BROOKES BIRDWING\\\\109.jpg', 4), ('data/train\\\\BROOKES BIRDWING\\\\028.jpg', 4), ('data/train\\\\BROOKES BIRDWING\\\\002.jpg', 4), ('data/train\\\\BROOKES BIRDWING\\\\154.jpg', 4), ('data/train\\\\BROOKES BIRDWING\\\\151.jpg', 4), ('data/train\\\\BROOKES BIRDWING\\\\103.jpg', 4), ('data/train\\\\BROOKES BIRDWING\\\\127.jpg', 4), ('data/train\\\\BROOKES BIRDWING\\\\099.jpg', 4), ('data/train\\\\SLEEPY ORANGE\\\\111.jpg', 18), ('data/train\\\\SLEEPY ORANGE\\\\142.jpg', 18), ('data/train\\\\SLEEPY ORANGE\\\\116.jpg', 18), ('data/train\\\\SLEEPY ORANGE\\\\093.jpg', 18), ('data/train\\\\SLEEPY ORANGE\\\\133.jpg', 18), ('data/train\\\\SLEEPY ORANGE\\\\118.jpg', 18), ('data/train\\\\SLEEPY ORANGE\\\\001.jpg', 18), ('data/train\\\\SLEEPY ORANGE\\\\086.jpg', 18), ('data/train\\\\SLEEPY ORANGE\\\\003.jpg', 18), ('data/train\\\\SLEEPY ORANGE\\\\089.jpg', 18), ('data/train\\\\SLEEPY ORANGE\\\\013.jpg', 18), ('data/train\\\\SLEEPY ORANGE\\\\005.jpg', 18), ('data/train\\\\SLEEPY ORANGE\\\\061.jpg', 18), ('data/train\\\\SLEEPY ORANGE\\\\108.jpg', 18), ('data/train\\\\SLEEPY ORANGE\\\\050.jpg', 18), ('data/train\\\\SLEEPY ORANGE\\\\152.jpg', 18), ('data/train\\\\SLEEPY ORANGE\\\\017.jpg', 18), ('data/train\\\\SLEEPY ORANGE\\\\150.jpg', 18), ('data/train\\\\SLEEPY ORANGE\\\\099.jpg', 18), ('data/train\\\\SLEEPY ORANGE\\\\021.jpg', 18), ('data/train\\\\SLEEPY ORANGE\\\\053.jpg', 18), ('data/train\\\\SLEEPY ORANGE\\\\135.jpg', 18), ('data/train\\\\SLEEPY ORANGE\\\\052.jpg', 18), ('data/train\\\\SLEEPY ORANGE\\\\039.jpg', 18), ('data/train\\\\SLEEPY ORANGE\\\\090.jpg', 18), ('data/train\\\\SLEEPY ORANGE\\\\137.jpg', 18), ('data/train\\\\SLEEPY ORANGE\\\\041.jpg', 18), ('data/train\\\\SLEEPY ORANGE\\\\077.jpg', 18), ('data/train\\\\SLEEPY ORANGE\\\\008.jpg', 18), ('data/train\\\\SLEEPY ORANGE\\\\117.jpg', 18), ('data/train\\\\SLEEPY ORANGE\\\\010.jpg', 18), ('data/train\\\\SLEEPY ORANGE\\\\018.jpg', 18), ('data/train\\\\SLEEPY ORANGE\\\\141.jpg', 18), ('data/train\\\\SLEEPY ORANGE\\\\037.jpg', 18), ('data/train\\\\SLEEPY ORANGE\\\\022.jpg', 18), ('data/train\\\\SLEEPY ORANGE\\\\072.jpg', 18), ('data/train\\\\SLEEPY ORANGE\\\\100.jpg', 18), ('data/train\\\\SLEEPY ORANGE\\\\070.jpg', 18), ('data/train\\\\SLEEPY ORANGE\\\\104.jpg', 18), ('data/train\\\\SLEEPY ORANGE\\\\147.jpg', 18), ('data/train\\\\SLEEPY ORANGE\\\\074.jpg', 18), ('data/train\\\\SLEEPY ORANGE\\\\038.jpg', 18), ('data/train\\\\SLEEPY ORANGE\\\\127.jpg', 18), ('data/train\\\\SLEEPY ORANGE\\\\057.jpg', 18), ('data/train\\\\SLEEPY ORANGE\\\\103.jpg', 18), ('data/train\\\\SLEEPY ORANGE\\\\026.jpg', 18), ('data/train\\\\SLEEPY ORANGE\\\\015.jpg', 18), ('data/train\\\\SLEEPY ORANGE\\\\019.jpg', 18), ('data/train\\\\SLEEPY ORANGE\\\\123.jpg', 18), ('data/train\\\\SLEEPY ORANGE\\\\144.jpg', 18), ('data/train\\\\SLEEPY ORANGE\\\\029.jpg', 18), ('data/train\\\\SLEEPY ORANGE\\\\105.jpg', 18), ('data/train\\\\SLEEPY ORANGE\\\\071.jpg', 18), ('data/train\\\\SLEEPY ORANGE\\\\075.jpg', 18), ('data/train\\\\SLEEPY ORANGE\\\\128.jpg', 18), ('data/train\\\\SLEEPY ORANGE\\\\149.jpg', 18), ('data/train\\\\SLEEPY ORANGE\\\\081.jpg', 18), ('data/train\\\\SLEEPY ORANGE\\\\136.jpg', 18), ('data/train\\\\SLEEPY ORANGE\\\\098.jpg', 18), ('data/train\\\\SLEEPY ORANGE\\\\115.jpg', 18), ('data/train\\\\SLEEPY ORANGE\\\\130.jpg', 18), ('data/train\\\\SLEEPY ORANGE\\\\110.jpg', 18), ('data/train\\\\SLEEPY ORANGE\\\\016.jpg', 18), ('data/train\\\\SLEEPY ORANGE\\\\011.jpg', 18), ('data/train\\\\SLEEPY ORANGE\\\\025.jpg', 18), ('data/train\\\\SLEEPY ORANGE\\\\113.jpg', 18), ('data/train\\\\SLEEPY ORANGE\\\\068.jpg', 18), ('data/train\\\\SLEEPY ORANGE\\\\119.jpg', 18), ('data/train\\\\SLEEPY ORANGE\\\\129.jpg', 18), ('data/train\\\\SLEEPY ORANGE\\\\034.jpg', 18), ('data/train\\\\SLEEPY ORANGE\\\\046.jpg', 18), ('data/train\\\\SLEEPY ORANGE\\\\138.jpg', 18), ('data/train\\\\SLEEPY ORANGE\\\\112.jpg', 18), ('data/train\\\\SLEEPY ORANGE\\\\024.jpg', 18), ('data/train\\\\SLEEPY ORANGE\\\\088.jpg', 18), ('data/train\\\\SLEEPY ORANGE\\\\064.jpg', 18), ('data/train\\\\SLEEPY ORANGE\\\\004.jpg', 18), ('data/train\\\\SLEEPY ORANGE\\\\114.jpg', 18), ('data/train\\\\SLEEPY ORANGE\\\\049.jpg', 18), ('data/train\\\\SLEEPY ORANGE\\\\143.jpg', 18), ('data/train\\\\SLEEPY ORANGE\\\\125.jpg', 18), ('data/train\\\\SLEEPY ORANGE\\\\092.jpg', 18), ('data/train\\\\SLEEPY ORANGE\\\\087.jpg', 18), ('data/train\\\\SLEEPY ORANGE\\\\058.jpg', 18), ('data/train\\\\SLEEPY ORANGE\\\\036.jpg', 18), ('data/train\\\\SLEEPY ORANGE\\\\012.jpg', 18), ('data/train\\\\SLEEPY ORANGE\\\\032.jpg', 18), ('data/train\\\\SLEEPY ORANGE\\\\140.jpg', 18), ('data/train\\\\SLEEPY ORANGE\\\\096.jpg', 18), ('data/train\\\\SLEEPY ORANGE\\\\076.jpg', 18), ('data/train\\\\SLEEPY ORANGE\\\\124.jpg', 18), ('data/train\\\\SLEEPY ORANGE\\\\060.jpg', 18), ('data/train\\\\SLEEPY ORANGE\\\\151.jpg', 18), ('data/train\\\\SLEEPY ORANGE\\\\121.jpg', 18), ('data/train\\\\SLEEPY ORANGE\\\\079.jpg', 18), ('data/train\\\\SLEEPY ORANGE\\\\035.jpg', 18), ('data/train\\\\SLEEPY ORANGE\\\\084.jpg', 18), ('data/train\\\\SLEEPY ORANGE\\\\067.jpg', 18), ('data/train\\\\SLEEPY ORANGE\\\\094.jpg', 18), ('data/train\\\\SLEEPY ORANGE\\\\023.jpg', 18), ('data/train\\\\SLEEPY ORANGE\\\\107.jpg', 18), ('data/train\\\\SLEEPY ORANGE\\\\132.jpg', 18), ('data/train\\\\SLEEPY ORANGE\\\\091.jpg', 18), ('data/train\\\\SLEEPY ORANGE\\\\059.jpg', 18), ('data/train\\\\SLEEPY ORANGE\\\\082.jpg', 18), ('data/train\\\\SLEEPY ORANGE\\\\047.jpg', 18), ('data/train\\\\SLEEPY ORANGE\\\\146.jpg', 18), ('data/train\\\\SLEEPY ORANGE\\\\014.jpg', 18), ('data/train\\\\SLEEPY ORANGE\\\\131.jpg', 18), ('data/train\\\\SLEEPY ORANGE\\\\106.jpg', 18), ('data/train\\\\SLEEPY ORANGE\\\\054.jpg', 18), ('data/train\\\\SLEEPY ORANGE\\\\109.jpg', 18), ('data/train\\\\SLEEPY ORANGE\\\\002.jpg', 18), ('data/train\\\\SLEEPY ORANGE\\\\044.jpg', 18), ('data/train\\\\SLEEPY ORANGE\\\\083.jpg', 18), ('data/train\\\\SLEEPY ORANGE\\\\065.jpg', 18), ('data/train\\\\SLEEPY ORANGE\\\\009.jpg', 18), ('data/train\\\\SLEEPY ORANGE\\\\048.jpg', 18), ('data/train\\\\SLEEPY ORANGE\\\\085.jpg', 18), ('data/train\\\\SLEEPY ORANGE\\\\055.jpg', 18), ('data/train\\\\SLEEPY ORANGE\\\\069.jpg', 18), ('data/train\\\\SLEEPY ORANGE\\\\045.jpg', 18), ('data/train\\\\SLEEPY ORANGE\\\\153.jpg', 18), ('data/train\\\\SLEEPY ORANGE\\\\101.jpg', 18), ('data/train\\\\SLEEPY ORANGE\\\\073.jpg', 18), ('data/train\\\\SLEEPY ORANGE\\\\126.jpg', 18), ('data/train\\\\SLEEPY ORANGE\\\\134.jpg', 18), ('data/train\\\\SLEEPY ORANGE\\\\031.jpg', 18), ('data/train\\\\SLEEPY ORANGE\\\\078.jpg', 18), ('data/train\\\\SLEEPY ORANGE\\\\027.jpg', 18), ('data/train\\\\SLEEPY ORANGE\\\\063.jpg', 18), ('data/train\\\\SLEEPY ORANGE\\\\020.jpg', 18), ('data/train\\\\SLEEPY ORANGE\\\\051.jpg', 18), ('data/train\\\\CHALK HILL BLUE\\\\117.jpg', 7), ('data/train\\\\CHALK HILL BLUE\\\\128.jpg', 7), ('data/train\\\\CHALK HILL BLUE\\\\096.jpg', 7), ('data/train\\\\CHALK HILL BLUE\\\\025.jpg', 7), ('data/train\\\\CHALK HILL BLUE\\\\024.jpg', 7), ('data/train\\\\CHALK HILL BLUE\\\\044.jpg', 7), ('data/train\\\\CHALK HILL BLUE\\\\060.jpg', 7), ('data/train\\\\CHALK HILL BLUE\\\\047.jpg', 7), ('data/train\\\\CHALK HILL BLUE\\\\012.jpg', 7), ('data/train\\\\CHALK HILL BLUE\\\\036.jpg', 7), ('data/train\\\\CHALK HILL BLUE\\\\050.jpg', 7), ('data/train\\\\CHALK HILL BLUE\\\\101.jpg', 7), ('data/train\\\\CHALK HILL BLUE\\\\007.jpg', 7), ('data/train\\\\CHALK HILL BLUE\\\\062.jpg', 7), ('data/train\\\\CHALK HILL BLUE\\\\115.jpg', 7), ('data/train\\\\CHALK HILL BLUE\\\\087.jpg', 7), ('data/train\\\\CHALK HILL BLUE\\\\041.jpg', 7), ('data/train\\\\CHALK HILL BLUE\\\\042.jpg', 7), ('data/train\\\\CHALK HILL BLUE\\\\119.jpg', 7), ('data/train\\\\CHALK HILL BLUE\\\\043.jpg', 7), ('data/train\\\\CHALK HILL BLUE\\\\070.jpg', 7), ('data/train\\\\CHALK HILL BLUE\\\\046.jpg', 7), ('data/train\\\\CHALK HILL BLUE\\\\009.jpg', 7), ('data/train\\\\CHALK HILL BLUE\\\\108.jpg', 7), ('data/train\\\\CHALK HILL BLUE\\\\083.jpg', 7), ('data/train\\\\CHALK HILL BLUE\\\\139.jpg', 7), ('data/train\\\\CHALK HILL BLUE\\\\052.jpg', 7), ('data/train\\\\CHALK HILL BLUE\\\\116.jpg', 7), ('data/train\\\\CHALK HILL BLUE\\\\097.jpg', 7), ('data/train\\\\CHALK HILL BLUE\\\\022.jpg', 7), ('data/train\\\\CHALK HILL BLUE\\\\138.jpg', 7), ('data/train\\\\CHALK HILL BLUE\\\\109.jpg', 7), ('data/train\\\\CHALK HILL BLUE\\\\056.jpg', 7), ('data/train\\\\CHALK HILL BLUE\\\\002.jpg', 7), ('data/train\\\\CHALK HILL BLUE\\\\132.jpg', 7), ('data/train\\\\CHALK HILL BLUE\\\\084.jpg', 7), ('data/train\\\\CHALK HILL BLUE\\\\093.jpg', 7), ('data/train\\\\CHALK HILL BLUE\\\\003.jpg', 7), ('data/train\\\\CHALK HILL BLUE\\\\006.jpg', 7), ('data/train\\\\CHALK HILL BLUE\\\\094.jpg', 7), ('data/train\\\\CHALK HILL BLUE\\\\120.jpg', 7), ('data/train\\\\CHALK HILL BLUE\\\\064.jpg', 7), ('data/train\\\\CHALK HILL BLUE\\\\146.jpg', 7), ('data/train\\\\CHALK HILL BLUE\\\\018.jpg', 7), ('data/train\\\\CHALK HILL BLUE\\\\069.jpg', 7), ('data/train\\\\CHALK HILL BLUE\\\\068.jpg', 7), ('data/train\\\\CHALK HILL BLUE\\\\106.jpg', 7), ('data/train\\\\CHALK HILL BLUE\\\\045.jpg', 7), ('data/train\\\\CHALK HILL BLUE\\\\086.jpg', 7), ('data/train\\\\CHALK HILL BLUE\\\\099.jpg', 7), ('data/train\\\\CHALK HILL BLUE\\\\066.jpg', 7), ('data/train\\\\CHALK HILL BLUE\\\\129.jpg', 7), ('data/train\\\\CHALK HILL BLUE\\\\074.jpg', 7), ('data/train\\\\CHALK HILL BLUE\\\\063.jpg', 7), ('data/train\\\\CHALK HILL BLUE\\\\137.jpg', 7), ('data/train\\\\CHALK HILL BLUE\\\\105.jpg', 7), ('data/train\\\\CHALK HILL BLUE\\\\135.jpg', 7), ('data/train\\\\CHALK HILL BLUE\\\\051.jpg', 7), ('data/train\\\\CHALK HILL BLUE\\\\090.jpg', 7), ('data/train\\\\CHALK HILL BLUE\\\\143.jpg', 7), ('data/train\\\\CHALK HILL BLUE\\\\110.jpg', 7), ('data/train\\\\CHALK HILL BLUE\\\\118.jpg', 7), ('data/train\\\\CHALK HILL BLUE\\\\082.jpg', 7), ('data/train\\\\CHALK HILL BLUE\\\\035.jpg', 7), ('data/train\\\\CHALK HILL BLUE\\\\130.jpg', 7), ('data/train\\\\CHALK HILL BLUE\\\\111.jpg', 7), ('data/train\\\\CHALK HILL BLUE\\\\015.jpg', 7), ('data/train\\\\CHALK HILL BLUE\\\\131.jpg', 7), ('data/train\\\\CHALK HILL BLUE\\\\026.jpg', 7), ('data/train\\\\CHALK HILL BLUE\\\\092.jpg', 7), ('data/train\\\\CHALK HILL BLUE\\\\125.jpg', 7), ('data/train\\\\CHALK HILL BLUE\\\\091.jpg', 7), ('data/train\\\\CHALK HILL BLUE\\\\059.jpg', 7), ('data/train\\\\CHALK HILL BLUE\\\\147.jpg', 7), ('data/train\\\\CHALK HILL BLUE\\\\037.jpg', 7), ('data/train\\\\CHALK HILL BLUE\\\\133.jpg', 7), ('data/train\\\\CHALK HILL BLUE\\\\005.jpg', 7), ('data/train\\\\CHALK HILL BLUE\\\\038.jpg', 7), ('data/train\\\\CHALK HILL BLUE\\\\061.jpg', 7), ('data/train\\\\CHALK HILL BLUE\\\\114.jpg', 7), ('data/train\\\\CHALK HILL BLUE\\\\107.jpg', 7), ('data/train\\\\CHALK HILL BLUE\\\\053.jpg', 7), ('data/train\\\\CHALK HILL BLUE\\\\001.jpg', 7), ('data/train\\\\CHALK HILL BLUE\\\\089.jpg', 7), ('data/train\\\\CHALK HILL BLUE\\\\010.jpg', 7), ('data/train\\\\CHALK HILL BLUE\\\\071.jpg', 7), ('data/train\\\\CHALK HILL BLUE\\\\023.jpg', 7), ('data/train\\\\CHALK HILL BLUE\\\\031.jpg', 7), ('data/train\\\\CHALK HILL BLUE\\\\021.jpg', 7), ('data/train\\\\CHALK HILL BLUE\\\\141.jpg', 7), ('data/train\\\\CHALK HILL BLUE\\\\085.jpg', 7), ('data/train\\\\CHALK HILL BLUE\\\\034.jpg', 7), ('data/train\\\\CHALK HILL BLUE\\\\028.jpg', 7), ('data/train\\\\CHALK HILL BLUE\\\\081.jpg', 7), ('data/train\\\\CHALK HILL BLUE\\\\144.jpg', 7), ('data/train\\\\CHALK HILL BLUE\\\\013.jpg', 7), ('data/train\\\\CHALK HILL BLUE\\\\095.jpg', 7), ('data/train\\\\CHALK HILL BLUE\\\\079.jpg', 7), ('data/train\\\\CHALK HILL BLUE\\\\008.jpg', 7), ('data/train\\\\CHALK HILL BLUE\\\\112.jpg', 7), ('data/train\\\\CHALK HILL BLUE\\\\124.jpg', 7), ('data/train\\\\CHALK HILL BLUE\\\\040.jpg', 7), ('data/train\\\\CHALK HILL BLUE\\\\055.jpg', 7), ('data/train\\\\CHALK HILL BLUE\\\\076.jpg', 7), ('data/train\\\\CHALK HILL BLUE\\\\134.jpg', 7), ('data/train\\\\CHALK HILL BLUE\\\\057.jpg', 7), ('data/train\\\\CHALK HILL BLUE\\\\058.jpg', 7), ('data/train\\\\CHALK HILL BLUE\\\\049.jpg', 7), ('data/train\\\\CHALK HILL BLUE\\\\067.jpg', 7), ('data/train\\\\CHALK HILL BLUE\\\\100.jpg', 7), ('data/train\\\\CHALK HILL BLUE\\\\029.jpg', 7), ('data/train\\\\CHALK HILL BLUE\\\\080.jpg', 7), ('data/train\\\\CHALK HILL BLUE\\\\102.jpg', 7), ('data/train\\\\CHALK HILL BLUE\\\\077.jpg', 7), ('data/train\\\\CHALK HILL BLUE\\\\078.jpg', 7), ('data/train\\\\CHALK HILL BLUE\\\\054.jpg', 7), ('data/train\\\\CHALK HILL BLUE\\\\098.jpg', 7), ('data/train\\\\CHALK HILL BLUE\\\\072.jpg', 7), ('data/train\\\\CHALK HILL BLUE\\\\016.jpg', 7), ('data/train\\\\CHALK HILL BLUE\\\\032.jpg', 7), ('data/train\\\\CHALK HILL BLUE\\\\011.jpg', 7), ('data/train\\\\CHALK HILL BLUE\\\\039.jpg', 7), ('data/train\\\\CHALK HILL BLUE\\\\122.jpg', 7), ('data/train\\\\CHALK HILL BLUE\\\\148.jpg', 7), ('data/train\\\\CHALK HILL BLUE\\\\104.jpg', 7), ('data/train\\\\CHALK HILL BLUE\\\\127.jpg', 7), ('data/train\\\\CHALK HILL BLUE\\\\020.jpg', 7), ('data/train\\\\CHALK HILL BLUE\\\\136.jpg', 7), ('data/train\\\\CHALK HILL BLUE\\\\019.jpg', 7), ('data/train\\\\ATALA\\\\096.jpg', 1), ('data/train\\\\ATALA\\\\108.jpg', 1), ('data/train\\\\ATALA\\\\058.jpg', 1), ('data/train\\\\ATALA\\\\043.jpg', 1), ('data/train\\\\ATALA\\\\099.jpg', 1), ('data/train\\\\ATALA\\\\101.jpg', 1), ('data/train\\\\ATALA\\\\093.jpg', 1), ('data/train\\\\ATALA\\\\028.jpg', 1), ('data/train\\\\ATALA\\\\075.jpg', 1), ('data/train\\\\ATALA\\\\008.jpg', 1), ('data/train\\\\ATALA\\\\006.jpg', 1), ('data/train\\\\ATALA\\\\076.jpg', 1), ('data/train\\\\ATALA\\\\089.jpg', 1), ('data/train\\\\ATALA\\\\046.jpg', 1), ('data/train\\\\ATALA\\\\041.jpg', 1), ('data/train\\\\ATALA\\\\079.jpg', 1), ('data/train\\\\ATALA\\\\056.jpg', 1), ('data/train\\\\ATALA\\\\052.jpg', 1), ('data/train\\\\ATALA\\\\011.jpg', 1), ('data/train\\\\ATALA\\\\112.jpg', 1), ('data/train\\\\ATALA\\\\129.jpg', 1), ('data/train\\\\ATALA\\\\088.jpg', 1), ('data/train\\\\ATALA\\\\026.jpg', 1), ('data/train\\\\ATALA\\\\124.jpg', 1), ('data/train\\\\ATALA\\\\128.jpg', 1), ('data/train\\\\ATALA\\\\005.jpg', 1), ('data/train\\\\ATALA\\\\024.jpg', 1), ('data/train\\\\ATALA\\\\068.jpg', 1), ('data/train\\\\ATALA\\\\125.jpg', 1), ('data/train\\\\ATALA\\\\072.jpg', 1), ('data/train\\\\ATALA\\\\114.jpg', 1), ('data/train\\\\ATALA\\\\034.jpg', 1), ('data/train\\\\ATALA\\\\070.jpg', 1), ('data/train\\\\ATALA\\\\118.jpg', 1), ('data/train\\\\ATALA\\\\107.jpg', 1), ('data/train\\\\ATALA\\\\033.jpg', 1), ('data/train\\\\ATALA\\\\141.jpg', 1), ('data/train\\\\ATALA\\\\051.jpg', 1), ('data/train\\\\ATALA\\\\082.jpg', 1), ('data/train\\\\ATALA\\\\139.jpg', 1), ('data/train\\\\ATALA\\\\042.jpg', 1), ('data/train\\\\ATALA\\\\048.jpg', 1), ('data/train\\\\ATALA\\\\105.jpg', 1), ('data/train\\\\ATALA\\\\123.jpg', 1), ('data/train\\\\ATALA\\\\003.jpg', 1), ('data/train\\\\ATALA\\\\138.jpg', 1), ('data/train\\\\ATALA\\\\094.jpg', 1), ('data/train\\\\ATALA\\\\055.jpg', 1), ('data/train\\\\ATALA\\\\126.jpg', 1), ('data/train\\\\ATALA\\\\092.jpg', 1), ('data/train\\\\ATALA\\\\045.jpg', 1), ('data/train\\\\ATALA\\\\013.jpg', 1), ('data/train\\\\ATALA\\\\102.jpg', 1), ('data/train\\\\ATALA\\\\133.jpg', 1), ('data/train\\\\ATALA\\\\077.jpg', 1), ('data/train\\\\ATALA\\\\084.jpg', 1), ('data/train\\\\ATALA\\\\049.jpg', 1), ('data/train\\\\ATALA\\\\073.jpg', 1), ('data/train\\\\ATALA\\\\022.jpg', 1), ('data/train\\\\ATALA\\\\137.jpg', 1), ('data/train\\\\ATALA\\\\132.jpg', 1), ('data/train\\\\ATALA\\\\069.jpg', 1), ('data/train\\\\ATALA\\\\095.jpg', 1), ('data/train\\\\ATALA\\\\111.jpg', 1), ('data/train\\\\ATALA\\\\110.jpg', 1), ('data/train\\\\ATALA\\\\039.jpg', 1), ('data/train\\\\ATALA\\\\113.jpg', 1), ('data/train\\\\ATALA\\\\131.jpg', 1), ('data/train\\\\ATALA\\\\086.jpg', 1), ('data/train\\\\ATALA\\\\135.jpg', 1), ('data/train\\\\ATALA\\\\044.jpg', 1), ('data/train\\\\ATALA\\\\085.jpg', 1), ('data/train\\\\ATALA\\\\036.jpg', 1), ('data/train\\\\ATALA\\\\009.jpg', 1), ('data/train\\\\ATALA\\\\018.jpg', 1), ('data/train\\\\ATALA\\\\087.jpg', 1), ('data/train\\\\ATALA\\\\142.jpg', 1), ('data/train\\\\ATALA\\\\050.jpg', 1), ('data/train\\\\ATALA\\\\019.jpg', 1), ('data/train\\\\ATALA\\\\130.jpg', 1), ('data/train\\\\ATALA\\\\059.jpg', 1), ('data/train\\\\ATALA\\\\032.jpg', 1), ('data/train\\\\ATALA\\\\061.jpg', 1), ('data/train\\\\ATALA\\\\062.jpg', 1), ('data/train\\\\ATALA\\\\054.jpg', 1), ('data/train\\\\ATALA\\\\116.jpg', 1), ('data/train\\\\ATALA\\\\066.jpg', 1), ('data/train\\\\ATALA\\\\038.jpg', 1), ('data/train\\\\ATALA\\\\122.jpg', 1), ('data/train\\\\ATALA\\\\020.jpg', 1), ('data/train\\\\ATALA\\\\134.jpg', 1), ('data/train\\\\ATALA\\\\109.jpg', 1), ('data/train\\\\ATALA\\\\060.jpg', 1), ('data/train\\\\ATALA\\\\015.jpg', 1), ('data/train\\\\ATALA\\\\029.jpg', 1), ('data/train\\\\ATALA\\\\012.jpg', 1), ('data/train\\\\ATALA\\\\053.jpg', 1), ('data/train\\\\ATALA\\\\100.jpg', 1), ('data/train\\\\ATALA\\\\002.jpg', 1), ('data/train\\\\ATALA\\\\115.jpg', 1), ('data/train\\\\ATALA\\\\040.jpg', 1), ('data/train\\\\ATALA\\\\021.jpg', 1), ('data/train\\\\ATALA\\\\091.jpg', 1), ('data/train\\\\ATALA\\\\031.jpg', 1), ('data/train\\\\ATALA\\\\140.jpg', 1), ('data/train\\\\ATALA\\\\078.jpg', 1), ('data/train\\\\ATALA\\\\121.jpg', 1), ('data/train\\\\ATALA\\\\004.jpg', 1), ('data/train\\\\ATALA\\\\016.jpg', 1), ('data/train\\\\ATALA\\\\063.jpg', 1), ('data/train\\\\ATALA\\\\090.jpg', 1), ('data/train\\\\ATALA\\\\120.jpg', 1), ('data/train\\\\ATALA\\\\037.jpg', 1), ('data/train\\\\ATALA\\\\017.jpg', 1), ('data/train\\\\ATALA\\\\071.jpg', 1), ('data/train\\\\ATALA\\\\035.jpg', 1), ('data/train\\\\ATALA\\\\027.jpg', 1), ('data/train\\\\ATALA\\\\007.jpg', 1), ('data/train\\\\ATALA\\\\098.jpg', 1), ('data/train\\\\ATALA\\\\057.jpg', 1), ('data/train\\\\ATALA\\\\136.jpg', 1), ('data/train\\\\ATALA\\\\064.jpg', 1), ('data/train\\\\ATALA\\\\097.jpg', 1), ('data/train\\\\HUMMING BIRD HAWK MOTH\\\\028.jpg', 11), ('data/train\\\\HUMMING BIRD HAWK MOTH\\\\069.jpg', 11), ('data/train\\\\HUMMING BIRD HAWK MOTH\\\\120.jpg', 11), ('data/train\\\\HUMMING BIRD HAWK MOTH\\\\121.jpg', 11), ('data/train\\\\HUMMING BIRD HAWK MOTH\\\\091.jpg', 11), ('data/train\\\\HUMMING BIRD HAWK MOTH\\\\067.jpg', 11), ('data/train\\\\HUMMING BIRD HAWK MOTH\\\\048.jpg', 11), ('data/train\\\\HUMMING BIRD HAWK MOTH\\\\032.jpg', 11), ('data/train\\\\HUMMING BIRD HAWK MOTH\\\\128.jpg', 11), ('data/train\\\\HUMMING BIRD HAWK MOTH\\\\099.jpg', 11), ('data/train\\\\HUMMING BIRD HAWK MOTH\\\\125.jpg', 11), ('data/train\\\\HUMMING BIRD HAWK MOTH\\\\001.jpg', 11), ('data/train\\\\HUMMING BIRD HAWK MOTH\\\\052.jpg', 11), ('data/train\\\\HUMMING BIRD HAWK MOTH\\\\083.jpg', 11), ('data/train\\\\HUMMING BIRD HAWK MOTH\\\\071.jpg', 11), ('data/train\\\\HUMMING BIRD HAWK MOTH\\\\094.jpg', 11), ('data/train\\\\HUMMING BIRD HAWK MOTH\\\\127.jpg', 11), ('data/train\\\\HUMMING BIRD HAWK MOTH\\\\137.jpg', 11), ('data/train\\\\HUMMING BIRD HAWK MOTH\\\\005.jpg', 11), ('data/train\\\\HUMMING BIRD HAWK MOTH\\\\066.jpg', 11), ('data/train\\\\HUMMING BIRD HAWK MOTH\\\\134.jpg', 11), ('data/train\\\\HUMMING BIRD HAWK MOTH\\\\004.jpg', 11), ('data/train\\\\HUMMING BIRD HAWK MOTH\\\\119.jpg', 11), ('data/train\\\\HUMMING BIRD HAWK MOTH\\\\034.jpg', 11), ('data/train\\\\HUMMING BIRD HAWK MOTH\\\\131.jpg', 11), ('data/train\\\\HUMMING BIRD HAWK MOTH\\\\085.jpg', 11), ('data/train\\\\HUMMING BIRD HAWK MOTH\\\\016.jpg', 11), ('data/train\\\\HUMMING BIRD HAWK MOTH\\\\081.jpg', 11), ('data/train\\\\HUMMING BIRD HAWK MOTH\\\\072.jpg', 11), ('data/train\\\\HUMMING BIRD HAWK MOTH\\\\058.jpg', 11), ('data/train\\\\HUMMING BIRD HAWK MOTH\\\\103.jpg', 11), ('data/train\\\\HUMMING BIRD HAWK MOTH\\\\018.jpg', 11), ('data/train\\\\HUMMING BIRD HAWK MOTH\\\\140.jpg', 11), ('data/train\\\\HUMMING BIRD HAWK MOTH\\\\056.jpg', 11), ('data/train\\\\HUMMING BIRD HAWK MOTH\\\\035.jpg', 11), ('data/train\\\\HUMMING BIRD HAWK MOTH\\\\095.jpg', 11), ('data/train\\\\HUMMING BIRD HAWK MOTH\\\\013.jpg', 11), ('data/train\\\\HUMMING BIRD HAWK MOTH\\\\136.jpg', 11), ('data/train\\\\HUMMING BIRD HAWK MOTH\\\\027.jpg', 11), ('data/train\\\\HUMMING BIRD HAWK MOTH\\\\097.jpg', 11), ('data/train\\\\HUMMING BIRD HAWK MOTH\\\\110.jpg', 11), ('data/train\\\\HUMMING BIRD HAWK MOTH\\\\006.jpg', 11), ('data/train\\\\HUMMING BIRD HAWK MOTH\\\\090.jpg', 11), ('data/train\\\\HUMMING BIRD HAWK MOTH\\\\122.jpg', 11), ('data/train\\\\HUMMING BIRD HAWK MOTH\\\\130.jpg', 11), ('data/train\\\\HUMMING BIRD HAWK MOTH\\\\101.jpg', 11), ('data/train\\\\HUMMING BIRD HAWK MOTH\\\\065.jpg', 11), ('data/train\\\\HUMMING BIRD HAWK MOTH\\\\020.jpg', 11), ('data/train\\\\HUMMING BIRD HAWK MOTH\\\\138.jpg', 11), ('data/train\\\\HUMMING BIRD HAWK MOTH\\\\042.jpg', 11), ('data/train\\\\HUMMING BIRD HAWK MOTH\\\\126.jpg', 11), ('data/train\\\\HUMMING BIRD HAWK MOTH\\\\098.jpg', 11), ('data/train\\\\HUMMING BIRD HAWK MOTH\\\\041.jpg', 11), ('data/train\\\\HUMMING BIRD HAWK MOTH\\\\009.jpg', 11), ('data/train\\\\HUMMING BIRD HAWK MOTH\\\\054.jpg', 11), ('data/train\\\\HUMMING BIRD HAWK MOTH\\\\061.jpg', 11), ('data/train\\\\HUMMING BIRD HAWK MOTH\\\\139.jpg', 11), ('data/train\\\\HUMMING BIRD HAWK MOTH\\\\135.jpg', 11), ('data/train\\\\HUMMING BIRD HAWK MOTH\\\\047.jpg', 11), ('data/train\\\\HUMMING BIRD HAWK MOTH\\\\115.jpg', 11), ('data/train\\\\HUMMING BIRD HAWK MOTH\\\\044.jpg', 11), ('data/train\\\\HUMMING BIRD HAWK MOTH\\\\017.jpg', 11), ('data/train\\\\HUMMING BIRD HAWK MOTH\\\\040.jpg', 11), ('data/train\\\\HUMMING BIRD HAWK MOTH\\\\025.jpg', 11), ('data/train\\\\HUMMING BIRD HAWK MOTH\\\\029.jpg', 11), ('data/train\\\\HUMMING BIRD HAWK MOTH\\\\078.jpg', 11), ('data/train\\\\HUMMING BIRD HAWK MOTH\\\\109.jpg', 11), ('data/train\\\\HUMMING BIRD HAWK MOTH\\\\100.jpg', 11), ('data/train\\\\HUMMING BIRD HAWK MOTH\\\\117.jpg', 11), ('data/train\\\\HUMMING BIRD HAWK MOTH\\\\007.jpg', 11), ('data/train\\\\HUMMING BIRD HAWK MOTH\\\\123.jpg', 11), ('data/train\\\\HUMMING BIRD HAWK MOTH\\\\036.jpg', 11), ('data/train\\\\HUMMING BIRD HAWK MOTH\\\\051.jpg', 11), ('data/train\\\\HUMMING BIRD HAWK MOTH\\\\003.jpg', 11), ('data/train\\\\HUMMING BIRD HAWK MOTH\\\\093.jpg', 11), ('data/train\\\\HUMMING BIRD HAWK MOTH\\\\129.jpg', 11), ('data/train\\\\HUMMING BIRD HAWK MOTH\\\\118.jpg', 11), ('data/train\\\\HUMMING BIRD HAWK MOTH\\\\046.jpg', 11), ('data/train\\\\HUMMING BIRD HAWK MOTH\\\\074.jpg', 11), ('data/train\\\\HUMMING BIRD HAWK MOTH\\\\116.jpg', 11), ('data/train\\\\HUMMING BIRD HAWK MOTH\\\\113.jpg', 11), ('data/train\\\\HUMMING BIRD HAWK MOTH\\\\014.jpg', 11), ('data/train\\\\HUMMING BIRD HAWK MOTH\\\\062.jpg', 11), ('data/train\\\\HUMMING BIRD HAWK MOTH\\\\050.jpg', 11), ('data/train\\\\HUMMING BIRD HAWK MOTH\\\\141.jpg', 11), ('data/train\\\\HUMMING BIRD HAWK MOTH\\\\132.jpg', 11), ('data/train\\\\HUMMING BIRD HAWK MOTH\\\\105.jpg', 11), ('data/train\\\\HUMMING BIRD HAWK MOTH\\\\104.jpg', 11), ('data/train\\\\HUMMING BIRD HAWK MOTH\\\\089.jpg', 11), ('data/train\\\\HUMMING BIRD HAWK MOTH\\\\055.jpg', 11), ('data/train\\\\HUMMING BIRD HAWK MOTH\\\\107.jpg', 11), ('data/train\\\\HUMMING BIRD HAWK MOTH\\\\039.jpg', 11), ('data/train\\\\HUMMING BIRD HAWK MOTH\\\\133.jpg', 11), ('data/train\\\\HUMMING BIRD HAWK MOTH\\\\045.jpg', 11), ('data/train\\\\HUMMING BIRD HAWK MOTH\\\\057.jpg', 11), ('data/train\\\\HUMMING BIRD HAWK MOTH\\\\010.jpg', 11), ('data/train\\\\HUMMING BIRD HAWK MOTH\\\\021.jpg', 11), ('data/train\\\\HUMMING BIRD HAWK MOTH\\\\070.jpg', 11), ('data/train\\\\HUMMING BIRD HAWK MOTH\\\\087.jpg', 11), ('data/train\\\\HUMMING BIRD HAWK MOTH\\\\037.jpg', 11), ('data/train\\\\HUMMING BIRD HAWK MOTH\\\\108.jpg', 11), ('data/train\\\\HUMMING BIRD HAWK MOTH\\\\002.jpg', 11), ('data/train\\\\HUMMING BIRD HAWK MOTH\\\\086.jpg', 11), ('data/train\\\\HUMMING BIRD HAWK MOTH\\\\106.jpg', 11), ('data/train\\\\HUMMING BIRD HAWK MOTH\\\\059.jpg', 11), ('data/train\\\\HUMMING BIRD HAWK MOTH\\\\033.jpg', 11), ('data/train\\\\HUMMING BIRD HAWK MOTH\\\\082.jpg', 11), ('data/train\\\\HUMMING BIRD HAWK MOTH\\\\060.jpg', 11), ('data/train\\\\HUMMING BIRD HAWK MOTH\\\\030.jpg', 11), ('data/train\\\\HUMMING BIRD HAWK MOTH\\\\019.jpg', 11), ('data/train\\\\HUMMING BIRD HAWK MOTH\\\\075.jpg', 11), ('data/train\\\\HUMMING BIRD HAWK MOTH\\\\064.jpg', 11), ('data/train\\\\HUMMING BIRD HAWK MOTH\\\\031.jpg', 11), ('data/train\\\\HUMMING BIRD HAWK MOTH\\\\124.jpg', 11), ('data/train\\\\HUMMING BIRD HAWK MOTH\\\\080.jpg', 11), ('data/train\\\\HUMMING BIRD HAWK MOTH\\\\049.jpg', 11), ('data/train\\\\HUMMING BIRD HAWK MOTH\\\\143.jpg', 11), ('data/train\\\\HUMMING BIRD HAWK MOTH\\\\079.jpg', 11), ('data/train\\\\HUMMING BIRD HAWK MOTH\\\\011.jpg', 11), ('data/train\\\\HUMMING BIRD HAWK MOTH\\\\023.jpg', 11), ('data/train\\\\HUMMING BIRD HAWK MOTH\\\\022.jpg', 11), ('data/train\\\\HUMMING BIRD HAWK MOTH\\\\024.jpg', 11), ('data/train\\\\HUMMING BIRD HAWK MOTH\\\\102.jpg', 11), ('data/train\\\\WHITE LINED SPHINX MOTH\\\\042.jpg', 19), ('data/train\\\\WHITE LINED SPHINX MOTH\\\\066.jpg', 19), ('data/train\\\\WHITE LINED SPHINX MOTH\\\\041.jpg', 19), ('data/train\\\\WHITE LINED SPHINX MOTH\\\\123.jpg', 19), ('data/train\\\\WHITE LINED SPHINX MOTH\\\\039.jpg', 19), ('data/train\\\\WHITE LINED SPHINX MOTH\\\\106.jpg', 19), ('data/train\\\\WHITE LINED SPHINX MOTH\\\\122.jpg', 19), ('data/train\\\\WHITE LINED SPHINX MOTH\\\\011.jpg', 19), ('data/train\\\\WHITE LINED SPHINX MOTH\\\\134.jpg', 19), ('data/train\\\\WHITE LINED SPHINX MOTH\\\\006.jpg', 19), ('data/train\\\\WHITE LINED SPHINX MOTH\\\\085.jpg', 19), ('data/train\\\\WHITE LINED SPHINX MOTH\\\\068.jpg', 19), ('data/train\\\\WHITE LINED SPHINX MOTH\\\\087.jpg', 19), ('data/train\\\\WHITE LINED SPHINX MOTH\\\\101.jpg', 19), ('data/train\\\\WHITE LINED SPHINX MOTH\\\\040.jpg', 19), ('data/train\\\\WHITE LINED SPHINX MOTH\\\\044.jpg', 19), ('data/train\\\\WHITE LINED SPHINX MOTH\\\\014.jpg', 19), ('data/train\\\\WHITE LINED SPHINX MOTH\\\\111.jpg', 19), ('data/train\\\\WHITE LINED SPHINX MOTH\\\\141.jpg', 19), ('data/train\\\\WHITE LINED SPHINX MOTH\\\\142.jpg', 19), ('data/train\\\\WHITE LINED SPHINX MOTH\\\\058.jpg', 19), ('data/train\\\\WHITE LINED SPHINX MOTH\\\\092.jpg', 19), ('data/train\\\\WHITE LINED SPHINX MOTH\\\\113.jpg', 19), ('data/train\\\\WHITE LINED SPHINX MOTH\\\\062.jpg', 19), ('data/train\\\\WHITE LINED SPHINX MOTH\\\\045.jpg', 19), ('data/train\\\\WHITE LINED SPHINX MOTH\\\\022.jpg', 19), ('data/train\\\\WHITE LINED SPHINX MOTH\\\\026.jpg', 19), ('data/train\\\\WHITE LINED SPHINX MOTH\\\\064.jpg', 19), ('data/train\\\\WHITE LINED SPHINX MOTH\\\\095.jpg', 19), ('data/train\\\\WHITE LINED SPHINX MOTH\\\\110.jpg', 19), ('data/train\\\\WHITE LINED SPHINX MOTH\\\\049.jpg', 19), ('data/train\\\\WHITE LINED SPHINX MOTH\\\\128.jpg', 19), ('data/train\\\\WHITE LINED SPHINX MOTH\\\\037.jpg', 19), ('data/train\\\\WHITE LINED SPHINX MOTH\\\\129.jpg', 19), ('data/train\\\\WHITE LINED SPHINX MOTH\\\\033.jpg', 19), ('data/train\\\\WHITE LINED SPHINX MOTH\\\\024.jpg', 19), ('data/train\\\\WHITE LINED SPHINX MOTH\\\\029.jpg', 19), ('data/train\\\\WHITE LINED SPHINX MOTH\\\\112.jpg', 19), ('data/train\\\\WHITE LINED SPHINX MOTH\\\\102.jpg', 19), ('data/train\\\\WHITE LINED SPHINX MOTH\\\\056.jpg', 19), ('data/train\\\\WHITE LINED SPHINX MOTH\\\\034.jpg', 19), ('data/train\\\\WHITE LINED SPHINX MOTH\\\\091.jpg', 19), ('data/train\\\\WHITE LINED SPHINX MOTH\\\\104.jpg', 19), ('data/train\\\\WHITE LINED SPHINX MOTH\\\\004.jpg', 19), ('data/train\\\\WHITE LINED SPHINX MOTH\\\\116.jpg', 19), ('data/train\\\\WHITE LINED SPHINX MOTH\\\\097.jpg', 19), ('data/train\\\\WHITE LINED SPHINX MOTH\\\\109.jpg', 19), ('data/train\\\\WHITE LINED SPHINX MOTH\\\\021.jpg', 19), ('data/train\\\\WHITE LINED SPHINX MOTH\\\\038.jpg', 19), ('data/train\\\\WHITE LINED SPHINX MOTH\\\\108.jpg', 19), ('data/train\\\\WHITE LINED SPHINX MOTH\\\\023.jpg', 19), ('data/train\\\\WHITE LINED SPHINX MOTH\\\\065.jpg', 19), ('data/train\\\\WHITE LINED SPHINX MOTH\\\\061.jpg', 19), ('data/train\\\\WHITE LINED SPHINX MOTH\\\\002.jpg', 19), ('data/train\\\\WHITE LINED SPHINX MOTH\\\\067.jpg', 19), ('data/train\\\\WHITE LINED SPHINX MOTH\\\\093.jpg', 19), ('data/train\\\\WHITE LINED SPHINX MOTH\\\\082.jpg', 19), ('data/train\\\\WHITE LINED SPHINX MOTH\\\\052.jpg', 19), ('data/train\\\\WHITE LINED SPHINX MOTH\\\\075.jpg', 19), ('data/train\\\\WHITE LINED SPHINX MOTH\\\\035.jpg', 19), ('data/train\\\\WHITE LINED SPHINX MOTH\\\\072.jpg', 19), ('data/train\\\\WHITE LINED SPHINX MOTH\\\\130.jpg', 19), ('data/train\\\\WHITE LINED SPHINX MOTH\\\\055.jpg', 19), ('data/train\\\\WHITE LINED SPHINX MOTH\\\\118.jpg', 19), ('data/train\\\\WHITE LINED SPHINX MOTH\\\\001.jpg', 19), ('data/train\\\\WHITE LINED SPHINX MOTH\\\\019.jpg', 19), ('data/train\\\\WHITE LINED SPHINX MOTH\\\\080.jpg', 19), ('data/train\\\\WHITE LINED SPHINX MOTH\\\\133.jpg', 19), ('data/train\\\\WHITE LINED SPHINX MOTH\\\\081.jpg', 19), ('data/train\\\\WHITE LINED SPHINX MOTH\\\\074.jpg', 19), ('data/train\\\\WHITE LINED SPHINX MOTH\\\\071.jpg', 19), ('data/train\\\\WHITE LINED SPHINX MOTH\\\\009.jpg', 19), ('data/train\\\\WHITE LINED SPHINX MOTH\\\\027.jpg', 19), ('data/train\\\\WHITE LINED SPHINX MOTH\\\\073.jpg', 19), ('data/train\\\\WHITE LINED SPHINX MOTH\\\\137.jpg', 19), ('data/train\\\\WHITE LINED SPHINX MOTH\\\\032.jpg', 19), ('data/train\\\\WHITE LINED SPHINX MOTH\\\\043.jpg', 19), ('data/train\\\\WHITE LINED SPHINX MOTH\\\\140.jpg', 19), ('data/train\\\\WHITE LINED SPHINX MOTH\\\\003.jpg', 19), ('data/train\\\\WHITE LINED SPHINX MOTH\\\\077.jpg', 19), ('data/train\\\\WHITE LINED SPHINX MOTH\\\\099.jpg', 19), ('data/train\\\\WHITE LINED SPHINX MOTH\\\\131.jpg', 19), ('data/train\\\\WHITE LINED SPHINX MOTH\\\\120.jpg', 19), ('data/train\\\\WHITE LINED SPHINX MOTH\\\\016.jpg', 19), ('data/train\\\\WHITE LINED SPHINX MOTH\\\\025.jpg', 19), ('data/train\\\\WHITE LINED SPHINX MOTH\\\\103.jpg', 19), ('data/train\\\\WHITE LINED SPHINX MOTH\\\\051.jpg', 19), ('data/train\\\\WHITE LINED SPHINX MOTH\\\\008.jpg', 19), ('data/train\\\\WHITE LINED SPHINX MOTH\\\\046.jpg', 19), ('data/train\\\\WHITE LINED SPHINX MOTH\\\\083.jpg', 19), ('data/train\\\\WHITE LINED SPHINX MOTH\\\\115.jpg', 19), ('data/train\\\\WHITE LINED SPHINX MOTH\\\\100.jpg', 19), ('data/train\\\\WHITE LINED SPHINX MOTH\\\\088.jpg', 19), ('data/train\\\\WHITE LINED SPHINX MOTH\\\\107.jpg', 19), ('data/train\\\\WHITE LINED SPHINX MOTH\\\\047.jpg', 19), ('data/train\\\\WHITE LINED SPHINX MOTH\\\\125.jpg', 19), ('data/train\\\\WHITE LINED SPHINX MOTH\\\\098.jpg', 19), ('data/train\\\\WHITE LINED SPHINX MOTH\\\\138.jpg', 19), ('data/train\\\\WHITE LINED SPHINX MOTH\\\\143.jpg', 19), ('data/train\\\\WHITE LINED SPHINX MOTH\\\\136.jpg', 19), ('data/train\\\\WHITE LINED SPHINX MOTH\\\\089.jpg', 19), ('data/train\\\\WHITE LINED SPHINX MOTH\\\\005.jpg', 19), ('data/train\\\\WHITE LINED SPHINX MOTH\\\\132.jpg', 19), ('data/train\\\\WHITE LINED SPHINX MOTH\\\\053.jpg', 19), ('data/train\\\\WHITE LINED SPHINX MOTH\\\\079.jpg', 19), ('data/train\\\\WHITE LINED SPHINX MOTH\\\\063.jpg', 19), ('data/train\\\\WHITE LINED SPHINX MOTH\\\\126.jpg', 19), ('data/train\\\\WHITE LINED SPHINX MOTH\\\\139.jpg', 19), ('data/train\\\\WHITE LINED SPHINX MOTH\\\\124.jpg', 19), ('data/train\\\\WHITE LINED SPHINX MOTH\\\\020.jpg', 19), ('data/train\\\\WHITE LINED SPHINX MOTH\\\\094.jpg', 19), ('data/train\\\\WHITE LINED SPHINX MOTH\\\\117.jpg', 19), ('data/train\\\\WHITE LINED SPHINX MOTH\\\\076.jpg', 19), ('data/train\\\\WHITE LINED SPHINX MOTH\\\\054.jpg', 19), ('data/train\\\\WHITE LINED SPHINX MOTH\\\\070.jpg', 19), ('data/train\\\\WHITE LINED SPHINX MOTH\\\\090.jpg', 19), ('data/train\\\\WHITE LINED SPHINX MOTH\\\\096.jpg', 19), ('data/train\\\\WHITE LINED SPHINX MOTH\\\\086.jpg', 19), ('data/train\\\\WHITE LINED SPHINX MOTH\\\\048.jpg', 19), ('data/train\\\\WHITE LINED SPHINX MOTH\\\\059.jpg', 19), ('data/train\\\\WHITE LINED SPHINX MOTH\\\\050.jpg', 19), ('data/train\\\\WHITE LINED SPHINX MOTH\\\\018.jpg', 19), ('data/train\\\\WHITE LINED SPHINX MOTH\\\\069.jpg', 19), ('data/train\\\\BROWN SIPROETA\\\\129.jpg', 6), ('data/train\\\\BROWN SIPROETA\\\\121.jpg', 6), ('data/train\\\\BROWN SIPROETA\\\\019.jpg', 6), ('data/train\\\\BROWN SIPROETA\\\\110.jpg', 6), ('data/train\\\\BROWN SIPROETA\\\\064.jpg', 6), ('data/train\\\\BROWN SIPROETA\\\\003.jpg', 6), ('data/train\\\\BROWN SIPROETA\\\\052.jpg', 6), ('data/train\\\\BROWN SIPROETA\\\\057.jpg', 6), ('data/train\\\\BROWN SIPROETA\\\\118.jpg', 6), ('data/train\\\\BROWN SIPROETA\\\\023.jpg', 6), ('data/train\\\\BROWN SIPROETA\\\\032.jpg', 6), ('data/train\\\\BROWN SIPROETA\\\\063.jpg', 6), ('data/train\\\\BROWN SIPROETA\\\\140.jpg', 6), ('data/train\\\\BROWN SIPROETA\\\\067.jpg', 6), ('data/train\\\\BROWN SIPROETA\\\\042.jpg', 6), ('data/train\\\\BROWN SIPROETA\\\\084.jpg', 6), ('data/train\\\\BROWN SIPROETA\\\\075.jpg', 6), ('data/train\\\\BROWN SIPROETA\\\\066.jpg', 6), ('data/train\\\\BROWN SIPROETA\\\\047.jpg', 6), ('data/train\\\\BROWN SIPROETA\\\\082.jpg', 6), ('data/train\\\\BROWN SIPROETA\\\\049.jpg', 6), ('data/train\\\\BROWN SIPROETA\\\\105.jpg', 6), ('data/train\\\\BROWN SIPROETA\\\\092.jpg', 6), ('data/train\\\\BROWN SIPROETA\\\\134.jpg', 6), ('data/train\\\\BROWN SIPROETA\\\\073.jpg', 6), ('data/train\\\\BROWN SIPROETA\\\\031.jpg', 6), ('data/train\\\\BROWN SIPROETA\\\\109.jpg', 6), ('data/train\\\\BROWN SIPROETA\\\\097.jpg', 6), ('data/train\\\\BROWN SIPROETA\\\\050.jpg', 6), ('data/train\\\\BROWN SIPROETA\\\\085.jpg', 6), ('data/train\\\\BROWN SIPROETA\\\\102.jpg', 6), ('data/train\\\\BROWN SIPROETA\\\\018.jpg', 6), ('data/train\\\\BROWN SIPROETA\\\\038.jpg', 6), ('data/train\\\\BROWN SIPROETA\\\\039.jpg', 6), ('data/train\\\\BROWN SIPROETA\\\\058.jpg', 6), ('data/train\\\\BROWN SIPROETA\\\\078.jpg', 6), ('data/train\\\\BROWN SIPROETA\\\\069.jpg', 6), ('data/train\\\\BROWN SIPROETA\\\\051.jpg', 6), ('data/train\\\\BROWN SIPROETA\\\\133.jpg', 6), ('data/train\\\\BROWN SIPROETA\\\\021.jpg', 6), ('data/train\\\\BROWN SIPROETA\\\\083.jpg', 6), ('data/train\\\\BROWN SIPROETA\\\\068.jpg', 6), ('data/train\\\\BROWN SIPROETA\\\\113.jpg', 6), ('data/train\\\\BROWN SIPROETA\\\\022.jpg', 6), ('data/train\\\\BROWN SIPROETA\\\\137.jpg', 6), ('data/train\\\\BROWN SIPROETA\\\\027.jpg', 6), ('data/train\\\\BROWN SIPROETA\\\\025.jpg', 6), ('data/train\\\\BROWN SIPROETA\\\\080.jpg', 6), ('data/train\\\\BROWN SIPROETA\\\\034.jpg', 6), ('data/train\\\\BROWN SIPROETA\\\\054.jpg', 6), ('data/train\\\\BROWN SIPROETA\\\\006.jpg', 6), ('data/train\\\\BROWN SIPROETA\\\\002.jpg', 6), ('data/train\\\\BROWN SIPROETA\\\\123.jpg', 6), ('data/train\\\\BROWN SIPROETA\\\\090.jpg', 6), ('data/train\\\\BROWN SIPROETA\\\\060.jpg', 6), ('data/train\\\\BROWN SIPROETA\\\\005.jpg', 6), ('data/train\\\\BROWN SIPROETA\\\\138.jpg', 6), ('data/train\\\\BROWN SIPROETA\\\\099.jpg', 6), ('data/train\\\\BROWN SIPROETA\\\\091.jpg', 6), ('data/train\\\\BROWN SIPROETA\\\\010.jpg', 6), ('data/train\\\\BROWN SIPROETA\\\\135.jpg', 6), ('data/train\\\\BROWN SIPROETA\\\\112.jpg', 6), ('data/train\\\\BROWN SIPROETA\\\\001.jpg', 6), ('data/train\\\\BROWN SIPROETA\\\\079.jpg', 6), ('data/train\\\\BROWN SIPROETA\\\\044.jpg', 6), ('data/train\\\\BROWN SIPROETA\\\\089.jpg', 6), ('data/train\\\\BROWN SIPROETA\\\\070.jpg', 6), ('data/train\\\\BROWN SIPROETA\\\\024.jpg', 6), ('data/train\\\\BROWN SIPROETA\\\\071.jpg', 6), ('data/train\\\\BROWN SIPROETA\\\\035.jpg', 6), ('data/train\\\\BROWN SIPROETA\\\\004.jpg', 6), ('data/train\\\\BROWN SIPROETA\\\\093.jpg', 6), ('data/train\\\\BROWN SIPROETA\\\\081.jpg', 6), ('data/train\\\\BROWN SIPROETA\\\\127.jpg', 6), ('data/train\\\\BROWN SIPROETA\\\\036.jpg', 6), ('data/train\\\\BROWN SIPROETA\\\\015.jpg', 6), ('data/train\\\\BROWN SIPROETA\\\\114.jpg', 6), ('data/train\\\\BROWN SIPROETA\\\\100.jpg', 6), ('data/train\\\\BROWN SIPROETA\\\\045.jpg', 6), ('data/train\\\\BROWN SIPROETA\\\\131.jpg', 6), ('data/train\\\\BROWN SIPROETA\\\\029.jpg', 6), ('data/train\\\\BROWN SIPROETA\\\\062.jpg', 6), ('data/train\\\\BROWN SIPROETA\\\\119.jpg', 6), ('data/train\\\\BROWN SIPROETA\\\\028.jpg', 6), ('data/train\\\\BROWN SIPROETA\\\\065.jpg', 6), ('data/train\\\\BROWN SIPROETA\\\\074.jpg', 6), ('data/train\\\\BROWN SIPROETA\\\\014.jpg', 6), ('data/train\\\\BROWN SIPROETA\\\\108.jpg', 6), ('data/train\\\\BROWN SIPROETA\\\\040.jpg', 6), ('data/train\\\\BROWN SIPROETA\\\\077.jpg', 6), ('data/train\\\\BROWN SIPROETA\\\\037.jpg', 6), ('data/train\\\\BROWN SIPROETA\\\\007.jpg', 6), ('data/train\\\\BROWN SIPROETA\\\\124.jpg', 6), ('data/train\\\\BROWN SIPROETA\\\\098.jpg', 6), ('data/train\\\\BROWN SIPROETA\\\\046.jpg', 6), ('data/train\\\\BROWN SIPROETA\\\\053.jpg', 6), ('data/train\\\\BROWN SIPROETA\\\\016.jpg', 6), ('data/train\\\\BROWN SIPROETA\\\\122.jpg', 6), ('data/train\\\\BROWN SIPROETA\\\\043.jpg', 6), ('data/train\\\\BROWN SIPROETA\\\\101.jpg', 6), ('data/train\\\\BROWN SIPROETA\\\\132.jpg', 6), ('data/train\\\\BROWN SIPROETA\\\\076.jpg', 6), ('data/train\\\\BROWN SIPROETA\\\\008.jpg', 6), ('data/train\\\\BROWN SIPROETA\\\\072.jpg', 6), ('data/train\\\\BROWN SIPROETA\\\\017.jpg', 6), ('data/train\\\\BROWN SIPROETA\\\\104.jpg', 6), ('data/train\\\\BROWN SIPROETA\\\\120.jpg', 6), ('data/train\\\\BROWN SIPROETA\\\\095.jpg', 6), ('data/train\\\\BROWN SIPROETA\\\\096.jpg', 6), ('data/train\\\\BROWN SIPROETA\\\\126.jpg', 6), ('data/train\\\\BROWN SIPROETA\\\\136.jpg', 6), ('data/train\\\\BROWN SIPROETA\\\\115.jpg', 6), ('data/train\\\\BROWN SIPROETA\\\\011.jpg', 6), ('data/train\\\\BROWN SIPROETA\\\\128.jpg', 6), ('data/train\\\\BROWN SIPROETA\\\\012.jpg', 6), ('data/train\\\\BROWN SIPROETA\\\\009.jpg', 6), ('data/train\\\\BROWN SIPROETA\\\\061.jpg', 6), ('data/train\\\\BROWN SIPROETA\\\\088.jpg', 6), ('data/train\\\\BROWN SIPROETA\\\\020.jpg', 6), ('data/train\\\\BROWN SIPROETA\\\\048.jpg', 6), ('data/train\\\\BROWN SIPROETA\\\\033.jpg', 6), ('data/train\\\\ARCIGERA FLOWER MOTH\\\\096.jpg', 0), ('data/train\\\\ARCIGERA FLOWER MOTH\\\\039.jpg', 0), ('data/train\\\\ARCIGERA FLOWER MOTH\\\\126.jpg', 0), ('data/train\\\\ARCIGERA FLOWER MOTH\\\\046.jpg', 0), ('data/train\\\\ARCIGERA FLOWER MOTH\\\\073.jpg', 0), ('data/train\\\\ARCIGERA FLOWER MOTH\\\\113.jpg', 0), ('data/train\\\\ARCIGERA FLOWER MOTH\\\\016.jpg', 0), ('data/train\\\\ARCIGERA FLOWER MOTH\\\\024.jpg', 0), ('data/train\\\\ARCIGERA FLOWER MOTH\\\\085.jpg', 0), ('data/train\\\\ARCIGERA FLOWER MOTH\\\\001.jpg', 0), ('data/train\\\\ARCIGERA FLOWER MOTH\\\\070.jpg', 0), ('data/train\\\\ARCIGERA FLOWER MOTH\\\\009.jpg', 0), ('data/train\\\\ARCIGERA FLOWER MOTH\\\\008.jpg', 0), ('data/train\\\\ARCIGERA FLOWER MOTH\\\\134.jpg', 0), ('data/train\\\\ARCIGERA FLOWER MOTH\\\\125.jpg', 0), ('data/train\\\\ARCIGERA FLOWER MOTH\\\\007.jpg', 0), ('data/train\\\\ARCIGERA FLOWER MOTH\\\\035.jpg', 0), ('data/train\\\\ARCIGERA FLOWER MOTH\\\\138.jpg', 0), ('data/train\\\\ARCIGERA FLOWER MOTH\\\\116.jpg', 0), ('data/train\\\\ARCIGERA FLOWER MOTH\\\\072.jpg', 0), ('data/train\\\\ARCIGERA FLOWER MOTH\\\\081.jpg', 0), ('data/train\\\\ARCIGERA FLOWER MOTH\\\\013.jpg', 0), ('data/train\\\\ARCIGERA FLOWER MOTH\\\\017.jpg', 0), ('data/train\\\\ARCIGERA FLOWER MOTH\\\\078.jpg', 0), ('data/train\\\\ARCIGERA FLOWER MOTH\\\\036.jpg', 0), ('data/train\\\\ARCIGERA FLOWER MOTH\\\\028.jpg', 0), ('data/train\\\\ARCIGERA FLOWER MOTH\\\\050.jpg', 0), ('data/train\\\\ARCIGERA FLOWER MOTH\\\\058.jpg', 0), ('data/train\\\\ARCIGERA FLOWER MOTH\\\\061.jpg', 0), ('data/train\\\\ARCIGERA FLOWER MOTH\\\\027.jpg', 0), ('data/train\\\\ARCIGERA FLOWER MOTH\\\\099.jpg', 0), ('data/train\\\\ARCIGERA FLOWER MOTH\\\\053.jpg', 0), ('data/train\\\\ARCIGERA FLOWER MOTH\\\\107.jpg', 0), ('data/train\\\\ARCIGERA FLOWER MOTH\\\\094.jpg', 0), ('data/train\\\\ARCIGERA FLOWER MOTH\\\\030.jpg', 0), ('data/train\\\\ARCIGERA FLOWER MOTH\\\\086.jpg', 0), ('data/train\\\\ARCIGERA FLOWER MOTH\\\\100.jpg', 0), ('data/train\\\\ARCIGERA FLOWER MOTH\\\\071.jpg', 0), ('data/train\\\\ARCIGERA FLOWER MOTH\\\\079.jpg', 0), ('data/train\\\\ARCIGERA FLOWER MOTH\\\\004.jpg', 0), ('data/train\\\\ARCIGERA FLOWER MOTH\\\\065.jpg', 0), ('data/train\\\\ARCIGERA FLOWER MOTH\\\\018.jpg', 0), ('data/train\\\\ARCIGERA FLOWER MOTH\\\\104.jpg', 0), ('data/train\\\\ARCIGERA FLOWER MOTH\\\\090.jpg', 0), ('data/train\\\\ARCIGERA FLOWER MOTH\\\\048.jpg', 0), ('data/train\\\\ARCIGERA FLOWER MOTH\\\\115.jpg', 0), ('data/train\\\\ARCIGERA FLOWER MOTH\\\\005.jpg', 0), ('data/train\\\\ARCIGERA FLOWER MOTH\\\\137.jpg', 0), ('data/train\\\\ARCIGERA FLOWER MOTH\\\\067.jpg', 0), ('data/train\\\\ARCIGERA FLOWER MOTH\\\\093.jpg', 0), ('data/train\\\\ARCIGERA FLOWER MOTH\\\\119.jpg', 0), ('data/train\\\\ARCIGERA FLOWER MOTH\\\\021.jpg', 0), ('data/train\\\\ARCIGERA FLOWER MOTH\\\\101.jpg', 0), ('data/train\\\\ARCIGERA FLOWER MOTH\\\\121.jpg', 0), ('data/train\\\\ARCIGERA FLOWER MOTH\\\\106.jpg', 0), ('data/train\\\\ARCIGERA FLOWER MOTH\\\\062.jpg', 0), ('data/train\\\\ARCIGERA FLOWER MOTH\\\\057.jpg', 0), ('data/train\\\\ARCIGERA FLOWER MOTH\\\\088.jpg', 0), ('data/train\\\\ARCIGERA FLOWER MOTH\\\\087.jpg', 0), ('data/train\\\\ARCIGERA FLOWER MOTH\\\\110.jpg', 0), ('data/train\\\\ARCIGERA FLOWER MOTH\\\\063.jpg', 0), ('data/train\\\\ARCIGERA FLOWER MOTH\\\\037.jpg', 0), ('data/train\\\\ARCIGERA FLOWER MOTH\\\\049.jpg', 0), ('data/train\\\\ARCIGERA FLOWER MOTH\\\\060.jpg', 0), ('data/train\\\\ARCIGERA FLOWER MOTH\\\\064.jpg', 0), ('data/train\\\\ARCIGERA FLOWER MOTH\\\\069.jpg', 0), ('data/train\\\\ARCIGERA FLOWER MOTH\\\\140.jpg', 0), ('data/train\\\\ARCIGERA FLOWER MOTH\\\\020.jpg', 0), ('data/train\\\\ARCIGERA FLOWER MOTH\\\\023.jpg', 0), ('data/train\\\\ARCIGERA FLOWER MOTH\\\\026.jpg', 0), ('data/train\\\\ARCIGERA FLOWER MOTH\\\\033.jpg', 0), ('data/train\\\\ARCIGERA FLOWER MOTH\\\\075.jpg', 0), ('data/train\\\\ARCIGERA FLOWER MOTH\\\\097.jpg', 0), ('data/train\\\\ARCIGERA FLOWER MOTH\\\\139.jpg', 0), ('data/train\\\\ARCIGERA FLOWER MOTH\\\\131.jpg', 0), ('data/train\\\\ARCIGERA FLOWER MOTH\\\\077.jpg', 0), ('data/train\\\\ARCIGERA FLOWER MOTH\\\\135.jpg', 0), ('data/train\\\\ARCIGERA FLOWER MOTH\\\\025.jpg', 0), ('data/train\\\\ARCIGERA FLOWER MOTH\\\\083.jpg', 0), ('data/train\\\\ARCIGERA FLOWER MOTH\\\\092.jpg', 0), ('data/train\\\\ARCIGERA FLOWER MOTH\\\\109.jpg', 0), ('data/train\\\\ARCIGERA FLOWER MOTH\\\\112.jpg', 0), ('data/train\\\\ARCIGERA FLOWER MOTH\\\\066.jpg', 0), ('data/train\\\\ARCIGERA FLOWER MOTH\\\\120.jpg', 0), ('data/train\\\\ARCIGERA FLOWER MOTH\\\\105.jpg', 0), ('data/train\\\\ARCIGERA FLOWER MOTH\\\\043.jpg', 0), ('data/train\\\\ARCIGERA FLOWER MOTH\\\\029.jpg', 0), ('data/train\\\\ARCIGERA FLOWER MOTH\\\\044.jpg', 0), ('data/train\\\\ARCIGERA FLOWER MOTH\\\\040.jpg', 0), ('data/train\\\\ARCIGERA FLOWER MOTH\\\\051.jpg', 0), ('data/train\\\\ARCIGERA FLOWER MOTH\\\\011.jpg', 0), ('data/train\\\\ARCIGERA FLOWER MOTH\\\\068.jpg', 0), ('data/train\\\\ARCIGERA FLOWER MOTH\\\\108.jpg', 0), ('data/train\\\\ARCIGERA FLOWER MOTH\\\\076.jpg', 0), ('data/train\\\\ARCIGERA FLOWER MOTH\\\\133.jpg', 0), ('data/train\\\\ARCIGERA FLOWER MOTH\\\\032.jpg', 0), ('data/train\\\\ARCIGERA FLOWER MOTH\\\\014.jpg', 0), ('data/train\\\\ARCIGERA FLOWER MOTH\\\\124.jpg', 0), ('data/train\\\\ARCIGERA FLOWER MOTH\\\\012.jpg', 0), ('data/train\\\\ARCIGERA FLOWER MOTH\\\\047.jpg', 0), ('data/train\\\\ARCIGERA FLOWER MOTH\\\\089.jpg', 0), ('data/train\\\\ARCIGERA FLOWER MOTH\\\\122.jpg', 0), ('data/train\\\\ARCIGERA FLOWER MOTH\\\\080.jpg', 0), ('data/train\\\\ARCIGERA FLOWER MOTH\\\\103.jpg', 0), ('data/train\\\\ARCIGERA FLOWER MOTH\\\\022.jpg', 0), ('data/train\\\\ARCIGERA FLOWER MOTH\\\\042.jpg', 0), ('data/train\\\\ARCIGERA FLOWER MOTH\\\\123.jpg', 0), ('data/train\\\\ARCIGERA FLOWER MOTH\\\\114.jpg', 0), ('data/train\\\\ARCIGERA FLOWER MOTH\\\\015.jpg', 0), ('data/train\\\\ARCIGERA FLOWER MOTH\\\\038.jpg', 0), ('data/train\\\\ARCIGERA FLOWER MOTH\\\\054.jpg', 0), ('data/train\\\\ARCIGERA FLOWER MOTH\\\\082.jpg', 0), ('data/train\\\\ARCIGERA FLOWER MOTH\\\\130.jpg', 0), ('data/train\\\\ARCIGERA FLOWER MOTH\\\\052.jpg', 0), ('data/train\\\\ARCIGERA FLOWER MOTH\\\\117.jpg', 0), ('data/train\\\\ARCIGERA FLOWER MOTH\\\\055.jpg', 0), ('data/train\\\\ARCIGERA FLOWER MOTH\\\\074.jpg', 0), ('data/train\\\\ARCIGERA FLOWER MOTH\\\\041.jpg', 0), ('data/train\\\\ARCIGERA FLOWER MOTH\\\\127.jpg', 0), ('data/train\\\\ARCIGERA FLOWER MOTH\\\\010.jpg', 0), ('data/train\\\\BANDED ORANGE HELICONIAN\\\\053.jpg', 2), ('data/train\\\\BANDED ORANGE HELICONIAN\\\\061.jpg', 2), ('data/train\\\\BANDED ORANGE HELICONIAN\\\\026.jpg', 2), ('data/train\\\\BANDED ORANGE HELICONIAN\\\\115.jpg', 2), ('data/train\\\\BANDED ORANGE HELICONIAN\\\\001.jpg', 2), ('data/train\\\\BANDED ORANGE HELICONIAN\\\\058.jpg', 2), ('data/train\\\\BANDED ORANGE HELICONIAN\\\\117.jpg', 2), ('data/train\\\\BANDED ORANGE HELICONIAN\\\\032.jpg', 2), ('data/train\\\\BANDED ORANGE HELICONIAN\\\\022.jpg', 2), ('data/train\\\\BANDED ORANGE HELICONIAN\\\\008.jpg', 2), ('data/train\\\\BANDED ORANGE HELICONIAN\\\\137.jpg', 2), ('data/train\\\\BANDED ORANGE HELICONIAN\\\\056.jpg', 2), ('data/train\\\\BANDED ORANGE HELICONIAN\\\\116.jpg', 2), ('data/train\\\\BANDED ORANGE HELICONIAN\\\\021.jpg', 2), ('data/train\\\\BANDED ORANGE HELICONIAN\\\\023.jpg', 2), ('data/train\\\\BANDED ORANGE HELICONIAN\\\\098.jpg', 2), ('data/train\\\\BANDED ORANGE HELICONIAN\\\\004.jpg', 2), ('data/train\\\\BANDED ORANGE HELICONIAN\\\\136.jpg', 2), ('data/train\\\\BANDED ORANGE HELICONIAN\\\\059.jpg', 2), ('data/train\\\\BANDED ORANGE HELICONIAN\\\\108.jpg', 2), ('data/train\\\\BANDED ORANGE HELICONIAN\\\\002.jpg', 2), ('data/train\\\\BANDED ORANGE HELICONIAN\\\\123.jpg', 2), ('data/train\\\\BANDED ORANGE HELICONIAN\\\\101.jpg', 2), ('data/train\\\\BANDED ORANGE HELICONIAN\\\\069.jpg', 2), ('data/train\\\\BANDED ORANGE HELICONIAN\\\\007.jpg', 2), ('data/train\\\\BANDED ORANGE HELICONIAN\\\\006.jpg', 2), ('data/train\\\\BANDED ORANGE HELICONIAN\\\\128.jpg', 2), ('data/train\\\\BANDED ORANGE HELICONIAN\\\\034.jpg', 2), ('data/train\\\\BANDED ORANGE HELICONIAN\\\\064.jpg', 2), ('data/train\\\\BANDED ORANGE HELICONIAN\\\\036.jpg', 2), ('data/train\\\\BANDED ORANGE HELICONIAN\\\\062.jpg', 2), ('data/train\\\\BANDED ORANGE HELICONIAN\\\\097.jpg', 2), ('data/train\\\\BANDED ORANGE HELICONIAN\\\\030.jpg', 2), ('data/train\\\\BANDED ORANGE HELICONIAN\\\\042.jpg', 2), ('data/train\\\\BANDED ORANGE HELICONIAN\\\\048.jpg', 2), ('data/train\\\\BANDED ORANGE HELICONIAN\\\\119.jpg', 2), ('data/train\\\\BANDED ORANGE HELICONIAN\\\\031.jpg', 2), ('data/train\\\\BANDED ORANGE HELICONIAN\\\\071.jpg', 2), ('data/train\\\\BANDED ORANGE HELICONIAN\\\\046.jpg', 2), ('data/train\\\\BANDED ORANGE HELICONIAN\\\\035.jpg', 2), ('data/train\\\\BANDED ORANGE HELICONIAN\\\\015.jpg', 2), ('data/train\\\\BANDED ORANGE HELICONIAN\\\\057.jpg', 2), ('data/train\\\\BANDED ORANGE HELICONIAN\\\\106.jpg', 2), ('data/train\\\\BANDED ORANGE HELICONIAN\\\\103.jpg', 2), ('data/train\\\\BANDED ORANGE HELICONIAN\\\\131.jpg', 2), ('data/train\\\\BANDED ORANGE HELICONIAN\\\\016.jpg', 2), ('data/train\\\\BANDED ORANGE HELICONIAN\\\\067.jpg', 2), ('data/train\\\\BANDED ORANGE HELICONIAN\\\\112.jpg', 2), ('data/train\\\\BANDED ORANGE HELICONIAN\\\\027.jpg', 2), ('data/train\\\\BANDED ORANGE HELICONIAN\\\\126.jpg', 2), ('data/train\\\\BANDED ORANGE HELICONIAN\\\\132.jpg', 2), ('data/train\\\\BANDED ORANGE HELICONIAN\\\\080.jpg', 2), ('data/train\\\\BANDED ORANGE HELICONIAN\\\\060.jpg', 2), ('data/train\\\\BANDED ORANGE HELICONIAN\\\\052.jpg', 2), ('data/train\\\\BANDED ORANGE HELICONIAN\\\\079.jpg', 2), ('data/train\\\\BANDED ORANGE HELICONIAN\\\\118.jpg', 2), ('data/train\\\\BANDED ORANGE HELICONIAN\\\\130.jpg', 2), ('data/train\\\\BANDED ORANGE HELICONIAN\\\\054.jpg', 2), ('data/train\\\\BANDED ORANGE HELICONIAN\\\\089.jpg', 2), ('data/train\\\\BANDED ORANGE HELICONIAN\\\\133.jpg', 2), ('data/train\\\\BANDED ORANGE HELICONIAN\\\\070.jpg', 2), ('data/train\\\\BANDED ORANGE HELICONIAN\\\\074.jpg', 2), ('data/train\\\\BANDED ORANGE HELICONIAN\\\\039.jpg', 2), ('data/train\\\\BANDED ORANGE HELICONIAN\\\\127.jpg', 2), ('data/train\\\\BANDED ORANGE HELICONIAN\\\\076.jpg', 2), ('data/train\\\\BANDED ORANGE HELICONIAN\\\\005.jpg', 2), ('data/train\\\\BANDED ORANGE HELICONIAN\\\\065.jpg', 2), ('data/train\\\\BANDED ORANGE HELICONIAN\\\\121.jpg', 2), ('data/train\\\\BANDED ORANGE HELICONIAN\\\\038.jpg', 2), ('data/train\\\\BANDED ORANGE HELICONIAN\\\\010.jpg', 2), ('data/train\\\\BANDED ORANGE HELICONIAN\\\\111.jpg', 2), ('data/train\\\\BANDED ORANGE HELICONIAN\\\\018.jpg', 2), ('data/train\\\\BANDED ORANGE HELICONIAN\\\\029.jpg', 2), ('data/train\\\\BANDED ORANGE HELICONIAN\\\\025.jpg', 2), ('data/train\\\\BANDED ORANGE HELICONIAN\\\\063.jpg', 2), ('data/train\\\\BANDED ORANGE HELICONIAN\\\\044.jpg', 2), ('data/train\\\\BANDED ORANGE HELICONIAN\\\\028.jpg', 2), ('data/train\\\\BANDED ORANGE HELICONIAN\\\\024.jpg', 2), ('data/train\\\\BANDED ORANGE HELICONIAN\\\\095.jpg', 2), ('data/train\\\\BANDED ORANGE HELICONIAN\\\\082.jpg', 2), ('data/train\\\\BANDED ORANGE HELICONIAN\\\\003.jpg', 2), ('data/train\\\\BANDED ORANGE HELICONIAN\\\\047.jpg', 2), ('data/train\\\\BANDED ORANGE HELICONIAN\\\\066.jpg', 2), ('data/train\\\\BANDED ORANGE HELICONIAN\\\\055.jpg', 2), ('data/train\\\\BANDED ORANGE HELICONIAN\\\\092.jpg', 2), ('data/train\\\\BANDED ORANGE HELICONIAN\\\\012.jpg', 2), ('data/train\\\\BANDED ORANGE HELICONIAN\\\\068.jpg', 2), ('data/train\\\\BANDED ORANGE HELICONIAN\\\\088.jpg', 2), ('data/train\\\\BANDED ORANGE HELICONIAN\\\\086.jpg', 2), ('data/train\\\\BANDED ORANGE HELICONIAN\\\\099.jpg', 2), ('data/train\\\\BANDED ORANGE HELICONIAN\\\\114.jpg', 2), ('data/train\\\\BANDED ORANGE HELICONIAN\\\\125.jpg', 2), ('data/train\\\\BANDED ORANGE HELICONIAN\\\\049.jpg', 2), ('data/train\\\\BANDED ORANGE HELICONIAN\\\\120.jpg', 2), ('data/train\\\\BANDED ORANGE HELICONIAN\\\\104.jpg', 2), ('data/train\\\\BANDED ORANGE HELICONIAN\\\\109.jpg', 2), ('data/train\\\\BANDED ORANGE HELICONIAN\\\\091.jpg', 2), ('data/train\\\\BANDED ORANGE HELICONIAN\\\\077.jpg', 2), ('data/train\\\\BANDED ORANGE HELICONIAN\\\\017.jpg', 2), ('data/train\\\\BANDED ORANGE HELICONIAN\\\\051.jpg', 2), ('data/train\\\\BANDED ORANGE HELICONIAN\\\\107.jpg', 2), ('data/train\\\\BANDED ORANGE HELICONIAN\\\\090.jpg', 2), ('data/train\\\\BANDED ORANGE HELICONIAN\\\\084.jpg', 2), ('data/train\\\\BANDED ORANGE HELICONIAN\\\\040.jpg', 2), ('data/train\\\\BANDED ORANGE HELICONIAN\\\\045.jpg', 2), ('data/train\\\\BANDED ORANGE HELICONIAN\\\\019.jpg', 2), ('data/train\\\\BANDED ORANGE HELICONIAN\\\\138.jpg', 2), ('data/train\\\\BANDED ORANGE HELICONIAN\\\\075.jpg', 2), ('data/train\\\\BANDED ORANGE HELICONIAN\\\\011.jpg', 2), ('data/train\\\\BANDED ORANGE HELICONIAN\\\\122.jpg', 2), ('data/train\\\\BANDED ORANGE HELICONIAN\\\\020.jpg', 2), ('data/train\\\\BANDED ORANGE HELICONIAN\\\\078.jpg', 2), ('data/train\\\\BANDED ORANGE HELICONIAN\\\\085.jpg', 2), ('data/train\\\\BANDED ORANGE HELICONIAN\\\\110.jpg', 2), ('data/train\\\\BANDED ORANGE HELICONIAN\\\\093.jpg', 2), ('data/train\\\\BANDED ORANGE HELICONIAN\\\\033.jpg', 2), ('data/train\\\\BANDED ORANGE HELICONIAN\\\\037.jpg', 2), ('data/train\\\\BANDED ORANGE HELICONIAN\\\\050.jpg', 2), ('data/train\\\\BANDED ORANGE HELICONIAN\\\\129.jpg', 2), ('data/train\\\\SCARCE SWALLOW\\\\004.jpg', 17), ('data/train\\\\SCARCE SWALLOW\\\\029.jpg', 17), ('data/train\\\\SCARCE SWALLOW\\\\032.jpg', 17), ('data/train\\\\SCARCE SWALLOW\\\\122.jpg', 17), ('data/train\\\\SCARCE SWALLOW\\\\049.jpg', 17), ('data/train\\\\SCARCE SWALLOW\\\\101.jpg', 17), ('data/train\\\\SCARCE SWALLOW\\\\112.jpg', 17), ('data/train\\\\SCARCE SWALLOW\\\\132.jpg', 17), ('data/train\\\\SCARCE SWALLOW\\\\137.jpg', 17), ('data/train\\\\SCARCE SWALLOW\\\\128.jpg', 17), ('data/train\\\\SCARCE SWALLOW\\\\125.jpg', 17), ('data/train\\\\SCARCE SWALLOW\\\\111.jpg', 17), ('data/train\\\\SCARCE SWALLOW\\\\040.jpg', 17), ('data/train\\\\SCARCE SWALLOW\\\\027.jpg', 17), ('data/train\\\\SCARCE SWALLOW\\\\050.jpg', 17), ('data/train\\\\SCARCE SWALLOW\\\\085.jpg', 17), ('data/train\\\\SCARCE SWALLOW\\\\076.jpg', 17), ('data/train\\\\SCARCE SWALLOW\\\\100.jpg', 17), ('data/train\\\\SCARCE SWALLOW\\\\063.jpg', 17), ('data/train\\\\SCARCE SWALLOW\\\\042.jpg', 17), ('data/train\\\\SCARCE SWALLOW\\\\010.jpg', 17), ('data/train\\\\SCARCE SWALLOW\\\\065.jpg', 17), ('data/train\\\\SCARCE SWALLOW\\\\086.jpg', 17), ('data/train\\\\SCARCE SWALLOW\\\\130.jpg', 17), ('data/train\\\\SCARCE SWALLOW\\\\093.jpg', 17), ('data/train\\\\SCARCE SWALLOW\\\\045.jpg', 17), ('data/train\\\\SCARCE SWALLOW\\\\026.jpg', 17), ('data/train\\\\SCARCE SWALLOW\\\\006.jpg', 17), ('data/train\\\\SCARCE SWALLOW\\\\131.jpg', 17), ('data/train\\\\SCARCE SWALLOW\\\\121.jpg', 17), ('data/train\\\\SCARCE SWALLOW\\\\057.jpg', 17), ('data/train\\\\SCARCE SWALLOW\\\\030.jpg', 17), ('data/train\\\\SCARCE SWALLOW\\\\012.jpg', 17), ('data/train\\\\SCARCE SWALLOW\\\\109.jpg', 17), ('data/train\\\\SCARCE SWALLOW\\\\124.jpg', 17), ('data/train\\\\SCARCE SWALLOW\\\\044.jpg', 17), ('data/train\\\\SCARCE SWALLOW\\\\053.jpg', 17), ('data/train\\\\SCARCE SWALLOW\\\\081.jpg', 17), ('data/train\\\\SCARCE SWALLOW\\\\022.jpg', 17), ('data/train\\\\SCARCE SWALLOW\\\\073.jpg', 17), ('data/train\\\\SCARCE SWALLOW\\\\089.jpg', 17), ('data/train\\\\SCARCE SWALLOW\\\\052.jpg', 17), ('data/train\\\\SCARCE SWALLOW\\\\113.jpg', 17), ('data/train\\\\SCARCE SWALLOW\\\\070.jpg', 17), ('data/train\\\\SCARCE SWALLOW\\\\117.jpg', 17), ('data/train\\\\SCARCE SWALLOW\\\\023.jpg', 17), ('data/train\\\\SCARCE SWALLOW\\\\056.jpg', 17), ('data/train\\\\SCARCE SWALLOW\\\\048.jpg', 17), ('data/train\\\\SCARCE SWALLOW\\\\017.jpg', 17), ('data/train\\\\SCARCE SWALLOW\\\\067.jpg', 17), ('data/train\\\\SCARCE SWALLOW\\\\072.jpg', 17), ('data/train\\\\SCARCE SWALLOW\\\\127.jpg', 17), ('data/train\\\\SCARCE SWALLOW\\\\097.jpg', 17), ('data/train\\\\SCARCE SWALLOW\\\\106.jpg', 17), ('data/train\\\\SCARCE SWALLOW\\\\025.jpg', 17), ('data/train\\\\SCARCE SWALLOW\\\\002.jpg', 17), ('data/train\\\\SCARCE SWALLOW\\\\036.jpg', 17), ('data/train\\\\SCARCE SWALLOW\\\\060.jpg', 17), ('data/train\\\\SCARCE SWALLOW\\\\051.jpg', 17), ('data/train\\\\SCARCE SWALLOW\\\\126.jpg', 17), ('data/train\\\\SCARCE SWALLOW\\\\035.jpg', 17), ('data/train\\\\SCARCE SWALLOW\\\\034.jpg', 17), ('data/train\\\\SCARCE SWALLOW\\\\062.jpg', 17), ('data/train\\\\SCARCE SWALLOW\\\\083.jpg', 17), ('data/train\\\\SCARCE SWALLOW\\\\047.jpg', 17), ('data/train\\\\SCARCE SWALLOW\\\\104.jpg', 17), ('data/train\\\\SCARCE SWALLOW\\\\024.jpg', 17), ('data/train\\\\SCARCE SWALLOW\\\\087.jpg', 17), ('data/train\\\\SCARCE SWALLOW\\\\075.jpg', 17), ('data/train\\\\SCARCE SWALLOW\\\\046.jpg', 17), ('data/train\\\\SCARCE SWALLOW\\\\105.jpg', 17), ('data/train\\\\SCARCE SWALLOW\\\\095.jpg', 17), ('data/train\\\\SCARCE SWALLOW\\\\038.jpg', 17), ('data/train\\\\SCARCE SWALLOW\\\\119.jpg', 17), ('data/train\\\\SCARCE SWALLOW\\\\088.jpg', 17), ('data/train\\\\SCARCE SWALLOW\\\\074.jpg', 17), ('data/train\\\\SCARCE SWALLOW\\\\066.jpg', 17), ('data/train\\\\SCARCE SWALLOW\\\\103.jpg', 17), ('data/train\\\\SCARCE SWALLOW\\\\069.jpg', 17), ('data/train\\\\SCARCE SWALLOW\\\\077.jpg', 17), ('data/train\\\\SCARCE SWALLOW\\\\064.jpg', 17), ('data/train\\\\SCARCE SWALLOW\\\\110.jpg', 17), ('data/train\\\\SCARCE SWALLOW\\\\009.jpg', 17), ('data/train\\\\SCARCE SWALLOW\\\\059.jpg', 17), ('data/train\\\\SCARCE SWALLOW\\\\080.jpg', 17), ('data/train\\\\SCARCE SWALLOW\\\\082.jpg', 17), ('data/train\\\\SCARCE SWALLOW\\\\054.jpg', 17), ('data/train\\\\SCARCE SWALLOW\\\\123.jpg', 17), ('data/train\\\\SCARCE SWALLOW\\\\139.jpg', 17), ('data/train\\\\SCARCE SWALLOW\\\\016.jpg', 17), ('data/train\\\\SCARCE SWALLOW\\\\039.jpg', 17), ('data/train\\\\SCARCE SWALLOW\\\\031.jpg', 17), ('data/train\\\\SCARCE SWALLOW\\\\116.jpg', 17), ('data/train\\\\SCARCE SWALLOW\\\\015.jpg', 17), ('data/train\\\\SCARCE SWALLOW\\\\055.jpg', 17), ('data/train\\\\SCARCE SWALLOW\\\\068.jpg', 17), ('data/train\\\\SCARCE SWALLOW\\\\078.jpg', 17), ('data/train\\\\SCARCE SWALLOW\\\\094.jpg', 17), ('data/train\\\\SCARCE SWALLOW\\\\071.jpg', 17), ('data/train\\\\SCARCE SWALLOW\\\\020.jpg', 17), ('data/train\\\\SCARCE SWALLOW\\\\028.jpg', 17), ('data/train\\\\SCARCE SWALLOW\\\\033.jpg', 17), ('data/train\\\\SCARCE SWALLOW\\\\003.jpg', 17), ('data/train\\\\SCARCE SWALLOW\\\\011.jpg', 17), ('data/train\\\\SCARCE SWALLOW\\\\001.jpg', 17), ('data/train\\\\SCARCE SWALLOW\\\\079.jpg', 17), ('data/train\\\\SCARCE SWALLOW\\\\135.jpg', 17), ('data/train\\\\SCARCE SWALLOW\\\\114.jpg', 17), ('data/train\\\\SCARCE SWALLOW\\\\091.jpg', 17), ('data/train\\\\SCARCE SWALLOW\\\\098.jpg', 17), ('data/train\\\\SCARCE SWALLOW\\\\118.jpg', 17), ('data/train\\\\SCARCE SWALLOW\\\\115.jpg', 17), ('data/train\\\\SCARCE SWALLOW\\\\090.jpg', 17), ('data/train\\\\SCARCE SWALLOW\\\\133.jpg', 17), ('data/train\\\\SCARCE SWALLOW\\\\138.jpg', 17), ('data/train\\\\SCARCE SWALLOW\\\\037.jpg', 17), ('data/train\\\\SCARCE SWALLOW\\\\005.jpg', 17), ('data/train\\\\SCARCE SWALLOW\\\\018.jpg', 17), ('data/train\\\\SCARCE SWALLOW\\\\019.jpg', 17), ('data/train\\\\CRECENT\\\\32.jpg', 8), ('data/train\\\\CRECENT\\\\61.jpg', 8), ('data/train\\\\CRECENT\\\\81.jpg', 8), ('data/train\\\\CRECENT\\\\34.jpg', 8), ('data/train\\\\CRECENT\\\\01.jpg', 8), ('data/train\\\\CRECENT\\\\96.jpg', 8), ('data/train\\\\CRECENT\\\\07.jpg', 8), ('data/train\\\\CRECENT\\\\29.jpg', 8), ('data/train\\\\CRECENT\\\\83.jpg', 8), ('data/train\\\\CRECENT\\\\118.jpg', 8), ('data/train\\\\CRECENT\\\\137.jpg', 8), ('data/train\\\\CRECENT\\\\41.jpg', 8), ('data/train\\\\CRECENT\\\\82.jpg', 8), ('data/train\\\\CRECENT\\\\14.jpg', 8), ('data/train\\\\CRECENT\\\\22.jpg', 8), ('data/train\\\\CRECENT\\\\92.jpg', 8), ('data/train\\\\CRECENT\\\\54.jpg', 8), ('data/train\\\\CRECENT\\\\126.jpg', 8), ('data/train\\\\CRECENT\\\\47.jpg', 8), ('data/train\\\\CRECENT\\\\51.jpg', 8), ('data/train\\\\CRECENT\\\\15.jpg', 8), ('data/train\\\\CRECENT\\\\116.jpg', 8), ('data/train\\\\CRECENT\\\\65.jpg', 8), ('data/train\\\\CRECENT\\\\115.jpg', 8), ('data/train\\\\CRECENT\\\\68.jpg', 8), ('data/train\\\\CRECENT\\\\59.jpg', 8), ('data/train\\\\CRECENT\\\\87.jpg', 8), ('data/train\\\\CRECENT\\\\03.jpg', 8), ('data/train\\\\CRECENT\\\\104.jpg', 8), ('data/train\\\\CRECENT\\\\111.jpg', 8), ('data/train\\\\CRECENT\\\\120.jpg', 8), ('data/train\\\\CRECENT\\\\24.jpg', 8), ('data/train\\\\CRECENT\\\\128.jpg', 8), ('data/train\\\\CRECENT\\\\23.jpg', 8), ('data/train\\\\CRECENT\\\\21.jpg', 8), ('data/train\\\\CRECENT\\\\130.jpg', 8), ('data/train\\\\CRECENT\\\\102.jpg', 8), ('data/train\\\\CRECENT\\\\72.jpg', 8), ('data/train\\\\CRECENT\\\\52.jpg', 8), ('data/train\\\\CRECENT\\\\69.jpg', 8), ('data/train\\\\CRECENT\\\\117.jpg', 8), ('data/train\\\\CRECENT\\\\13.jpg', 8), ('data/train\\\\CRECENT\\\\36.jpg', 8), ('data/train\\\\CRECENT\\\\45.jpg', 8), ('data/train\\\\CRECENT\\\\58.jpg', 8), ('data/train\\\\CRECENT\\\\113.jpg', 8), ('data/train\\\\CRECENT\\\\20.jpg', 8), ('data/train\\\\CRECENT\\\\97.jpg', 8), ('data/train\\\\CRECENT\\\\101.jpg', 8), ('data/train\\\\CRECENT\\\\26.jpg', 8), ('data/train\\\\CRECENT\\\\02.jpg', 8), ('data/train\\\\CRECENT\\\\91.jpg', 8), ('data/train\\\\CRECENT\\\\105.jpg', 8), ('data/train\\\\CRECENT\\\\107.jpg', 8), ('data/train\\\\CRECENT\\\\93.jpg', 8), ('data/train\\\\CRECENT\\\\42.jpg', 8), ('data/train\\\\CRECENT\\\\114.jpg', 8), ('data/train\\\\CRECENT\\\\95.jpg', 8), ('data/train\\\\CRECENT\\\\121.jpg', 8), ('data/train\\\\CRECENT\\\\35.jpg', 8), ('data/train\\\\CRECENT\\\\124.jpg', 8), ('data/train\\\\CRECENT\\\\30.jpg', 8), ('data/train\\\\CRECENT\\\\135.jpg', 8), ('data/train\\\\CRECENT\\\\38.jpg', 8), ('data/train\\\\CRECENT\\\\66.jpg', 8), ('data/train\\\\CRECENT\\\\86.jpg', 8), ('data/train\\\\CRECENT\\\\79.jpg', 8), ('data/train\\\\CRECENT\\\\109.jpg', 8), ('data/train\\\\CRECENT\\\\37.jpg', 8), ('data/train\\\\CRECENT\\\\136.jpg', 8), ('data/train\\\\CRECENT\\\\33.jpg', 8), ('data/train\\\\CRECENT\\\\44.jpg', 8), ('data/train\\\\CRECENT\\\\119.jpg', 8), ('data/train\\\\CRECENT\\\\09.jpg', 8), ('data/train\\\\CRECENT\\\\106.jpg', 8), ('data/train\\\\CRECENT\\\\05.jpg', 8), ('data/train\\\\CRECENT\\\\57.jpg', 8), ('data/train\\\\CRECENT\\\\62.jpg', 8), ('data/train\\\\CRECENT\\\\108.jpg', 8), ('data/train\\\\CRECENT\\\\04.jpg', 8), ('data/train\\\\CRECENT\\\\11.jpg', 8), ('data/train\\\\CRECENT\\\\27.jpg', 8), ('data/train\\\\CRECENT\\\\133.jpg', 8), ('data/train\\\\CRECENT\\\\138.jpg', 8), ('data/train\\\\CRECENT\\\\49.jpg', 8), ('data/train\\\\CRECENT\\\\10.jpg', 8), ('data/train\\\\CRECENT\\\\08.jpg', 8), ('data/train\\\\CRECENT\\\\43.jpg', 8), ('data/train\\\\CRECENT\\\\123.jpg', 8), ('data/train\\\\CRECENT\\\\76.jpg', 8), ('data/train\\\\CRECENT\\\\40.jpg', 8), ('data/train\\\\CRECENT\\\\132.jpg', 8), ('data/train\\\\CRECENT\\\\06.jpg', 8), ('data/train\\\\CRECENT\\\\63.jpg', 8), ('data/train\\\\CRECENT\\\\131.jpg', 8), ('data/train\\\\CRECENT\\\\18.jpg', 8), ('data/train\\\\CRECENT\\\\88.jpg', 8), ('data/train\\\\CRECENT\\\\110.jpg', 8), ('data/train\\\\CRECENT\\\\78.jpg', 8), ('data/train\\\\CRECENT\\\\53.jpg', 8), ('data/train\\\\CRECENT\\\\75.jpg', 8), ('data/train\\\\CRECENT\\\\19.jpg', 8), ('data/train\\\\CRECENT\\\\127.jpg', 8), ('data/train\\\\CRECENT\\\\71.jpg', 8), ('data/train\\\\CRECENT\\\\99.jpg', 8), ('data/train\\\\CRECENT\\\\70.jpg', 8), ('data/train\\\\CRECENT\\\\77.jpg', 8), ('data/train\\\\CRECENT\\\\103.jpg', 8), ('data/train\\\\CRECENT\\\\129.jpg', 8), ('data/train\\\\CRECENT\\\\125.jpg', 8), ('data/train\\\\CRECENT\\\\98.jpg', 8), ('data/train\\\\CRECENT\\\\112.jpg', 8), ('data/train\\\\CRECENT\\\\67.jpg', 8), ('data/train\\\\CRECENT\\\\39.jpg', 8), ('data/train\\\\CRECENT\\\\17.jpg', 8), ('data/train\\\\CRECENT\\\\85.jpg', 8), ('data/train\\\\CRECENT\\\\16.jpg', 8), ('data/train\\\\CRECENT\\\\55.jpg', 8), ('data/train\\\\HERCULES MOTH\\\\001.jpg', 10), ('data/train\\\\HERCULES MOTH\\\\040.jpg', 10), ('data/train\\\\HERCULES MOTH\\\\121.jpg', 10), ('data/train\\\\HERCULES MOTH\\\\028.jpg', 10), ('data/train\\\\HERCULES MOTH\\\\007.jpg', 10), ('data/train\\\\HERCULES MOTH\\\\087.jpg', 10), ('data/train\\\\HERCULES MOTH\\\\032.jpg', 10), ('data/train\\\\HERCULES MOTH\\\\043.jpg', 10), ('data/train\\\\HERCULES MOTH\\\\061.jpg', 10), ('data/train\\\\HERCULES MOTH\\\\085.jpg', 10), ('data/train\\\\HERCULES MOTH\\\\059.jpg', 10), ('data/train\\\\HERCULES MOTH\\\\089.jpg', 10), ('data/train\\\\HERCULES MOTH\\\\003.jpg', 10), ('data/train\\\\HERCULES MOTH\\\\115.jpg', 10), ('data/train\\\\HERCULES MOTH\\\\051.jpg', 10), ('data/train\\\\HERCULES MOTH\\\\062.jpg', 10), ('data/train\\\\HERCULES MOTH\\\\013.jpg', 10), ('data/train\\\\HERCULES MOTH\\\\038.jpg', 10), ('data/train\\\\HERCULES MOTH\\\\002.jpg', 10), ('data/train\\\\HERCULES MOTH\\\\025.jpg', 10), ('data/train\\\\HERCULES MOTH\\\\049.jpg', 10), ('data/train\\\\HERCULES MOTH\\\\053.jpg', 10), ('data/train\\\\HERCULES MOTH\\\\068.jpg', 10), ('data/train\\\\HERCULES MOTH\\\\097.jpg', 10), ('data/train\\\\HERCULES MOTH\\\\048.jpg', 10), ('data/train\\\\HERCULES MOTH\\\\015.jpg', 10), ('data/train\\\\HERCULES MOTH\\\\129.jpg', 10), ('data/train\\\\HERCULES MOTH\\\\046.jpg', 10), ('data/train\\\\HERCULES MOTH\\\\047.jpg', 10), ('data/train\\\\HERCULES MOTH\\\\018.jpg', 10), ('data/train\\\\HERCULES MOTH\\\\086.jpg', 10), ('data/train\\\\HERCULES MOTH\\\\110.jpg', 10), ('data/train\\\\HERCULES MOTH\\\\009.jpg', 10), ('data/train\\\\HERCULES MOTH\\\\066.jpg', 10), ('data/train\\\\HERCULES MOTH\\\\135.jpg', 10), ('data/train\\\\HERCULES MOTH\\\\093.jpg', 10), ('data/train\\\\HERCULES MOTH\\\\109.jpg', 10), ('data/train\\\\HERCULES MOTH\\\\131.jpg', 10), ('data/train\\\\HERCULES MOTH\\\\084.jpg', 10), ('data/train\\\\HERCULES MOTH\\\\077.jpg', 10), ('data/train\\\\HERCULES MOTH\\\\014.jpg', 10), ('data/train\\\\HERCULES MOTH\\\\050.jpg', 10), ('data/train\\\\HERCULES MOTH\\\\063.jpg', 10), ('data/train\\\\HERCULES MOTH\\\\094.jpg', 10), ('data/train\\\\HERCULES MOTH\\\\096.jpg', 10), ('data/train\\\\HERCULES MOTH\\\\070.jpg', 10), ('data/train\\\\HERCULES MOTH\\\\133.jpg', 10), ('data/train\\\\HERCULES MOTH\\\\095.jpg', 10), ('data/train\\\\HERCULES MOTH\\\\005.jpg', 10), ('data/train\\\\HERCULES MOTH\\\\030.jpg', 10), ('data/train\\\\HERCULES MOTH\\\\122.jpg', 10), ('data/train\\\\HERCULES MOTH\\\\090.jpg', 10), ('data/train\\\\HERCULES MOTH\\\\074.jpg', 10), ('data/train\\\\HERCULES MOTH\\\\055.jpg', 10), ('data/train\\\\HERCULES MOTH\\\\052.jpg', 10), ('data/train\\\\HERCULES MOTH\\\\104.jpg', 10), ('data/train\\\\HERCULES MOTH\\\\031.jpg', 10), ('data/train\\\\HERCULES MOTH\\\\078.jpg', 10), ('data/train\\\\HERCULES MOTH\\\\098.jpg', 10), ('data/train\\\\HERCULES MOTH\\\\128.jpg', 10), ('data/train\\\\HERCULES MOTH\\\\035.jpg', 10), ('data/train\\\\HERCULES MOTH\\\\126.jpg', 10), ('data/train\\\\HERCULES MOTH\\\\057.jpg', 10), ('data/train\\\\HERCULES MOTH\\\\064.jpg', 10), ('data/train\\\\HERCULES MOTH\\\\137.jpg', 10), ('data/train\\\\HERCULES MOTH\\\\054.jpg', 10), ('data/train\\\\HERCULES MOTH\\\\027.jpg', 10), ('data/train\\\\HERCULES MOTH\\\\136.jpg', 10), ('data/train\\\\HERCULES MOTH\\\\072.jpg', 10), ('data/train\\\\HERCULES MOTH\\\\092.jpg', 10), ('data/train\\\\HERCULES MOTH\\\\004.jpg', 10), ('data/train\\\\HERCULES MOTH\\\\006.jpg', 10), ('data/train\\\\HERCULES MOTH\\\\073.jpg', 10), ('data/train\\\\HERCULES MOTH\\\\044.jpg', 10), ('data/train\\\\HERCULES MOTH\\\\124.jpg', 10), ('data/train\\\\HERCULES MOTH\\\\132.jpg', 10), ('data/train\\\\HERCULES MOTH\\\\075.jpg', 10), ('data/train\\\\HERCULES MOTH\\\\111.jpg', 10), ('data/train\\\\HERCULES MOTH\\\\114.jpg', 10), ('data/train\\\\HERCULES MOTH\\\\130.jpg', 10), ('data/train\\\\HERCULES MOTH\\\\012.jpg', 10), ('data/train\\\\HERCULES MOTH\\\\069.jpg', 10), ('data/train\\\\HERCULES MOTH\\\\079.jpg', 10), ('data/train\\\\HERCULES MOTH\\\\101.jpg', 10), ('data/train\\\\HERCULES MOTH\\\\081.jpg', 10), ('data/train\\\\HERCULES MOTH\\\\108.jpg', 10), ('data/train\\\\HERCULES MOTH\\\\036.jpg', 10), ('data/train\\\\HERCULES MOTH\\\\116.jpg', 10), ('data/train\\\\HERCULES MOTH\\\\112.jpg', 10), ('data/train\\\\HERCULES MOTH\\\\026.jpg', 10), ('data/train\\\\HERCULES MOTH\\\\033.jpg', 10), ('data/train\\\\HERCULES MOTH\\\\011.jpg', 10), ('data/train\\\\HERCULES MOTH\\\\037.jpg', 10), ('data/train\\\\HERCULES MOTH\\\\103.jpg', 10), ('data/train\\\\HERCULES MOTH\\\\118.jpg', 10), ('data/train\\\\HERCULES MOTH\\\\029.jpg', 10), ('data/train\\\\HERCULES MOTH\\\\091.jpg', 10), ('data/train\\\\HERCULES MOTH\\\\042.jpg', 10), ('data/train\\\\HERCULES MOTH\\\\021.jpg', 10), ('data/train\\\\HERCULES MOTH\\\\022.jpg', 10), ('data/train\\\\HERCULES MOTH\\\\039.jpg', 10), ('data/train\\\\HERCULES MOTH\\\\020.jpg', 10), ('data/train\\\\HERCULES MOTH\\\\119.jpg', 10), ('data/train\\\\HERCULES MOTH\\\\016.jpg', 10), ('data/train\\\\HERCULES MOTH\\\\008.jpg', 10), ('data/train\\\\HERCULES MOTH\\\\065.jpg', 10), ('data/train\\\\HERCULES MOTH\\\\056.jpg', 10), ('data/train\\\\HERCULES MOTH\\\\117.jpg', 10), ('data/train\\\\HERCULES MOTH\\\\099.jpg', 10), ('data/train\\\\HERCULES MOTH\\\\024.jpg', 10), ('data/train\\\\HERCULES MOTH\\\\076.jpg', 10), ('data/train\\\\HERCULES MOTH\\\\082.jpg', 10), ('data/train\\\\HERCULES MOTH\\\\071.jpg', 10), ('data/train\\\\HERCULES MOTH\\\\100.jpg', 10), ('data/train\\\\HERCULES MOTH\\\\107.jpg', 10), ('data/train\\\\HERCULES MOTH\\\\113.jpg', 10), ('data/train\\\\HERCULES MOTH\\\\127.jpg', 10), ('data/train\\\\MILBERTS TORTOISESHELL\\\\063.jpg', 12), ('data/train\\\\MILBERTS TORTOISESHELL\\\\028.jpg', 12), ('data/train\\\\MILBERTS TORTOISESHELL\\\\068.jpg', 12), ('data/train\\\\MILBERTS TORTOISESHELL\\\\029.jpg', 12), ('data/train\\\\MILBERTS TORTOISESHELL\\\\030.jpg', 12), ('data/train\\\\MILBERTS TORTOISESHELL\\\\090.jpg', 12), ('data/train\\\\MILBERTS TORTOISESHELL\\\\097.jpg', 12), ('data/train\\\\MILBERTS TORTOISESHELL\\\\023.jpg', 12), ('data/train\\\\MILBERTS TORTOISESHELL\\\\009.jpg', 12), ('data/train\\\\MILBERTS TORTOISESHELL\\\\012.jpg', 12), ('data/train\\\\MILBERTS TORTOISESHELL\\\\111.jpg', 12), ('data/train\\\\MILBERTS TORTOISESHELL\\\\115.jpg', 12), ('data/train\\\\MILBERTS TORTOISESHELL\\\\003.jpg', 12), ('data/train\\\\MILBERTS TORTOISESHELL\\\\075.jpg', 12), ('data/train\\\\MILBERTS TORTOISESHELL\\\\049.jpg', 12), ('data/train\\\\MILBERTS TORTOISESHELL\\\\112.jpg', 12), ('data/train\\\\MILBERTS TORTOISESHELL\\\\001.jpg', 12), ('data/train\\\\MILBERTS TORTOISESHELL\\\\104.jpg', 12), ('data/train\\\\MILBERTS TORTOISESHELL\\\\085.jpg', 12), ('data/train\\\\MILBERTS TORTOISESHELL\\\\134.jpg', 12), ('data/train\\\\MILBERTS TORTOISESHELL\\\\081.jpg', 12), ('data/train\\\\MILBERTS TORTOISESHELL\\\\041.jpg', 12), ('data/train\\\\MILBERTS TORTOISESHELL\\\\126.jpg', 12), ('data/train\\\\MILBERTS TORTOISESHELL\\\\082.jpg', 12), ('data/train\\\\MILBERTS TORTOISESHELL\\\\086.jpg', 12), ('data/train\\\\MILBERTS TORTOISESHELL\\\\135.jpg', 12), ('data/train\\\\MILBERTS TORTOISESHELL\\\\039.jpg', 12), ('data/train\\\\MILBERTS TORTOISESHELL\\\\070.jpg', 12), ('data/train\\\\MILBERTS TORTOISESHELL\\\\133.jpg', 12), ('data/train\\\\MILBERTS TORTOISESHELL\\\\096.jpg', 12), ('data/train\\\\MILBERTS TORTOISESHELL\\\\103.jpg', 12), ('data/train\\\\MILBERTS TORTOISESHELL\\\\092.jpg', 12), ('data/train\\\\MILBERTS TORTOISESHELL\\\\004.jpg', 12), ('data/train\\\\MILBERTS TORTOISESHELL\\\\015.jpg', 12), ('data/train\\\\MILBERTS TORTOISESHELL\\\\121.jpg', 12), ('data/train\\\\MILBERTS TORTOISESHELL\\\\045.jpg', 12), ('data/train\\\\MILBERTS TORTOISESHELL\\\\083.jpg', 12), ('data/train\\\\MILBERTS TORTOISESHELL\\\\057.jpg', 12), ('data/train\\\\MILBERTS TORTOISESHELL\\\\114.jpg', 12), ('data/train\\\\MILBERTS TORTOISESHELL\\\\027.jpg', 12), ('data/train\\\\MILBERTS TORTOISESHELL\\\\008.jpg', 12), ('data/train\\\\MILBERTS TORTOISESHELL\\\\053.jpg', 12), ('data/train\\\\MILBERTS TORTOISESHELL\\\\136.jpg', 12), ('data/train\\\\MILBERTS TORTOISESHELL\\\\117.jpg', 12), ('data/train\\\\MILBERTS TORTOISESHELL\\\\031.jpg', 12), ('data/train\\\\MILBERTS TORTOISESHELL\\\\055.jpg', 12), ('data/train\\\\MILBERTS TORTOISESHELL\\\\116.jpg', 12), ('data/train\\\\MILBERTS TORTOISESHELL\\\\046.jpg', 12), ('data/train\\\\MILBERTS TORTOISESHELL\\\\032.jpg', 12), ('data/train\\\\MILBERTS TORTOISESHELL\\\\035.jpg', 12), ('data/train\\\\MILBERTS TORTOISESHELL\\\\076.jpg', 12), ('data/train\\\\MILBERTS TORTOISESHELL\\\\033.jpg', 12), ('data/train\\\\MILBERTS TORTOISESHELL\\\\022.jpg', 12), ('data/train\\\\MILBERTS TORTOISESHELL\\\\038.jpg', 12), ('data/train\\\\MILBERTS TORTOISESHELL\\\\125.jpg', 12), ('data/train\\\\MILBERTS TORTOISESHELL\\\\054.jpg', 12), ('data/train\\\\MILBERTS TORTOISESHELL\\\\122.jpg', 12), ('data/train\\\\MILBERTS TORTOISESHELL\\\\132.jpg', 12), ('data/train\\\\MILBERTS TORTOISESHELL\\\\089.jpg', 12), ('data/train\\\\MILBERTS TORTOISESHELL\\\\011.jpg', 12), ('data/train\\\\MILBERTS TORTOISESHELL\\\\021.jpg', 12), ('data/train\\\\MILBERTS TORTOISESHELL\\\\040.jpg', 12), ('data/train\\\\MILBERTS TORTOISESHELL\\\\060.jpg', 12), ('data/train\\\\MILBERTS TORTOISESHELL\\\\042.jpg', 12), ('data/train\\\\MILBERTS TORTOISESHELL\\\\093.jpg', 12), ('data/train\\\\MILBERTS TORTOISESHELL\\\\020.jpg', 12), ('data/train\\\\MILBERTS TORTOISESHELL\\\\059.jpg', 12), ('data/train\\\\MILBERTS TORTOISESHELL\\\\067.jpg', 12), ('data/train\\\\MILBERTS TORTOISESHELL\\\\120.jpg', 12), ('data/train\\\\MILBERTS TORTOISESHELL\\\\043.jpg', 12), ('data/train\\\\MILBERTS TORTOISESHELL\\\\124.jpg', 12), ('data/train\\\\MILBERTS TORTOISESHELL\\\\005.jpg', 12), ('data/train\\\\MILBERTS TORTOISESHELL\\\\074.jpg', 12), ('data/train\\\\MILBERTS TORTOISESHELL\\\\106.jpg', 12), ('data/train\\\\MILBERTS TORTOISESHELL\\\\095.jpg', 12), ('data/train\\\\MILBERTS TORTOISESHELL\\\\105.jpg', 12), ('data/train\\\\MILBERTS TORTOISESHELL\\\\066.jpg', 12), ('data/train\\\\MILBERTS TORTOISESHELL\\\\078.jpg', 12), ('data/train\\\\MILBERTS TORTOISESHELL\\\\026.jpg', 12), ('data/train\\\\MILBERTS TORTOISESHELL\\\\019.jpg', 12), ('data/train\\\\MILBERTS TORTOISESHELL\\\\100.jpg', 12), ('data/train\\\\MILBERTS TORTOISESHELL\\\\102.jpg', 12), ('data/train\\\\MILBERTS TORTOISESHELL\\\\044.jpg', 12), ('data/train\\\\MILBERTS TORTOISESHELL\\\\048.jpg', 12), ('data/train\\\\MILBERTS TORTOISESHELL\\\\051.jpg', 12), ('data/train\\\\MILBERTS TORTOISESHELL\\\\128.jpg', 12), ('data/train\\\\MILBERTS TORTOISESHELL\\\\017.jpg', 12), ('data/train\\\\MILBERTS TORTOISESHELL\\\\016.jpg', 12), ('data/train\\\\MILBERTS TORTOISESHELL\\\\079.jpg', 12), ('data/train\\\\MILBERTS TORTOISESHELL\\\\088.jpg', 12), ('data/train\\\\MILBERTS TORTOISESHELL\\\\080.jpg', 12), ('data/train\\\\MILBERTS TORTOISESHELL\\\\036.jpg', 12), ('data/train\\\\MILBERTS TORTOISESHELL\\\\099.jpg', 12), ('data/train\\\\MILBERTS TORTOISESHELL\\\\058.jpg', 12), ('data/train\\\\MILBERTS TORTOISESHELL\\\\065.jpg', 12), ('data/train\\\\MILBERTS TORTOISESHELL\\\\050.jpg', 12), ('data/train\\\\MILBERTS TORTOISESHELL\\\\010.jpg', 12), ('data/train\\\\MILBERTS TORTOISESHELL\\\\119.jpg', 12), ('data/train\\\\MILBERTS TORTOISESHELL\\\\071.jpg', 12), ('data/train\\\\MILBERTS TORTOISESHELL\\\\107.jpg', 12), ('data/train\\\\MILBERTS TORTOISESHELL\\\\025.jpg', 12), ('data/train\\\\MILBERTS TORTOISESHELL\\\\072.jpg', 12), ('data/train\\\\MILBERTS TORTOISESHELL\\\\073.jpg', 12), ('data/train\\\\MILBERTS TORTOISESHELL\\\\007.jpg', 12), ('data/train\\\\MILBERTS TORTOISESHELL\\\\123.jpg', 12), ('data/train\\\\MILBERTS TORTOISESHELL\\\\137.jpg', 12), ('data/train\\\\MILBERTS TORTOISESHELL\\\\110.jpg', 12), ('data/train\\\\MILBERTS TORTOISESHELL\\\\052.jpg', 12), ('data/train\\\\MILBERTS TORTOISESHELL\\\\098.jpg', 12), ('data/train\\\\MILBERTS TORTOISESHELL\\\\047.jpg', 12), ('data/train\\\\MILBERTS TORTOISESHELL\\\\094.jpg', 12), ('data/train\\\\MILBERTS TORTOISESHELL\\\\034.jpg', 12), ('data/train\\\\MILBERTS TORTOISESHELL\\\\018.jpg', 12), ('data/train\\\\MILBERTS TORTOISESHELL\\\\131.jpg', 12), ('data/train\\\\MILBERTS TORTOISESHELL\\\\014.jpg', 12), ('data/train\\\\MILBERTS TORTOISESHELL\\\\109.jpg', 12), ('data/train\\\\MILBERTS TORTOISESHELL\\\\002.jpg', 12), ('data/train\\\\ORANGE TIP\\\\40.jpg', 14), ('data/train\\\\ORANGE TIP\\\\79.jpg', 14), ('data/train\\\\ORANGE TIP\\\\110.jpg', 14), ('data/train\\\\ORANGE TIP\\\\47.jpg', 14), ('data/train\\\\ORANGE TIP\\\\87.jpg', 14), ('data/train\\\\ORANGE TIP\\\\121.jpg', 14), ('data/train\\\\ORANGE TIP\\\\17.jpg', 14), ('data/train\\\\ORANGE TIP\\\\28.jpg', 14), ('data/train\\\\ORANGE TIP\\\\95.jpg', 14), ('data/train\\\\ORANGE TIP\\\\08.jpg', 14), ('data/train\\\\ORANGE TIP\\\\52.jpg', 14), ('data/train\\\\ORANGE TIP\\\\132.jpg', 14), ('data/train\\\\ORANGE TIP\\\\02.jpg', 14), ('data/train\\\\ORANGE TIP\\\\35.jpg', 14), ('data/train\\\\ORANGE TIP\\\\93.jpg', 14), ('data/train\\\\ORANGE TIP\\\\09.jpg', 14), ('data/train\\\\ORANGE TIP\\\\112.jpg', 14), ('data/train\\\\ORANGE TIP\\\\111.jpg', 14), ('data/train\\\\ORANGE TIP\\\\05.jpg', 14), ('data/train\\\\ORANGE TIP\\\\68.jpg', 14), ('data/train\\\\ORANGE TIP\\\\106.jpg', 14), ('data/train\\\\ORANGE TIP\\\\26.jpg', 14), ('data/train\\\\ORANGE TIP\\\\136.jpg', 14), ('data/train\\\\ORANGE TIP\\\\29.jpg', 14), ('data/train\\\\ORANGE TIP\\\\33.jpg', 14), ('data/train\\\\ORANGE TIP\\\\21.jpg', 14), ('data/train\\\\ORANGE TIP\\\\133.jpg', 14), ('data/train\\\\ORANGE TIP\\\\109.jpg', 14), ('data/train\\\\ORANGE TIP\\\\62.jpg', 14), ('data/train\\\\ORANGE TIP\\\\10.jpg', 14), ('data/train\\\\ORANGE TIP\\\\73.jpg', 14), ('data/train\\\\ORANGE TIP\\\\130.jpg', 14), ('data/train\\\\ORANGE TIP\\\\14.jpg', 14), ('data/train\\\\ORANGE TIP\\\\56.jpg', 14), ('data/train\\\\ORANGE TIP\\\\37.jpg', 14), ('data/train\\\\ORANGE TIP\\\\92.jpg', 14), ('data/train\\\\ORANGE TIP\\\\72.jpg', 14), ('data/train\\\\ORANGE TIP\\\\127.jpg', 14), ('data/train\\\\ORANGE TIP\\\\20.jpg', 14), ('data/train\\\\ORANGE TIP\\\\101.jpg', 14), ('data/train\\\\ORANGE TIP\\\\03.jpg', 14), ('data/train\\\\ORANGE TIP\\\\42.jpg', 14), ('data/train\\\\ORANGE TIP\\\\104.jpg', 14), ('data/train\\\\ORANGE TIP\\\\54.jpg', 14), ('data/train\\\\ORANGE TIP\\\\134.jpg', 14), ('data/train\\\\ORANGE TIP\\\\67.jpg', 14), ('data/train\\\\ORANGE TIP\\\\04.jpg', 14), ('data/train\\\\ORANGE TIP\\\\16.jpg', 14), ('data/train\\\\ORANGE TIP\\\\96.jpg', 14), ('data/train\\\\ORANGE TIP\\\\11.jpg', 14), ('data/train\\\\ORANGE TIP\\\\57.jpg', 14), ('data/train\\\\ORANGE TIP\\\\60.jpg', 14), ('data/train\\\\ORANGE TIP\\\\27.jpg', 14), ('data/train\\\\ORANGE TIP\\\\75.jpg', 14), ('data/train\\\\ORANGE TIP\\\\18.jpg', 14), ('data/train\\\\ORANGE TIP\\\\39.jpg', 14), ('data/train\\\\ORANGE TIP\\\\129.jpg', 14), ('data/train\\\\ORANGE TIP\\\\76.jpg', 14), ('data/train\\\\ORANGE TIP\\\\74.jpg', 14), ('data/train\\\\ORANGE TIP\\\\22.jpg', 14), ('data/train\\\\ORANGE TIP\\\\66.jpg', 14), ('data/train\\\\ORANGE TIP\\\\48.jpg', 14), ('data/train\\\\ORANGE TIP\\\\01.jpg', 14), ('data/train\\\\ORANGE TIP\\\\89.jpg', 14), ('data/train\\\\ORANGE TIP\\\\45.jpg', 14), ('data/train\\\\ORANGE TIP\\\\23.jpg', 14), ('data/train\\\\ORANGE TIP\\\\13.jpg', 14), ('data/train\\\\ORANGE TIP\\\\15.jpg', 14), ('data/train\\\\ORANGE TIP\\\\102.jpg', 14), ('data/train\\\\ORANGE TIP\\\\63.jpg', 14), ('data/train\\\\ORANGE TIP\\\\118.jpg', 14), ('data/train\\\\ORANGE TIP\\\\81.jpg', 14), ('data/train\\\\ORANGE TIP\\\\90.jpg', 14), ('data/train\\\\ORANGE TIP\\\\07.jpg', 14), ('data/train\\\\ORANGE TIP\\\\86.jpg', 14), ('data/train\\\\ORANGE TIP\\\\119.jpg', 14), ('data/train\\\\ORANGE TIP\\\\38.jpg', 14), ('data/train\\\\ORANGE TIP\\\\103.jpg', 14), ('data/train\\\\ORANGE TIP\\\\107.jpg', 14), ('data/train\\\\ORANGE TIP\\\\44.jpg', 14), ('data/train\\\\ORANGE TIP\\\\69.jpg', 14), ('data/train\\\\ORANGE TIP\\\\122.jpg', 14), ('data/train\\\\ORANGE TIP\\\\31.jpg', 14), ('data/train\\\\ORANGE TIP\\\\114.jpg', 14), ('data/train\\\\ORANGE TIP\\\\116.jpg', 14), ('data/train\\\\ORANGE TIP\\\\71.jpg', 14), ('data/train\\\\ORANGE TIP\\\\120.jpg', 14), ('data/train\\\\ORANGE TIP\\\\99.jpg', 14), ('data/train\\\\ORANGE TIP\\\\19.jpg', 14), ('data/train\\\\ORANGE TIP\\\\58.jpg', 14), ('data/train\\\\ORANGE TIP\\\\100.jpg', 14), ('data/train\\\\ORANGE TIP\\\\65.jpg', 14), ('data/train\\\\ORANGE TIP\\\\06.jpg', 14), ('data/train\\\\ORANGE TIP\\\\125.jpg', 14), ('data/train\\\\ORANGE TIP\\\\108.jpg', 14), ('data/train\\\\ORANGE TIP\\\\70.jpg', 14), ('data/train\\\\ORANGE TIP\\\\137.jpg', 14), ('data/train\\\\ORANGE TIP\\\\135.jpg', 14), ('data/train\\\\ORANGE TIP\\\\32.jpg', 14), ('data/train\\\\ORANGE TIP\\\\49.jpg', 14), ('data/train\\\\ORANGE TIP\\\\36.jpg', 14), ('data/train\\\\ORANGE TIP\\\\105.jpg', 14), ('data/train\\\\ORANGE TIP\\\\78.jpg', 14), ('data/train\\\\ORANGE TIP\\\\84.jpg', 14), ('data/train\\\\ORANGE TIP\\\\55.jpg', 14), ('data/train\\\\ORANGE TIP\\\\64.jpg', 14), ('data/train\\\\ORANGE TIP\\\\83.jpg', 14), ('data/train\\\\ORANGE TIP\\\\94.jpg', 14), ('data/train\\\\ORANGE TIP\\\\88.jpg', 14), ('data/train\\\\ORANGE TIP\\\\128.jpg', 14), ('data/train\\\\ORANGE TIP\\\\25.jpg', 14), ('data/train\\\\ORANGE TIP\\\\77.jpg', 14), ('data/train\\\\ORANGE TIP\\\\51.jpg', 14), ('data/train\\\\ORANGE TIP\\\\115.jpg', 14), ('data/train\\\\ORANGE TIP\\\\91.jpg', 14), ('data/train\\\\ORANGE TIP\\\\124.jpg', 14), ('data/train\\\\ORANGE TIP\\\\61.jpg', 14), ('data/train\\\\RED CRACKER\\\\094.jpg', 15), ('data/train\\\\RED CRACKER\\\\041.jpg', 15), ('data/train\\\\RED CRACKER\\\\022.jpg', 15), ('data/train\\\\RED CRACKER\\\\126.jpg', 15), ('data/train\\\\RED CRACKER\\\\019.jpg', 15), ('data/train\\\\RED CRACKER\\\\063.jpg', 15), ('data/train\\\\RED CRACKER\\\\117.jpg', 15), ('data/train\\\\RED CRACKER\\\\115.jpg', 15), ('data/train\\\\RED CRACKER\\\\130.jpg', 15), ('data/train\\\\RED CRACKER\\\\070.jpg', 15), ('data/train\\\\RED CRACKER\\\\121.jpg', 15), ('data/train\\\\RED CRACKER\\\\024.jpg', 15), ('data/train\\\\RED CRACKER\\\\007.jpg', 15), ('data/train\\\\RED CRACKER\\\\137.jpg', 15), ('data/train\\\\RED CRACKER\\\\072.jpg', 15), ('data/train\\\\RED CRACKER\\\\013.jpg', 15), ('data/train\\\\RED CRACKER\\\\095.jpg', 15), ('data/train\\\\RED CRACKER\\\\085.jpg', 15), ('data/train\\\\RED CRACKER\\\\092.jpg', 15), ('data/train\\\\RED CRACKER\\\\099.jpg', 15), ('data/train\\\\RED CRACKER\\\\106.jpg', 15), ('data/train\\\\RED CRACKER\\\\077.jpg', 15), ('data/train\\\\RED CRACKER\\\\116.jpg', 15), ('data/train\\\\RED CRACKER\\\\113.jpg', 15), ('data/train\\\\RED CRACKER\\\\076.jpg', 15), ('data/train\\\\RED CRACKER\\\\080.jpg', 15), ('data/train\\\\RED CRACKER\\\\136.jpg', 15), ('data/train\\\\RED CRACKER\\\\053.jpg', 15), ('data/train\\\\RED CRACKER\\\\134.jpg', 15), ('data/train\\\\RED CRACKER\\\\012.jpg', 15), ('data/train\\\\RED CRACKER\\\\102.jpg', 15), ('data/train\\\\RED CRACKER\\\\003.jpg', 15), ('data/train\\\\RED CRACKER\\\\005.jpg', 15), ('data/train\\\\RED CRACKER\\\\056.jpg', 15), ('data/train\\\\RED CRACKER\\\\123.jpg', 15), ('data/train\\\\RED CRACKER\\\\017.jpg', 15), ('data/train\\\\RED CRACKER\\\\066.jpg', 15), ('data/train\\\\RED CRACKER\\\\111.jpg', 15), ('data/train\\\\RED CRACKER\\\\064.jpg', 15), ('data/train\\\\RED CRACKER\\\\057.jpg', 15), ('data/train\\\\RED CRACKER\\\\128.jpg', 15), ('data/train\\\\RED CRACKER\\\\049.jpg', 15), ('data/train\\\\RED CRACKER\\\\037.jpg', 15), ('data/train\\\\RED CRACKER\\\\081.jpg', 15), ('data/train\\\\RED CRACKER\\\\027.jpg', 15), ('data/train\\\\RED CRACKER\\\\051.jpg', 15), ('data/train\\\\RED CRACKER\\\\009.jpg', 15), ('data/train\\\\RED CRACKER\\\\030.jpg', 15), ('data/train\\\\RED CRACKER\\\\004.jpg', 15), ('data/train\\\\RED CRACKER\\\\083.jpg', 15), ('data/train\\\\RED CRACKER\\\\033.jpg', 15), ('data/train\\\\RED CRACKER\\\\006.jpg', 15), ('data/train\\\\RED CRACKER\\\\114.jpg', 15), ('data/train\\\\RED CRACKER\\\\096.jpg', 15), ('data/train\\\\RED CRACKER\\\\046.jpg', 15), ('data/train\\\\RED CRACKER\\\\014.jpg', 15), ('data/train\\\\RED CRACKER\\\\044.jpg', 15), ('data/train\\\\RED CRACKER\\\\067.jpg', 15), ('data/train\\\\RED CRACKER\\\\087.jpg', 15), ('data/train\\\\RED CRACKER\\\\135.jpg', 15), ('data/train\\\\RED CRACKER\\\\055.jpg', 15), ('data/train\\\\RED CRACKER\\\\100.jpg', 15), ('data/train\\\\RED CRACKER\\\\112.jpg', 15), ('data/train\\\\RED CRACKER\\\\109.jpg', 15), ('data/train\\\\RED CRACKER\\\\026.jpg', 15), ('data/train\\\\RED CRACKER\\\\118.jpg', 15), ('data/train\\\\RED CRACKER\\\\105.jpg', 15), ('data/train\\\\RED CRACKER\\\\015.jpg', 15), ('data/train\\\\RED CRACKER\\\\010.jpg', 15), ('data/train\\\\RED CRACKER\\\\108.jpg', 15), ('data/train\\\\RED CRACKER\\\\073.jpg', 15), ('data/train\\\\RED CRACKER\\\\119.jpg', 15), ('data/train\\\\RED CRACKER\\\\068.jpg', 15), ('data/train\\\\RED CRACKER\\\\011.jpg', 15), ('data/train\\\\RED CRACKER\\\\124.jpg', 15), ('data/train\\\\RED CRACKER\\\\028.jpg', 15), ('data/train\\\\RED CRACKER\\\\069.jpg', 15), ('data/train\\\\RED CRACKER\\\\061.jpg', 15), ('data/train\\\\RED CRACKER\\\\071.jpg', 15), ('data/train\\\\RED CRACKER\\\\054.jpg', 15), ('data/train\\\\RED CRACKER\\\\090.jpg', 15), ('data/train\\\\RED CRACKER\\\\078.jpg', 15), ('data/train\\\\RED CRACKER\\\\059.jpg', 15), ('data/train\\\\RED CRACKER\\\\020.jpg', 15), ('data/train\\\\RED CRACKER\\\\127.jpg', 15), ('data/train\\\\RED CRACKER\\\\018.jpg', 15), ('data/train\\\\RED CRACKER\\\\098.jpg', 15), ('data/train\\\\RED CRACKER\\\\029.jpg', 15), ('data/train\\\\RED CRACKER\\\\079.jpg', 15), ('data/train\\\\RED CRACKER\\\\129.jpg', 15), ('data/train\\\\RED CRACKER\\\\038.jpg', 15), ('data/train\\\\RED CRACKER\\\\082.jpg', 15), ('data/train\\\\RED CRACKER\\\\131.jpg', 15), ('data/train\\\\RED CRACKER\\\\107.jpg', 15), ('data/train\\\\RED CRACKER\\\\101.jpg', 15), ('data/train\\\\RED CRACKER\\\\091.jpg', 15), ('data/train\\\\RED CRACKER\\\\065.jpg', 15), ('data/train\\\\RED CRACKER\\\\088.jpg', 15), ('data/train\\\\RED CRACKER\\\\052.jpg', 15), ('data/train\\\\RED CRACKER\\\\021.jpg', 15), ('data/train\\\\RED CRACKER\\\\040.jpg', 15), ('data/train\\\\RED CRACKER\\\\060.jpg', 15), ('data/train\\\\RED CRACKER\\\\016.jpg', 15), ('data/train\\\\RED CRACKER\\\\086.jpg', 15), ('data/train\\\\RED CRACKER\\\\008.jpg', 15), ('data/train\\\\RED CRACKER\\\\125.jpg', 15), ('data/train\\\\RED CRACKER\\\\089.jpg', 15), ('data/train\\\\RED CRACKER\\\\047.jpg', 15), ('data/train\\\\RED CRACKER\\\\133.jpg', 15), ('data/train\\\\RED CRACKER\\\\122.jpg', 15), ('data/train\\\\RED CRACKER\\\\002.jpg', 15), ('data/train\\\\RED CRACKER\\\\074.jpg', 15), ('data/train\\\\RED CRACKER\\\\093.jpg', 15), ('data/train\\\\RED CRACKER\\\\075.jpg', 15), ('data/train\\\\RED CRACKER\\\\039.jpg', 15), ('data/train\\\\RED CRACKER\\\\043.jpg', 15), ('data/train\\\\RED CRACKER\\\\035.jpg', 15), ('data/train\\\\ROSY MAPLE MOTH\\\\076.jpg', 16), ('data/train\\\\ROSY MAPLE MOTH\\\\021.jpg', 16), ('data/train\\\\ROSY MAPLE MOTH\\\\044.jpg', 16), ('data/train\\\\ROSY MAPLE MOTH\\\\083.jpg', 16), ('data/train\\\\ROSY MAPLE MOTH\\\\106.jpg', 16), ('data/train\\\\ROSY MAPLE MOTH\\\\040.jpg', 16), ('data/train\\\\ROSY MAPLE MOTH\\\\073.jpg', 16), ('data/train\\\\ROSY MAPLE MOTH\\\\096.jpg', 16), ('data/train\\\\ROSY MAPLE MOTH\\\\060.jpg', 16), ('data/train\\\\ROSY MAPLE MOTH\\\\116.jpg', 16), ('data/train\\\\ROSY MAPLE MOTH\\\\026.jpg', 16), ('data/train\\\\ROSY MAPLE MOTH\\\\050.jpg', 16), ('data/train\\\\ROSY MAPLE MOTH\\\\100.jpg', 16), ('data/train\\\\ROSY MAPLE MOTH\\\\136.jpg', 16), ('data/train\\\\ROSY MAPLE MOTH\\\\090.jpg', 16), ('data/train\\\\ROSY MAPLE MOTH\\\\051.jpg', 16), ('data/train\\\\ROSY MAPLE MOTH\\\\011.jpg', 16), ('data/train\\\\ROSY MAPLE MOTH\\\\097.jpg', 16), ('data/train\\\\ROSY MAPLE MOTH\\\\066.jpg', 16), ('data/train\\\\ROSY MAPLE MOTH\\\\105.jpg', 16), ('data/train\\\\ROSY MAPLE MOTH\\\\102.jpg', 16), ('data/train\\\\ROSY MAPLE MOTH\\\\068.jpg', 16), ('data/train\\\\ROSY MAPLE MOTH\\\\080.jpg', 16), ('data/train\\\\ROSY MAPLE MOTH\\\\069.jpg', 16), ('data/train\\\\ROSY MAPLE MOTH\\\\112.jpg', 16), ('data/train\\\\ROSY MAPLE MOTH\\\\002.jpg', 16), ('data/train\\\\ROSY MAPLE MOTH\\\\121.jpg', 16), ('data/train\\\\ROSY MAPLE MOTH\\\\094.jpg', 16), ('data/train\\\\ROSY MAPLE MOTH\\\\089.jpg', 16), ('data/train\\\\ROSY MAPLE MOTH\\\\033.jpg', 16), ('data/train\\\\ROSY MAPLE MOTH\\\\043.jpg', 16), ('data/train\\\\ROSY MAPLE MOTH\\\\130.jpg', 16), ('data/train\\\\ROSY MAPLE MOTH\\\\108.jpg', 16), ('data/train\\\\ROSY MAPLE MOTH\\\\037.jpg', 16), ('data/train\\\\ROSY MAPLE MOTH\\\\024.jpg', 16), ('data/train\\\\ROSY MAPLE MOTH\\\\078.jpg', 16), ('data/train\\\\ROSY MAPLE MOTH\\\\123.jpg', 16), ('data/train\\\\ROSY MAPLE MOTH\\\\022.jpg', 16), ('data/train\\\\ROSY MAPLE MOTH\\\\014.jpg', 16), ('data/train\\\\ROSY MAPLE MOTH\\\\017.jpg', 16), ('data/train\\\\ROSY MAPLE MOTH\\\\056.jpg', 16), ('data/train\\\\ROSY MAPLE MOTH\\\\061.jpg', 16), ('data/train\\\\ROSY MAPLE MOTH\\\\132.jpg', 16), ('data/train\\\\ROSY MAPLE MOTH\\\\034.jpg', 16), ('data/train\\\\ROSY MAPLE MOTH\\\\048.jpg', 16), ('data/train\\\\ROSY MAPLE MOTH\\\\047.jpg', 16), ('data/train\\\\ROSY MAPLE MOTH\\\\110.jpg', 16), ('data/train\\\\ROSY MAPLE MOTH\\\\075.jpg', 16), ('data/train\\\\ROSY MAPLE MOTH\\\\004.jpg', 16), ('data/train\\\\ROSY MAPLE MOTH\\\\088.jpg', 16), ('data/train\\\\ROSY MAPLE MOTH\\\\063.jpg', 16), ('data/train\\\\ROSY MAPLE MOTH\\\\046.jpg', 16), ('data/train\\\\ROSY MAPLE MOTH\\\\062.jpg', 16), ('data/train\\\\ROSY MAPLE MOTH\\\\133.jpg', 16), ('data/train\\\\ROSY MAPLE MOTH\\\\071.jpg', 16), ('data/train\\\\ROSY MAPLE MOTH\\\\016.jpg', 16), ('data/train\\\\ROSY MAPLE MOTH\\\\082.jpg', 16), ('data/train\\\\ROSY MAPLE MOTH\\\\035.jpg', 16), ('data/train\\\\ROSY MAPLE MOTH\\\\114.jpg', 16), ('data/train\\\\ROSY MAPLE MOTH\\\\012.jpg', 16), ('data/train\\\\ROSY MAPLE MOTH\\\\124.jpg', 16), ('data/train\\\\ROSY MAPLE MOTH\\\\126.jpg', 16), ('data/train\\\\ROSY MAPLE MOTH\\\\010.jpg', 16), ('data/train\\\\ROSY MAPLE MOTH\\\\084.jpg', 16), ('data/train\\\\ROSY MAPLE MOTH\\\\115.jpg', 16), ('data/train\\\\ROSY MAPLE MOTH\\\\086.jpg', 16), ('data/train\\\\ROSY MAPLE MOTH\\\\049.jpg', 16), ('data/train\\\\ROSY MAPLE MOTH\\\\127.jpg', 16), ('data/train\\\\ROSY MAPLE MOTH\\\\101.jpg', 16), ('data/train\\\\ROSY MAPLE MOTH\\\\129.jpg', 16), ('data/train\\\\ROSY MAPLE MOTH\\\\055.jpg', 16), ('data/train\\\\ROSY MAPLE MOTH\\\\023.jpg', 16), ('data/train\\\\ROSY MAPLE MOTH\\\\072.jpg', 16), ('data/train\\\\ROSY MAPLE MOTH\\\\092.jpg', 16), ('data/train\\\\ROSY MAPLE MOTH\\\\125.jpg', 16), ('data/train\\\\ROSY MAPLE MOTH\\\\081.jpg', 16), ('data/train\\\\ROSY MAPLE MOTH\\\\053.jpg', 16), ('data/train\\\\ROSY MAPLE MOTH\\\\029.jpg', 16), ('data/train\\\\ROSY MAPLE MOTH\\\\067.jpg', 16), ('data/train\\\\ROSY MAPLE MOTH\\\\019.jpg', 16), ('data/train\\\\ROSY MAPLE MOTH\\\\039.jpg', 16), ('data/train\\\\ROSY MAPLE MOTH\\\\111.jpg', 16), ('data/train\\\\ROSY MAPLE MOTH\\\\042.jpg', 16), ('data/train\\\\ROSY MAPLE MOTH\\\\117.jpg', 16), ('data/train\\\\ROSY MAPLE MOTH\\\\103.jpg', 16), ('data/train\\\\ROSY MAPLE MOTH\\\\041.jpg', 16), ('data/train\\\\ROSY MAPLE MOTH\\\\074.jpg', 16), ('data/train\\\\ROSY MAPLE MOTH\\\\122.jpg', 16), ('data/train\\\\ROSY MAPLE MOTH\\\\038.jpg', 16), ('data/train\\\\ROSY MAPLE MOTH\\\\065.jpg', 16), ('data/train\\\\ROSY MAPLE MOTH\\\\018.jpg', 16), ('data/train\\\\ROSY MAPLE MOTH\\\\008.jpg', 16), ('data/train\\\\ROSY MAPLE MOTH\\\\028.jpg', 16), ('data/train\\\\ROSY MAPLE MOTH\\\\070.jpg', 16), ('data/train\\\\ROSY MAPLE MOTH\\\\030.jpg', 16), ('data/train\\\\ROSY MAPLE MOTH\\\\057.jpg', 16), ('data/train\\\\ROSY MAPLE MOTH\\\\052.jpg', 16), ('data/train\\\\ROSY MAPLE MOTH\\\\135.jpg', 16), ('data/train\\\\ROSY MAPLE MOTH\\\\095.jpg', 16), ('data/train\\\\ROSY MAPLE MOTH\\\\032.jpg', 16), ('data/train\\\\ROSY MAPLE MOTH\\\\007.jpg', 16), ('data/train\\\\ROSY MAPLE MOTH\\\\091.jpg', 16), ('data/train\\\\ROSY MAPLE MOTH\\\\087.jpg', 16), ('data/train\\\\ROSY MAPLE MOTH\\\\107.jpg', 16), ('data/train\\\\ROSY MAPLE MOTH\\\\137.jpg', 16), ('data/train\\\\ROSY MAPLE MOTH\\\\128.jpg', 16), ('data/train\\\\ROSY MAPLE MOTH\\\\134.jpg', 16), ('data/train\\\\ROSY MAPLE MOTH\\\\013.jpg', 16), ('data/train\\\\ROSY MAPLE MOTH\\\\009.jpg', 16), ('data/train\\\\ROSY MAPLE MOTH\\\\027.jpg', 16), ('data/train\\\\ROSY MAPLE MOTH\\\\031.jpg', 16), ('data/train\\\\ROSY MAPLE MOTH\\\\003.jpg', 16), ('data/train\\\\ROSY MAPLE MOTH\\\\099.jpg', 16), ('data/train\\\\ROSY MAPLE MOTH\\\\079.jpg', 16), ('data/train\\\\ROSY MAPLE MOTH\\\\054.jpg', 16), ('data/train\\\\ROSY MAPLE MOTH\\\\085.jpg', 16), ('data/train\\\\ROSY MAPLE MOTH\\\\104.jpg', 16), ('data/train\\\\BANDED TIGER MOTH\\\\045.jpg', 3), ('data/train\\\\BANDED TIGER MOTH\\\\119.jpg', 3), ('data/train\\\\BANDED TIGER MOTH\\\\078.jpg', 3), ('data/train\\\\BANDED TIGER MOTH\\\\021.jpg', 3), ('data/train\\\\BANDED TIGER MOTH\\\\014.jpg', 3), ('data/train\\\\BANDED TIGER MOTH\\\\025.jpg', 3), ('data/train\\\\BANDED TIGER MOTH\\\\004.jpg', 3), ('data/train\\\\BANDED TIGER MOTH\\\\082.jpg', 3), ('data/train\\\\BANDED TIGER MOTH\\\\087.jpg', 3), ('data/train\\\\BANDED TIGER MOTH\\\\051.jpg', 3), ('data/train\\\\BANDED TIGER MOTH\\\\011.jpg', 3), ('data/train\\\\BANDED TIGER MOTH\\\\050.jpg', 3), ('data/train\\\\BANDED TIGER MOTH\\\\086.jpg', 3), ('data/train\\\\BANDED TIGER MOTH\\\\058.jpg', 3), ('data/train\\\\BANDED TIGER MOTH\\\\106.jpg', 3), ('data/train\\\\BANDED TIGER MOTH\\\\042.jpg', 3), ('data/train\\\\BANDED TIGER MOTH\\\\072.jpg', 3), ('data/train\\\\BANDED TIGER MOTH\\\\081.jpg', 3), ('data/train\\\\BANDED TIGER MOTH\\\\057.jpg', 3), ('data/train\\\\BANDED TIGER MOTH\\\\062.jpg', 3), ('data/train\\\\BANDED TIGER MOTH\\\\052.jpg', 3), ('data/train\\\\BANDED TIGER MOTH\\\\056.jpg', 3), ('data/train\\\\BANDED TIGER MOTH\\\\127.jpg', 3), ('data/train\\\\BANDED TIGER MOTH\\\\094.jpg', 3), ('data/train\\\\BANDED TIGER MOTH\\\\015.jpg', 3), ('data/train\\\\BANDED TIGER MOTH\\\\116.jpg', 3), ('data/train\\\\BANDED TIGER MOTH\\\\066.jpg', 3), ('data/train\\\\BANDED TIGER MOTH\\\\113.jpg', 3), ('data/train\\\\BANDED TIGER MOTH\\\\037.jpg', 3), ('data/train\\\\BANDED TIGER MOTH\\\\104.jpg', 3), ('data/train\\\\BANDED TIGER MOTH\\\\097.jpg', 3), ('data/train\\\\BANDED TIGER MOTH\\\\023.jpg', 3), ('data/train\\\\BANDED TIGER MOTH\\\\017.jpg', 3), ('data/train\\\\BANDED TIGER MOTH\\\\013.jpg', 3), ('data/train\\\\BANDED TIGER MOTH\\\\016.jpg', 3), ('data/train\\\\BANDED TIGER MOTH\\\\077.jpg', 3), ('data/train\\\\BANDED TIGER MOTH\\\\133.jpg', 3), ('data/train\\\\BANDED TIGER MOTH\\\\039.jpg', 3), ('data/train\\\\BANDED TIGER MOTH\\\\076.jpg', 3), ('data/train\\\\BANDED TIGER MOTH\\\\012.jpg', 3), ('data/train\\\\BANDED TIGER MOTH\\\\134.jpg', 3), ('data/train\\\\BANDED TIGER MOTH\\\\126.jpg', 3), ('data/train\\\\BANDED TIGER MOTH\\\\101.jpg', 3), ('data/train\\\\BANDED TIGER MOTH\\\\114.jpg', 3), ('data/train\\\\BANDED TIGER MOTH\\\\074.jpg', 3), ('data/train\\\\BANDED TIGER MOTH\\\\100.jpg', 3), ('data/train\\\\BANDED TIGER MOTH\\\\047.jpg', 3), ('data/train\\\\BANDED TIGER MOTH\\\\112.jpg', 3), ('data/train\\\\BANDED TIGER MOTH\\\\055.jpg', 3), ('data/train\\\\BANDED TIGER MOTH\\\\107.jpg', 3), ('data/train\\\\BANDED TIGER MOTH\\\\123.jpg', 3), ('data/train\\\\BANDED TIGER MOTH\\\\036.jpg', 3), ('data/train\\\\BANDED TIGER MOTH\\\\035.jpg', 3), ('data/train\\\\BANDED TIGER MOTH\\\\109.jpg', 3), ('data/train\\\\BANDED TIGER MOTH\\\\069.jpg', 3), ('data/train\\\\BANDED TIGER MOTH\\\\099.jpg', 3), ('data/train\\\\BANDED TIGER MOTH\\\\061.jpg', 3), ('data/train\\\\BANDED TIGER MOTH\\\\031.jpg', 3), ('data/train\\\\BANDED TIGER MOTH\\\\091.jpg', 3), ('data/train\\\\BANDED TIGER MOTH\\\\060.jpg', 3), ('data/train\\\\BANDED TIGER MOTH\\\\103.jpg', 3), ('data/train\\\\BANDED TIGER MOTH\\\\131.jpg', 3), ('data/train\\\\BANDED TIGER MOTH\\\\040.jpg', 3), ('data/train\\\\BANDED TIGER MOTH\\\\080.jpg', 3), ('data/train\\\\BANDED TIGER MOTH\\\\122.jpg', 3), ('data/train\\\\BANDED TIGER MOTH\\\\089.jpg', 3), ('data/train\\\\BANDED TIGER MOTH\\\\065.jpg', 3), ('data/train\\\\BANDED TIGER MOTH\\\\028.jpg', 3), ('data/train\\\\BANDED TIGER MOTH\\\\002.jpg', 3), ('data/train\\\\BANDED TIGER MOTH\\\\105.jpg', 3), ('data/train\\\\BANDED TIGER MOTH\\\\009.jpg', 3), ('data/train\\\\BANDED TIGER MOTH\\\\102.jpg', 3), ('data/train\\\\BANDED TIGER MOTH\\\\085.jpg', 3), ('data/train\\\\BANDED TIGER MOTH\\\\130.jpg', 3), ('data/train\\\\BANDED TIGER MOTH\\\\001.jpg', 3), ('data/train\\\\BANDED TIGER MOTH\\\\007.jpg', 3), ('data/train\\\\BANDED TIGER MOTH\\\\010.jpg', 3), ('data/train\\\\BANDED TIGER MOTH\\\\005.jpg', 3), ('data/train\\\\BANDED TIGER MOTH\\\\068.jpg', 3), ('data/train\\\\BANDED TIGER MOTH\\\\008.jpg', 3), ('data/train\\\\BANDED TIGER MOTH\\\\096.jpg', 3), ('data/train\\\\BANDED TIGER MOTH\\\\024.jpg', 3), ('data/train\\\\BANDED TIGER MOTH\\\\090.jpg', 3), ('data/train\\\\BANDED TIGER MOTH\\\\070.jpg', 3), ('data/train\\\\BANDED TIGER MOTH\\\\018.jpg', 3), ('data/train\\\\BANDED TIGER MOTH\\\\115.jpg', 3), ('data/train\\\\BANDED TIGER MOTH\\\\046.jpg', 3), ('data/train\\\\BANDED TIGER MOTH\\\\022.jpg', 3), ('data/train\\\\BANDED TIGER MOTH\\\\059.jpg', 3), ('data/train\\\\BANDED TIGER MOTH\\\\135.jpg', 3), ('data/train\\\\BANDED TIGER MOTH\\\\083.jpg', 3), ('data/train\\\\BANDED TIGER MOTH\\\\063.jpg', 3), ('data/train\\\\BANDED TIGER MOTH\\\\033.jpg', 3), ('data/train\\\\BANDED TIGER MOTH\\\\044.jpg', 3), ('data/train\\\\BANDED TIGER MOTH\\\\088.jpg', 3), ('data/train\\\\BANDED TIGER MOTH\\\\084.jpg', 3), ('data/train\\\\BANDED TIGER MOTH\\\\117.jpg', 3), ('data/train\\\\BANDED TIGER MOTH\\\\064.jpg', 3), ('data/train\\\\BANDED TIGER MOTH\\\\032.jpg', 3), ('data/train\\\\BANDED TIGER MOTH\\\\124.jpg', 3), ('data/train\\\\BANDED TIGER MOTH\\\\049.jpg', 3), ('data/train\\\\BANDED TIGER MOTH\\\\030.jpg', 3), ('data/train\\\\BANDED TIGER MOTH\\\\043.jpg', 3), ('data/train\\\\BANDED TIGER MOTH\\\\129.jpg', 3), ('data/train\\\\BANDED TIGER MOTH\\\\020.jpg', 3), ('data/train\\\\BANDED TIGER MOTH\\\\038.jpg', 3), ('data/train\\\\BANDED TIGER MOTH\\\\054.jpg', 3), ('data/train\\\\BANDED TIGER MOTH\\\\132.jpg', 3), ('data/train\\\\BANDED TIGER MOTH\\\\110.jpg', 3), ('data/train\\\\BANDED TIGER MOTH\\\\075.jpg', 3), ('data/train\\\\BANDED TIGER MOTH\\\\071.jpg', 3), ('data/train\\\\BANDED TIGER MOTH\\\\034.jpg', 3), ('data/train\\\\BANDED TIGER MOTH\\\\003.jpg', 3), ('data/train\\\\BANDED TIGER MOTH\\\\019.jpg', 3), ('data/train\\\\BANDED TIGER MOTH\\\\095.jpg', 3), ('data/train\\\\BANDED TIGER MOTH\\\\029.jpg', 3)]\n",
      "[('data/test\\\\ARCIGERA FLOWER MOTH\\\\1.jpg', 0), ('data/test\\\\ARCIGERA FLOWER MOTH\\\\2.jpg', 0), ('data/test\\\\ARCIGERA FLOWER MOTH\\\\3.jpg', 0), ('data/test\\\\ARCIGERA FLOWER MOTH\\\\4.jpg', 0), ('data/test\\\\ARCIGERA FLOWER MOTH\\\\5.jpg', 0), ('data/test\\\\ATALA\\\\1.jpg', 1), ('data/test\\\\ATALA\\\\2.jpg', 1), ('data/test\\\\ATALA\\\\3.jpg', 1), ('data/test\\\\ATALA\\\\4.jpg', 1), ('data/test\\\\ATALA\\\\5.jpg', 1), ('data/test\\\\BANDED ORANGE HELICONIAN\\\\1.jpg', 2), ('data/test\\\\BANDED ORANGE HELICONIAN\\\\2.jpg', 2), ('data/test\\\\BANDED ORANGE HELICONIAN\\\\3.jpg', 2), ('data/test\\\\BANDED ORANGE HELICONIAN\\\\4.jpg', 2), ('data/test\\\\BANDED ORANGE HELICONIAN\\\\5.jpg', 2), ('data/test\\\\BANDED TIGER MOTH\\\\1.jpg', 3), ('data/test\\\\BANDED TIGER MOTH\\\\2.jpg', 3), ('data/test\\\\BANDED TIGER MOTH\\\\3.jpg', 3), ('data/test\\\\BANDED TIGER MOTH\\\\4.jpg', 3), ('data/test\\\\BANDED TIGER MOTH\\\\5.jpg', 3), ('data/test\\\\BROOKES BIRDWING\\\\1.jpg', 4), ('data/test\\\\BROOKES BIRDWING\\\\2.jpg', 4), ('data/test\\\\BROOKES BIRDWING\\\\3.jpg', 4), ('data/test\\\\BROOKES BIRDWING\\\\4.jpg', 4), ('data/test\\\\BROOKES BIRDWING\\\\5.jpg', 4), ('data/test\\\\BROWN ARGUS\\\\1.jpg', 5), ('data/test\\\\BROWN ARGUS\\\\2.jpg', 5), ('data/test\\\\BROWN ARGUS\\\\3.jpg', 5), ('data/test\\\\BROWN ARGUS\\\\4.jpg', 5), ('data/test\\\\BROWN ARGUS\\\\5.jpg', 5), ('data/test\\\\BROWN SIPROETA\\\\1.jpg', 6), ('data/test\\\\BROWN SIPROETA\\\\2.jpg', 6), ('data/test\\\\BROWN SIPROETA\\\\3.jpg', 6), ('data/test\\\\BROWN SIPROETA\\\\4.jpg', 6), ('data/test\\\\BROWN SIPROETA\\\\5.jpg', 6), ('data/test\\\\CHALK HILL BLUE\\\\1.jpg', 7), ('data/test\\\\CHALK HILL BLUE\\\\2.jpg', 7), ('data/test\\\\CHALK HILL BLUE\\\\3.jpg', 7), ('data/test\\\\CHALK HILL BLUE\\\\4.jpg', 7), ('data/test\\\\CHALK HILL BLUE\\\\5.jpg', 7), ('data/test\\\\CRECENT\\\\1.jpg', 8), ('data/test\\\\CRECENT\\\\2.jpg', 8), ('data/test\\\\CRECENT\\\\3.jpg', 8), ('data/test\\\\CRECENT\\\\4.jpg', 8), ('data/test\\\\CRECENT\\\\5.jpg', 8), ('data/test\\\\GREEN HAIRSTREAK\\\\1.jpg', 9), ('data/test\\\\GREEN HAIRSTREAK\\\\2.jpg', 9), ('data/test\\\\GREEN HAIRSTREAK\\\\3.jpg', 9), ('data/test\\\\GREEN HAIRSTREAK\\\\4.jpg', 9), ('data/test\\\\GREEN HAIRSTREAK\\\\5.jpg', 9), ('data/test\\\\HERCULES MOTH\\\\1.jpg', 10), ('data/test\\\\HERCULES MOTH\\\\2.jpg', 10), ('data/test\\\\HERCULES MOTH\\\\3.jpg', 10), ('data/test\\\\HERCULES MOTH\\\\4.jpg', 10), ('data/test\\\\HERCULES MOTH\\\\5.jpg', 10), ('data/test\\\\HUMMING BIRD HAWK MOTH\\\\1.jpg', 11), ('data/test\\\\HUMMING BIRD HAWK MOTH\\\\2.jpg', 11), ('data/test\\\\HUMMING BIRD HAWK MOTH\\\\3.jpg', 11), ('data/test\\\\HUMMING BIRD HAWK MOTH\\\\4.jpg', 11), ('data/test\\\\HUMMING BIRD HAWK MOTH\\\\5.jpg', 11), ('data/test\\\\MILBERTS TORTOISESHELL\\\\1.jpg', 12), ('data/test\\\\MILBERTS TORTOISESHELL\\\\2.jpg', 12), ('data/test\\\\MILBERTS TORTOISESHELL\\\\3.jpg', 12), ('data/test\\\\MILBERTS TORTOISESHELL\\\\4.jpg', 12), ('data/test\\\\MILBERTS TORTOISESHELL\\\\5.jpg', 12), ('data/test\\\\MOURNING CLOAK\\\\1.jpg', 13), ('data/test\\\\MOURNING CLOAK\\\\2.jpg', 13), ('data/test\\\\MOURNING CLOAK\\\\3.jpg', 13), ('data/test\\\\MOURNING CLOAK\\\\4.jpg', 13), ('data/test\\\\MOURNING CLOAK\\\\5.jpg', 13), ('data/test\\\\ORANGE TIP\\\\1.jpg', 14), ('data/test\\\\ORANGE TIP\\\\2.jpg', 14), ('data/test\\\\ORANGE TIP\\\\3.jpg', 14), ('data/test\\\\ORANGE TIP\\\\4.jpg', 14), ('data/test\\\\ORANGE TIP\\\\5.jpg', 14), ('data/test\\\\RED CRACKER\\\\1.jpg', 15), ('data/test\\\\RED CRACKER\\\\2.jpg', 15), ('data/test\\\\RED CRACKER\\\\3.jpg', 15), ('data/test\\\\RED CRACKER\\\\4.jpg', 15), ('data/test\\\\RED CRACKER\\\\5.jpg', 15), ('data/test\\\\ROSY MAPLE MOTH\\\\1.jpg', 16), ('data/test\\\\ROSY MAPLE MOTH\\\\2.jpg', 16), ('data/test\\\\ROSY MAPLE MOTH\\\\3.jpg', 16), ('data/test\\\\ROSY MAPLE MOTH\\\\4.jpg', 16), ('data/test\\\\ROSY MAPLE MOTH\\\\5.jpg', 16), ('data/test\\\\SCARCE SWALLOW\\\\1.jpg', 17), ('data/test\\\\SCARCE SWALLOW\\\\2.jpg', 17), ('data/test\\\\SCARCE SWALLOW\\\\3.jpg', 17), ('data/test\\\\SCARCE SWALLOW\\\\4.jpg', 17), ('data/test\\\\SCARCE SWALLOW\\\\5.jpg', 17), ('data/test\\\\SLEEPY ORANGE\\\\1.jpg', 18), ('data/test\\\\SLEEPY ORANGE\\\\2.jpg', 18), ('data/test\\\\SLEEPY ORANGE\\\\3.jpg', 18), ('data/test\\\\SLEEPY ORANGE\\\\4.jpg', 18), ('data/test\\\\SLEEPY ORANGE\\\\5.jpg', 18), ('data/test\\\\WHITE LINED SPHINX MOTH\\\\1.jpg', 19), ('data/test\\\\WHITE LINED SPHINX MOTH\\\\2.jpg', 19), ('data/test\\\\WHITE LINED SPHINX MOTH\\\\3.jpg', 19), ('data/test\\\\WHITE LINED SPHINX MOTH\\\\4.jpg', 19), ('data/test\\\\WHITE LINED SPHINX MOTH\\\\5.jpg', 19), ('data/train\\\\MOURNING CLOAK\\\\155.jpg', 13), ('data/train\\\\MOURNING CLOAK\\\\130.jpg', 13), ('data/train\\\\MOURNING CLOAK\\\\060.jpg', 13), ('data/train\\\\MOURNING CLOAK\\\\056.jpg', 13), ('data/train\\\\MOURNING CLOAK\\\\024.jpg', 13), ('data/train\\\\MOURNING CLOAK\\\\008.jpg', 13), ('data/train\\\\MOURNING CLOAK\\\\009.jpg', 13), ('data/train\\\\MOURNING CLOAK\\\\109.jpg', 13), ('data/train\\\\MOURNING CLOAK\\\\152.jpg', 13), ('data/train\\\\MOURNING CLOAK\\\\023.jpg', 13), ('data/train\\\\MOURNING CLOAK\\\\140.jpg', 13), ('data/train\\\\MOURNING CLOAK\\\\174.jpg', 13), ('data/train\\\\MOURNING CLOAK\\\\027.jpg', 13), ('data/train\\\\MOURNING CLOAK\\\\036.jpg', 13), ('data/train\\\\MOURNING CLOAK\\\\058.jpg', 13), ('data/train\\\\MOURNING CLOAK\\\\063.jpg', 13), ('data/train\\\\MOURNING CLOAK\\\\071.jpg', 13), ('data/train\\\\MOURNING CLOAK\\\\007.jpg', 13), ('data/train\\\\MOURNING CLOAK\\\\029.jpg', 13), ('data/train\\\\MOURNING CLOAK\\\\164.jpg', 13), ('data/train\\\\GREEN HAIRSTREAK\\\\133.jpg', 9), ('data/train\\\\GREEN HAIRSTREAK\\\\113.jpg', 9), ('data/train\\\\GREEN HAIRSTREAK\\\\096.jpg', 9), ('data/train\\\\GREEN HAIRSTREAK\\\\103.jpg', 9), ('data/train\\\\GREEN HAIRSTREAK\\\\080.jpg', 9), ('data/train\\\\GREEN HAIRSTREAK\\\\052.jpg', 9), ('data/train\\\\GREEN HAIRSTREAK\\\\139.jpg', 9), ('data/train\\\\GREEN HAIRSTREAK\\\\055.jpg', 9), ('data/train\\\\GREEN HAIRSTREAK\\\\109.jpg', 9), ('data/train\\\\GREEN HAIRSTREAK\\\\156.jpg', 9), ('data/train\\\\GREEN HAIRSTREAK\\\\136.jpg', 9), ('data/train\\\\GREEN HAIRSTREAK\\\\068.jpg', 9), ('data/train\\\\GREEN HAIRSTREAK\\\\043.jpg', 9), ('data/train\\\\GREEN HAIRSTREAK\\\\141.jpg', 9), ('data/train\\\\GREEN HAIRSTREAK\\\\122.jpg', 9), ('data/train\\\\GREEN HAIRSTREAK\\\\169.jpg', 9), ('data/train\\\\GREEN HAIRSTREAK\\\\174.jpg', 9), ('data/train\\\\GREEN HAIRSTREAK\\\\033.jpg', 9), ('data/train\\\\GREEN HAIRSTREAK\\\\137.jpg', 9), ('data/train\\\\GREEN HAIRSTREAK\\\\018.jpg', 9), ('data/train\\\\BROWN ARGUS\\\\130.jpg', 5), ('data/train\\\\BROWN ARGUS\\\\161.jpg', 5), ('data/train\\\\BROWN ARGUS\\\\053.jpg', 5), ('data/train\\\\BROWN ARGUS\\\\088.jpg', 5), ('data/train\\\\BROWN ARGUS\\\\054.jpg', 5), ('data/train\\\\BROWN ARGUS\\\\073.jpg', 5), ('data/train\\\\BROWN ARGUS\\\\070.jpg', 5), ('data/train\\\\BROWN ARGUS\\\\040.jpg', 5), ('data/train\\\\BROWN ARGUS\\\\165.jpg', 5), ('data/train\\\\BROWN ARGUS\\\\028.jpg', 5), ('data/train\\\\BROWN ARGUS\\\\030.jpg', 5), ('data/train\\\\BROWN ARGUS\\\\068.jpg', 5), ('data/train\\\\BROWN ARGUS\\\\035.jpg', 5), ('data/train\\\\BROWN ARGUS\\\\027.jpg', 5), ('data/train\\\\BROWN ARGUS\\\\077.jpg', 5), ('data/train\\\\BROWN ARGUS\\\\142.jpg', 5), ('data/train\\\\BROWN ARGUS\\\\003.jpg', 5), ('data/train\\\\BROWN ARGUS\\\\136.jpg', 5), ('data/train\\\\BROWN ARGUS\\\\168.jpg', 5), ('data/train\\\\BROWN ARGUS\\\\157.jpg', 5), ('data/train\\\\BROOKES BIRDWING\\\\050.jpg', 4), ('data/train\\\\BROOKES BIRDWING\\\\107.jpg', 4), ('data/train\\\\BROOKES BIRDWING\\\\117.jpg', 4), ('data/train\\\\BROOKES BIRDWING\\\\019.jpg', 4), ('data/train\\\\BROOKES BIRDWING\\\\122.jpg', 4), ('data/train\\\\BROOKES BIRDWING\\\\063.jpg', 4), ('data/train\\\\BROOKES BIRDWING\\\\012.jpg', 4), ('data/train\\\\BROOKES BIRDWING\\\\007.jpg', 4), ('data/train\\\\BROOKES BIRDWING\\\\038.jpg', 4), ('data/train\\\\BROOKES BIRDWING\\\\051.jpg', 4), ('data/train\\\\BROOKES BIRDWING\\\\058.jpg', 4), ('data/train\\\\BROOKES BIRDWING\\\\080.jpg', 4), ('data/train\\\\BROOKES BIRDWING\\\\061.jpg', 4), ('data/train\\\\BROOKES BIRDWING\\\\024.jpg', 4), ('data/train\\\\BROOKES BIRDWING\\\\086.jpg', 4), ('data/train\\\\BROOKES BIRDWING\\\\159.jpg', 4), ('data/train\\\\BROOKES BIRDWING\\\\132.jpg', 4), ('data/train\\\\BROOKES BIRDWING\\\\073.jpg', 4), ('data/train\\\\BROOKES BIRDWING\\\\022.jpg', 4), ('data/train\\\\BROOKES BIRDWING\\\\044.jpg', 4), ('data/train\\\\SLEEPY ORANGE\\\\102.jpg', 18), ('data/train\\\\SLEEPY ORANGE\\\\097.jpg', 18), ('data/train\\\\SLEEPY ORANGE\\\\139.jpg', 18), ('data/train\\\\SLEEPY ORANGE\\\\007.jpg', 18), ('data/train\\\\SLEEPY ORANGE\\\\028.jpg', 18), ('data/train\\\\SLEEPY ORANGE\\\\080.jpg', 18), ('data/train\\\\SLEEPY ORANGE\\\\042.jpg', 18), ('data/train\\\\SLEEPY ORANGE\\\\148.jpg', 18), ('data/train\\\\SLEEPY ORANGE\\\\043.jpg', 18), ('data/train\\\\SLEEPY ORANGE\\\\095.jpg', 18), ('data/train\\\\SLEEPY ORANGE\\\\066.jpg', 18), ('data/train\\\\SLEEPY ORANGE\\\\120.jpg', 18), ('data/train\\\\SLEEPY ORANGE\\\\056.jpg', 18), ('data/train\\\\SLEEPY ORANGE\\\\145.jpg', 18), ('data/train\\\\SLEEPY ORANGE\\\\030.jpg', 18), ('data/train\\\\SLEEPY ORANGE\\\\122.jpg', 18), ('data/train\\\\SLEEPY ORANGE\\\\033.jpg', 18), ('data/train\\\\SLEEPY ORANGE\\\\062.jpg', 18), ('data/train\\\\SLEEPY ORANGE\\\\040.jpg', 18), ('data/train\\\\SLEEPY ORANGE\\\\006.jpg', 18), ('data/train\\\\CHALK HILL BLUE\\\\145.jpg', 7), ('data/train\\\\CHALK HILL BLUE\\\\103.jpg', 7), ('data/train\\\\CHALK HILL BLUE\\\\017.jpg', 7), ('data/train\\\\CHALK HILL BLUE\\\\030.jpg', 7), ('data/train\\\\CHALK HILL BLUE\\\\140.jpg', 7), ('data/train\\\\CHALK HILL BLUE\\\\065.jpg', 7), ('data/train\\\\CHALK HILL BLUE\\\\149.jpg', 7), ('data/train\\\\CHALK HILL BLUE\\\\048.jpg', 7), ('data/train\\\\CHALK HILL BLUE\\\\088.jpg', 7), ('data/train\\\\CHALK HILL BLUE\\\\113.jpg', 7), ('data/train\\\\CHALK HILL BLUE\\\\123.jpg', 7), ('data/train\\\\CHALK HILL BLUE\\\\121.jpg', 7), ('data/train\\\\CHALK HILL BLUE\\\\073.jpg', 7), ('data/train\\\\CHALK HILL BLUE\\\\004.jpg', 7), ('data/train\\\\CHALK HILL BLUE\\\\027.jpg', 7), ('data/train\\\\CHALK HILL BLUE\\\\126.jpg', 7), ('data/train\\\\CHALK HILL BLUE\\\\033.jpg', 7), ('data/train\\\\CHALK HILL BLUE\\\\075.jpg', 7), ('data/train\\\\CHALK HILL BLUE\\\\142.jpg', 7), ('data/train\\\\CHALK HILL BLUE\\\\014.jpg', 7), ('data/train\\\\ATALA\\\\080.jpg', 1), ('data/train\\\\ATALA\\\\047.jpg', 1), ('data/train\\\\ATALA\\\\067.jpg', 1), ('data/train\\\\ATALA\\\\025.jpg', 1), ('data/train\\\\ATALA\\\\014.jpg', 1), ('data/train\\\\ATALA\\\\143.jpg', 1), ('data/train\\\\ATALA\\\\119.jpg', 1), ('data/train\\\\ATALA\\\\001.jpg', 1), ('data/train\\\\ATALA\\\\104.jpg', 1), ('data/train\\\\ATALA\\\\030.jpg', 1), ('data/train\\\\ATALA\\\\083.jpg', 1), ('data/train\\\\ATALA\\\\065.jpg', 1), ('data/train\\\\ATALA\\\\081.jpg', 1), ('data/train\\\\ATALA\\\\023.jpg', 1), ('data/train\\\\ATALA\\\\117.jpg', 1), ('data/train\\\\ATALA\\\\010.jpg', 1), ('data/train\\\\ATALA\\\\103.jpg', 1), ('data/train\\\\ATALA\\\\074.jpg', 1), ('data/train\\\\ATALA\\\\127.jpg', 1), ('data/train\\\\ATALA\\\\106.jpg', 1), ('data/train\\\\HUMMING BIRD HAWK MOTH\\\\088.jpg', 11), ('data/train\\\\HUMMING BIRD HAWK MOTH\\\\073.jpg', 11), ('data/train\\\\HUMMING BIRD HAWK MOTH\\\\053.jpg', 11), ('data/train\\\\HUMMING BIRD HAWK MOTH\\\\068.jpg', 11), ('data/train\\\\HUMMING BIRD HAWK MOTH\\\\063.jpg', 11), ('data/train\\\\HUMMING BIRD HAWK MOTH\\\\038.jpg', 11), ('data/train\\\\HUMMING BIRD HAWK MOTH\\\\111.jpg', 11), ('data/train\\\\HUMMING BIRD HAWK MOTH\\\\096.jpg', 11), ('data/train\\\\HUMMING BIRD HAWK MOTH\\\\092.jpg', 11), ('data/train\\\\HUMMING BIRD HAWK MOTH\\\\076.jpg', 11), ('data/train\\\\HUMMING BIRD HAWK MOTH\\\\015.jpg', 11), ('data/train\\\\HUMMING BIRD HAWK MOTH\\\\084.jpg', 11), ('data/train\\\\HUMMING BIRD HAWK MOTH\\\\012.jpg', 11), ('data/train\\\\HUMMING BIRD HAWK MOTH\\\\008.jpg', 11), ('data/train\\\\HUMMING BIRD HAWK MOTH\\\\077.jpg', 11), ('data/train\\\\HUMMING BIRD HAWK MOTH\\\\043.jpg', 11), ('data/train\\\\HUMMING BIRD HAWK MOTH\\\\114.jpg', 11), ('data/train\\\\HUMMING BIRD HAWK MOTH\\\\142.jpg', 11), ('data/train\\\\HUMMING BIRD HAWK MOTH\\\\026.jpg', 11), ('data/train\\\\HUMMING BIRD HAWK MOTH\\\\112.jpg', 11), ('data/train\\\\WHITE LINED SPHINX MOTH\\\\114.jpg', 19), ('data/train\\\\WHITE LINED SPHINX MOTH\\\\031.jpg', 19), ('data/train\\\\WHITE LINED SPHINX MOTH\\\\013.jpg', 19), ('data/train\\\\WHITE LINED SPHINX MOTH\\\\015.jpg', 19), ('data/train\\\\WHITE LINED SPHINX MOTH\\\\127.jpg', 19), ('data/train\\\\WHITE LINED SPHINX MOTH\\\\135.jpg', 19), ('data/train\\\\WHITE LINED SPHINX MOTH\\\\010.jpg', 19), ('data/train\\\\WHITE LINED SPHINX MOTH\\\\012.jpg', 19), ('data/train\\\\WHITE LINED SPHINX MOTH\\\\036.jpg', 19), ('data/train\\\\WHITE LINED SPHINX MOTH\\\\030.jpg', 19), ('data/train\\\\WHITE LINED SPHINX MOTH\\\\105.jpg', 19), ('data/train\\\\WHITE LINED SPHINX MOTH\\\\078.jpg', 19), ('data/train\\\\WHITE LINED SPHINX MOTH\\\\119.jpg', 19), ('data/train\\\\WHITE LINED SPHINX MOTH\\\\017.jpg', 19), ('data/train\\\\WHITE LINED SPHINX MOTH\\\\057.jpg', 19), ('data/train\\\\WHITE LINED SPHINX MOTH\\\\084.jpg', 19), ('data/train\\\\WHITE LINED SPHINX MOTH\\\\007.jpg', 19), ('data/train\\\\WHITE LINED SPHINX MOTH\\\\121.jpg', 19), ('data/train\\\\WHITE LINED SPHINX MOTH\\\\060.jpg', 19), ('data/train\\\\WHITE LINED SPHINX MOTH\\\\028.jpg', 19), ('data/train\\\\BROWN SIPROETA\\\\086.jpg', 6), ('data/train\\\\BROWN SIPROETA\\\\125.jpg', 6), ('data/train\\\\BROWN SIPROETA\\\\055.jpg', 6), ('data/train\\\\BROWN SIPROETA\\\\041.jpg', 6), ('data/train\\\\BROWN SIPROETA\\\\013.jpg', 6), ('data/train\\\\BROWN SIPROETA\\\\094.jpg', 6), ('data/train\\\\BROWN SIPROETA\\\\107.jpg', 6), ('data/train\\\\BROWN SIPROETA\\\\103.jpg', 6), ('data/train\\\\BROWN SIPROETA\\\\141.jpg', 6), ('data/train\\\\BROWN SIPROETA\\\\087.jpg', 6), ('data/train\\\\BROWN SIPROETA\\\\106.jpg', 6), ('data/train\\\\BROWN SIPROETA\\\\059.jpg', 6), ('data/train\\\\BROWN SIPROETA\\\\116.jpg', 6), ('data/train\\\\BROWN SIPROETA\\\\139.jpg', 6), ('data/train\\\\BROWN SIPROETA\\\\056.jpg', 6), ('data/train\\\\BROWN SIPROETA\\\\030.jpg', 6), ('data/train\\\\BROWN SIPROETA\\\\026.jpg', 6), ('data/train\\\\BROWN SIPROETA\\\\111.jpg', 6), ('data/train\\\\BROWN SIPROETA\\\\130.jpg', 6), ('data/train\\\\BROWN SIPROETA\\\\117.jpg', 6), ('data/train\\\\ARCIGERA FLOWER MOTH\\\\118.jpg', 0), ('data/train\\\\ARCIGERA FLOWER MOTH\\\\132.jpg', 0), ('data/train\\\\ARCIGERA FLOWER MOTH\\\\003.jpg', 0), ('data/train\\\\ARCIGERA FLOWER MOTH\\\\056.jpg', 0), ('data/train\\\\ARCIGERA FLOWER MOTH\\\\006.jpg', 0), ('data/train\\\\ARCIGERA FLOWER MOTH\\\\095.jpg', 0), ('data/train\\\\ARCIGERA FLOWER MOTH\\\\136.jpg', 0), ('data/train\\\\ARCIGERA FLOWER MOTH\\\\102.jpg', 0), ('data/train\\\\ARCIGERA FLOWER MOTH\\\\019.jpg', 0), ('data/train\\\\ARCIGERA FLOWER MOTH\\\\091.jpg', 0), ('data/train\\\\ARCIGERA FLOWER MOTH\\\\129.jpg', 0), ('data/train\\\\ARCIGERA FLOWER MOTH\\\\059.jpg', 0), ('data/train\\\\ARCIGERA FLOWER MOTH\\\\098.jpg', 0), ('data/train\\\\ARCIGERA FLOWER MOTH\\\\034.jpg', 0), ('data/train\\\\ARCIGERA FLOWER MOTH\\\\045.jpg', 0), ('data/train\\\\ARCIGERA FLOWER MOTH\\\\111.jpg', 0), ('data/train\\\\ARCIGERA FLOWER MOTH\\\\128.jpg', 0), ('data/train\\\\ARCIGERA FLOWER MOTH\\\\002.jpg', 0), ('data/train\\\\ARCIGERA FLOWER MOTH\\\\031.jpg', 0), ('data/train\\\\ARCIGERA FLOWER MOTH\\\\084.jpg', 0), ('data/train\\\\BANDED ORANGE HELICONIAN\\\\072.jpg', 2), ('data/train\\\\BANDED ORANGE HELICONIAN\\\\013.jpg', 2), ('data/train\\\\BANDED ORANGE HELICONIAN\\\\124.jpg', 2), ('data/train\\\\BANDED ORANGE HELICONIAN\\\\009.jpg', 2), ('data/train\\\\BANDED ORANGE HELICONIAN\\\\043.jpg', 2), ('data/train\\\\BANDED ORANGE HELICONIAN\\\\083.jpg', 2), ('data/train\\\\BANDED ORANGE HELICONIAN\\\\081.jpg', 2), ('data/train\\\\BANDED ORANGE HELICONIAN\\\\102.jpg', 2), ('data/train\\\\BANDED ORANGE HELICONIAN\\\\014.jpg', 2), ('data/train\\\\BANDED ORANGE HELICONIAN\\\\087.jpg', 2), ('data/train\\\\BANDED ORANGE HELICONIAN\\\\105.jpg', 2), ('data/train\\\\BANDED ORANGE HELICONIAN\\\\100.jpg', 2), ('data/train\\\\BANDED ORANGE HELICONIAN\\\\073.jpg', 2), ('data/train\\\\BANDED ORANGE HELICONIAN\\\\096.jpg', 2), ('data/train\\\\BANDED ORANGE HELICONIAN\\\\094.jpg', 2), ('data/train\\\\BANDED ORANGE HELICONIAN\\\\041.jpg', 2), ('data/train\\\\BANDED ORANGE HELICONIAN\\\\134.jpg', 2), ('data/train\\\\BANDED ORANGE HELICONIAN\\\\135.jpg', 2), ('data/train\\\\BANDED ORANGE HELICONIAN\\\\139.jpg', 2), ('data/train\\\\BANDED ORANGE HELICONIAN\\\\113.jpg', 2), ('data/train\\\\SCARCE SWALLOW\\\\136.jpg', 17), ('data/train\\\\SCARCE SWALLOW\\\\043.jpg', 17), ('data/train\\\\SCARCE SWALLOW\\\\084.jpg', 17), ('data/train\\\\SCARCE SWALLOW\\\\092.jpg', 17), ('data/train\\\\SCARCE SWALLOW\\\\108.jpg', 17), ('data/train\\\\SCARCE SWALLOW\\\\013.jpg', 17), ('data/train\\\\SCARCE SWALLOW\\\\120.jpg', 17), ('data/train\\\\SCARCE SWALLOW\\\\041.jpg', 17), ('data/train\\\\SCARCE SWALLOW\\\\008.jpg', 17), ('data/train\\\\SCARCE SWALLOW\\\\058.jpg', 17), ('data/train\\\\SCARCE SWALLOW\\\\134.jpg', 17), ('data/train\\\\SCARCE SWALLOW\\\\021.jpg', 17), ('data/train\\\\SCARCE SWALLOW\\\\099.jpg', 17), ('data/train\\\\SCARCE SWALLOW\\\\061.jpg', 17), ('data/train\\\\SCARCE SWALLOW\\\\096.jpg', 17), ('data/train\\\\SCARCE SWALLOW\\\\129.jpg', 17), ('data/train\\\\SCARCE SWALLOW\\\\102.jpg', 17), ('data/train\\\\SCARCE SWALLOW\\\\014.jpg', 17), ('data/train\\\\SCARCE SWALLOW\\\\107.jpg', 17), ('data/train\\\\SCARCE SWALLOW\\\\007.jpg', 17), ('data/train\\\\CRECENT\\\\100.jpg', 8), ('data/train\\\\CRECENT\\\\84.jpg', 8), ('data/train\\\\CRECENT\\\\122.jpg', 8), ('data/train\\\\CRECENT\\\\28.jpg', 8), ('data/train\\\\CRECENT\\\\94.jpg', 8), ('data/train\\\\CRECENT\\\\80.jpg', 8), ('data/train\\\\CRECENT\\\\90.jpg', 8), ('data/train\\\\CRECENT\\\\25.jpg', 8), ('data/train\\\\CRECENT\\\\50.jpg', 8), ('data/train\\\\CRECENT\\\\89.jpg', 8), ('data/train\\\\CRECENT\\\\134.jpg', 8), ('data/train\\\\CRECENT\\\\48.jpg', 8), ('data/train\\\\CRECENT\\\\60.jpg', 8), ('data/train\\\\CRECENT\\\\74.jpg', 8), ('data/train\\\\CRECENT\\\\64.jpg', 8), ('data/train\\\\CRECENT\\\\73.jpg', 8), ('data/train\\\\CRECENT\\\\56.jpg', 8), ('data/train\\\\CRECENT\\\\12.jpg', 8), ('data/train\\\\CRECENT\\\\31.jpg', 8), ('data/train\\\\CRECENT\\\\46.jpg', 8), ('data/train\\\\HERCULES MOTH\\\\045.jpg', 10), ('data/train\\\\HERCULES MOTH\\\\067.jpg', 10), ('data/train\\\\HERCULES MOTH\\\\088.jpg', 10), ('data/train\\\\HERCULES MOTH\\\\060.jpg', 10), ('data/train\\\\HERCULES MOTH\\\\058.jpg', 10), ('data/train\\\\HERCULES MOTH\\\\010.jpg', 10), ('data/train\\\\HERCULES MOTH\\\\083.jpg', 10), ('data/train\\\\HERCULES MOTH\\\\041.jpg', 10), ('data/train\\\\HERCULES MOTH\\\\125.jpg', 10), ('data/train\\\\HERCULES MOTH\\\\134.jpg', 10), ('data/train\\\\HERCULES MOTH\\\\019.jpg', 10), ('data/train\\\\HERCULES MOTH\\\\105.jpg', 10), ('data/train\\\\HERCULES MOTH\\\\106.jpg', 10), ('data/train\\\\HERCULES MOTH\\\\123.jpg', 10), ('data/train\\\\HERCULES MOTH\\\\102.jpg', 10), ('data/train\\\\HERCULES MOTH\\\\080.jpg', 10), ('data/train\\\\HERCULES MOTH\\\\017.jpg', 10), ('data/train\\\\HERCULES MOTH\\\\023.jpg', 10), ('data/train\\\\HERCULES MOTH\\\\034.jpg', 10), ('data/train\\\\HERCULES MOTH\\\\120.jpg', 10), ('data/train\\\\MILBERTS TORTOISESHELL\\\\069.jpg', 12), ('data/train\\\\MILBERTS TORTOISESHELL\\\\127.jpg', 12), ('data/train\\\\MILBERTS TORTOISESHELL\\\\061.jpg', 12), ('data/train\\\\MILBERTS TORTOISESHELL\\\\087.jpg', 12), ('data/train\\\\MILBERTS TORTOISESHELL\\\\084.jpg', 12), ('data/train\\\\MILBERTS TORTOISESHELL\\\\108.jpg', 12), ('data/train\\\\MILBERTS TORTOISESHELL\\\\113.jpg', 12), ('data/train\\\\MILBERTS TORTOISESHELL\\\\077.jpg', 12), ('data/train\\\\MILBERTS TORTOISESHELL\\\\064.jpg', 12), ('data/train\\\\MILBERTS TORTOISESHELL\\\\037.jpg', 12), ('data/train\\\\MILBERTS TORTOISESHELL\\\\129.jpg', 12), ('data/train\\\\MILBERTS TORTOISESHELL\\\\013.jpg', 12), ('data/train\\\\MILBERTS TORTOISESHELL\\\\091.jpg', 12), ('data/train\\\\MILBERTS TORTOISESHELL\\\\056.jpg', 12), ('data/train\\\\MILBERTS TORTOISESHELL\\\\062.jpg', 12), ('data/train\\\\MILBERTS TORTOISESHELL\\\\118.jpg', 12), ('data/train\\\\MILBERTS TORTOISESHELL\\\\130.jpg', 12), ('data/train\\\\MILBERTS TORTOISESHELL\\\\101.jpg', 12), ('data/train\\\\MILBERTS TORTOISESHELL\\\\024.jpg', 12), ('data/train\\\\MILBERTS TORTOISESHELL\\\\006.jpg', 12), ('data/train\\\\ORANGE TIP\\\\82.jpg', 14), ('data/train\\\\ORANGE TIP\\\\117.jpg', 14), ('data/train\\\\ORANGE TIP\\\\126.jpg', 14), ('data/train\\\\ORANGE TIP\\\\34.jpg', 14), ('data/train\\\\ORANGE TIP\\\\123.jpg', 14), ('data/train\\\\ORANGE TIP\\\\12.jpg', 14), ('data/train\\\\ORANGE TIP\\\\98.jpg', 14), ('data/train\\\\ORANGE TIP\\\\113.jpg', 14), ('data/train\\\\ORANGE TIP\\\\24.jpg', 14), ('data/train\\\\ORANGE TIP\\\\41.jpg', 14), ('data/train\\\\ORANGE TIP\\\\30.jpg', 14), ('data/train\\\\ORANGE TIP\\\\53.jpg', 14), ('data/train\\\\ORANGE TIP\\\\50.jpg', 14), ('data/train\\\\ORANGE TIP\\\\80.jpg', 14), ('data/train\\\\ORANGE TIP\\\\131.jpg', 14), ('data/train\\\\ORANGE TIP\\\\43.jpg', 14), ('data/train\\\\ORANGE TIP\\\\59.jpg', 14), ('data/train\\\\ORANGE TIP\\\\97.jpg', 14), ('data/train\\\\ORANGE TIP\\\\85.jpg', 14), ('data/train\\\\ORANGE TIP\\\\46.jpg', 14), ('data/train\\\\RED CRACKER\\\\097.jpg', 15), ('data/train\\\\RED CRACKER\\\\058.jpg', 15), ('data/train\\\\RED CRACKER\\\\031.jpg', 15), ('data/train\\\\RED CRACKER\\\\050.jpg', 15), ('data/train\\\\RED CRACKER\\\\034.jpg', 15), ('data/train\\\\RED CRACKER\\\\001.jpg', 15), ('data/train\\\\RED CRACKER\\\\032.jpg', 15), ('data/train\\\\RED CRACKER\\\\120.jpg', 15), ('data/train\\\\RED CRACKER\\\\042.jpg', 15), ('data/train\\\\RED CRACKER\\\\062.jpg', 15), ('data/train\\\\RED CRACKER\\\\036.jpg', 15), ('data/train\\\\RED CRACKER\\\\048.jpg', 15), ('data/train\\\\RED CRACKER\\\\025.jpg', 15), ('data/train\\\\RED CRACKER\\\\103.jpg', 15), ('data/train\\\\RED CRACKER\\\\023.jpg', 15), ('data/train\\\\RED CRACKER\\\\084.jpg', 15), ('data/train\\\\RED CRACKER\\\\132.jpg', 15), ('data/train\\\\RED CRACKER\\\\110.jpg', 15), ('data/train\\\\RED CRACKER\\\\104.jpg', 15), ('data/train\\\\RED CRACKER\\\\045.jpg', 15), ('data/train\\\\ROSY MAPLE MOTH\\\\005.jpg', 16), ('data/train\\\\ROSY MAPLE MOTH\\\\015.jpg', 16), ('data/train\\\\ROSY MAPLE MOTH\\\\131.jpg', 16), ('data/train\\\\ROSY MAPLE MOTH\\\\093.jpg', 16), ('data/train\\\\ROSY MAPLE MOTH\\\\113.jpg', 16), ('data/train\\\\ROSY MAPLE MOTH\\\\120.jpg', 16), ('data/train\\\\ROSY MAPLE MOTH\\\\025.jpg', 16), ('data/train\\\\ROSY MAPLE MOTH\\\\036.jpg', 16), ('data/train\\\\ROSY MAPLE MOTH\\\\020.jpg', 16), ('data/train\\\\ROSY MAPLE MOTH\\\\045.jpg', 16), ('data/train\\\\ROSY MAPLE MOTH\\\\118.jpg', 16), ('data/train\\\\ROSY MAPLE MOTH\\\\064.jpg', 16), ('data/train\\\\ROSY MAPLE MOTH\\\\059.jpg', 16), ('data/train\\\\ROSY MAPLE MOTH\\\\098.jpg', 16), ('data/train\\\\ROSY MAPLE MOTH\\\\109.jpg', 16), ('data/train\\\\ROSY MAPLE MOTH\\\\119.jpg', 16), ('data/train\\\\ROSY MAPLE MOTH\\\\077.jpg', 16), ('data/train\\\\ROSY MAPLE MOTH\\\\006.jpg', 16), ('data/train\\\\ROSY MAPLE MOTH\\\\001.jpg', 16), ('data/train\\\\ROSY MAPLE MOTH\\\\058.jpg', 16), ('data/train\\\\BANDED TIGER MOTH\\\\111.jpg', 3), ('data/train\\\\BANDED TIGER MOTH\\\\073.jpg', 3), ('data/train\\\\BANDED TIGER MOTH\\\\006.jpg', 3), ('data/train\\\\BANDED TIGER MOTH\\\\053.jpg', 3), ('data/train\\\\BANDED TIGER MOTH\\\\125.jpg', 3), ('data/train\\\\BANDED TIGER MOTH\\\\048.jpg', 3), ('data/train\\\\BANDED TIGER MOTH\\\\027.jpg', 3), ('data/train\\\\BANDED TIGER MOTH\\\\118.jpg', 3), ('data/train\\\\BANDED TIGER MOTH\\\\041.jpg', 3), ('data/train\\\\BANDED TIGER MOTH\\\\108.jpg', 3), ('data/train\\\\BANDED TIGER MOTH\\\\098.jpg', 3), ('data/train\\\\BANDED TIGER MOTH\\\\121.jpg', 3), ('data/train\\\\BANDED TIGER MOTH\\\\026.jpg', 3), ('data/train\\\\BANDED TIGER MOTH\\\\136.jpg', 3), ('data/train\\\\BANDED TIGER MOTH\\\\128.jpg', 3), ('data/train\\\\BANDED TIGER MOTH\\\\093.jpg', 3), ('data/train\\\\BANDED TIGER MOTH\\\\067.jpg', 3), ('data/train\\\\BANDED TIGER MOTH\\\\079.jpg', 3), ('data/train\\\\BANDED TIGER MOTH\\\\092.jpg', 3), ('data/train\\\\BANDED TIGER MOTH\\\\120.jpg', 3)]\n"
     ]
    }
   ],
   "source": [
    "# El dataset no redimensiona las imágenes de forma inmediata al ser cargadas en memoria. Las imágenes se cargan solo cuando accedes a ellas.\n",
    "# Las transformaciones se aplican cada vez que accedes a una imagen, no al momento de la creación del dataset. Esto significa que la imagen será\n",
    "# redimensionada solo cuando el dataset realmente cargue la imagen durante el entrenamiento o la evaluación (cuando haces una iteración sobre el dataset).\n",
    "\n",
    "train_full_dataset = datasets.ImageFolder(root=cfg.model.train_dataset_dir)\n",
    "test_full_dataset = datasets.ImageFolder(root=cfg.model.test_dataset_dir)\n",
    "\n",
    "train_species_counts = Counter([sample[1] for sample in train_full_dataset.samples])\n",
    "top_20_species = [species for species, count in train_species_counts.most_common(20)]\n",
    "\n",
    "train_samples_from_top_20_species_by_image_count = [sample for sample in train_full_dataset.samples if sample[1] in top_20_species]\n",
    "test_samples_from_top_20_species_by_image_count = [sample for sample in test_full_dataset.samples if sample[1] in top_20_species]\n",
    "\n",
    "train_samples = []\n",
    "test_samples = test_samples_from_top_20_species_by_image_count\n",
    "\n",
    "for specie in top_20_species:\n",
    "    species_samples = [sample for sample in train_samples_from_top_20_species_by_image_count if sample[1] == specie] # if sample tag = tag\n",
    "    random.shuffle(species_samples)\n",
    "    train_samples.extend(species_samples[:-20])\n",
    "    test_samples.extend(species_samples[-20:])\n",
    "\n",
    "\n",
    "def remap_indices(samples):\n",
    "    unique_indices = sorted({label for _, label in samples})\n",
    "    index_map = {original: remapped for remapped, original in enumerate(unique_indices)}    \n",
    "    remapped_samples = [(path, index_map[label]) for path, label in samples]\n",
    "    return remapped_samples\n",
    "\n",
    "\n",
    "train_samples = remap_indices(train_samples)\n",
    "test_samples = remap_indices(test_samples)\n",
    "\n",
    "print(f'Training samples: {len(train_samples)}')\n",
    "print(f'Testing samples: {len(test_samples)}')\n",
    "\n",
    "\n",
    "print(train_samples)\n",
    "print(test_samples)"
   ]
  },
  {
   "cell_type": "markdown",
   "metadata": {},
   "source": [
    "## Creación de los transforms"
   ]
  },
  {
   "cell_type": "code",
   "execution_count": 111,
   "metadata": {},
   "outputs": [],
   "source": [
    "transform = transforms.Compose \\\n",
    "(\n",
    "    [\n",
    "        transforms.Resize((128, 128)),\n",
    "        transforms.ToTensor(),\n",
    "        transforms.Normalize(mean=[0.485, 0.456, 0.406], std=[0.229, 0.224, 0.225]),\n",
    "    ]\n",
    ")"
   ]
  },
  {
   "cell_type": "markdown",
   "metadata": {},
   "source": [
    "## Creación de Datasets"
   ]
  },
  {
   "cell_type": "code",
   "execution_count": 112,
   "metadata": {},
   "outputs": [],
   "source": [
    "# Set de datos de entrenamiento\n",
    "train_dataset = datasets.ImageFolder(root=cfg.model.train_dataset_dir, transform=transform)\n",
    "# Sobreescritura de los samples\n",
    "train_dataset.samples = train_samples\n",
    "\n",
    "# Set de datos de prueba\n",
    "test_dataset = datasets.ImageFolder(root=cfg.model.test_dataset_dir, transform=transform)\n",
    "# Sobreescritura de los samples\n",
    "test_dataset.samples = test_samples"
   ]
  },
  {
   "cell_type": "markdown",
   "metadata": {},
   "source": [
    "## Creación de los Dataloaders"
   ]
  },
  {
   "cell_type": "markdown",
   "metadata": {},
   "source": [
    "Se toma el set de datos de entrenamiento y se simula que una parte de cada clase no contiene labels, denominado `set_de_datos_sin_labels`, el otro restante será denominado `set_de_datos_con_labels`."
   ]
  },
  {
   "cell_type": "code",
   "execution_count": 113,
   "metadata": {},
   "outputs": [
    {
     "name": "stdout",
     "output_type": "stream",
     "text": [
      "Labeled: 763\n",
      "Unlabeled: 1783\n"
     ]
    }
   ],
   "source": [
    "custom_loader = CustomLoader(dataset=train_dataset, batch_size=cfg.model.batch_size)\n",
    "set_de_datos_con_labels, set_de_datos_sin_labels = custom_loader.split(labeled_percentage=cfg.data.labeled_percentage)\n",
    "\n",
    "print(f\"Labeled: {len(set_de_datos_con_labels.samples)}\")\n",
    "print(f\"Unlabeled: {len(set_de_datos_sin_labels.samples)}\")\n",
    "\n",
    "# Dataloaders\n",
    "train_labeled_dl = DataLoader(dataset=set_de_datos_con_labels, batch_size=cfg.model.batch_size, shuffle=True, num_workers=NUM_WORKERS, pin_memory=True)\n",
    "train_unlabeled_dl = DataLoader(dataset=set_de_datos_sin_labels, batch_size=cfg.model.batch_size, shuffle=True, num_workers=NUM_WORKERS, pin_memory=True)"
   ]
  },
  {
   "cell_type": "markdown",
   "metadata": {},
   "source": [
    "`pin_memory=True` Optimiza la transferencia de datos entre la CPU y la GPU"
   ]
  },
  {
   "cell_type": "markdown",
   "metadata": {},
   "source": [
    "# Experimento 1"
   ]
  },
  {
   "cell_type": "markdown",
   "metadata": {},
   "source": [
    "## Instanciación y entrenamiento del Autoencoder"
   ]
  },
  {
   "cell_type": "code",
   "execution_count": 114,
   "metadata": {},
   "outputs": [],
   "source": [
    "model_exp_1 = UNetAutoencoder(input_channels=3, output_channels=3, learning_rate=cfg.model.learning_rate)\n",
    "model_exp_1 = model_exp_1.to(DEVICE)\n",
    "# wandb_train(model=model_exp_1, train_data_loader=train_unlabeled_dl, model_name=\"model_exp_1\", wandb_project_name=\"Experimento_1\")"
   ]
  },
  {
   "cell_type": "markdown",
   "metadata": {},
   "source": [
    "## Checkpoint Autoencoder"
   ]
  },
  {
   "cell_type": "code",
   "execution_count": 115,
   "metadata": {},
   "outputs": [
    {
     "name": "stdout",
     "output_type": "stream",
     "text": [
      "Pesos iniciales:\n",
      "Parameter containing:\n",
      "tensor([[[[ 0.1645, -0.1714,  0.1442],\n",
      "          [ 0.1814, -0.0365,  0.0752],\n",
      "          [ 0.1304, -0.0769, -0.0346]],\n",
      "\n",
      "         [[-0.0389, -0.1190,  0.0969],\n",
      "          [ 0.0476,  0.0381,  0.0190],\n",
      "          [-0.0742, -0.1620, -0.1294]],\n",
      "\n",
      "         [[-0.0268,  0.0910,  0.0066],\n",
      "          [ 0.1347, -0.0266, -0.0250],\n",
      "          [ 0.0964, -0.1129, -0.0092]]],\n",
      "\n",
      "\n",
      "        [[[-0.1768, -0.1556, -0.1492],\n",
      "          [ 0.1082, -0.1828,  0.1224],\n",
      "          [-0.0663, -0.0564,  0.0031]],\n",
      "\n",
      "         [[ 0.0626,  0.0216, -0.0383],\n",
      "          [ 0.0903,  0.1685, -0.1670],\n",
      "          [ 0.0309,  0.1298,  0.0063]],\n",
      "\n",
      "         [[-0.0146,  0.0762,  0.1150],\n",
      "          [ 0.1513,  0.1468, -0.0619],\n",
      "          [-0.1887, -0.0352, -0.0448]]],\n",
      "\n",
      "\n",
      "        [[[-0.0992,  0.1313, -0.1114],\n",
      "          [ 0.1904,  0.0969, -0.0876],\n",
      "          [ 0.1778, -0.0346,  0.0744]],\n",
      "\n",
      "         [[-0.1556, -0.1044, -0.0838],\n",
      "          [-0.1148,  0.1285, -0.1557],\n",
      "          [ 0.0459, -0.1124,  0.1666]],\n",
      "\n",
      "         [[ 0.1490,  0.0982,  0.1342],\n",
      "          [-0.1919, -0.0440,  0.0775],\n",
      "          [-0.1800,  0.1137, -0.1924]]],\n",
      "\n",
      "\n",
      "        ...,\n",
      "\n",
      "\n",
      "        [[[-0.0269,  0.1372, -0.1158],\n",
      "          [ 0.0433,  0.1704, -0.1462],\n",
      "          [-0.1577, -0.1620,  0.1210]],\n",
      "\n",
      "         [[-0.1016, -0.0887,  0.1690],\n",
      "          [ 0.1799, -0.0377,  0.0132],\n",
      "          [-0.0269, -0.1281, -0.1459]],\n",
      "\n",
      "         [[ 0.1392,  0.0951,  0.0608],\n",
      "          [-0.0618,  0.0260,  0.0957],\n",
      "          [ 0.1660,  0.0373, -0.0525]]],\n",
      "\n",
      "\n",
      "        [[[ 0.1124, -0.1861, -0.0899],\n",
      "          [ 0.0394,  0.0277, -0.0054],\n",
      "          [ 0.0548,  0.1880,  0.1311]],\n",
      "\n",
      "         [[ 0.0084,  0.1449,  0.0280],\n",
      "          [-0.0573,  0.1340, -0.0286],\n",
      "          [ 0.0686, -0.0207,  0.0188]],\n",
      "\n",
      "         [[ 0.1228, -0.1454, -0.0314],\n",
      "          [-0.1727, -0.1751,  0.1025],\n",
      "          [ 0.1000,  0.0153, -0.1371]]],\n",
      "\n",
      "\n",
      "        [[[ 0.0038, -0.0077,  0.1353],\n",
      "          [-0.0118, -0.1090,  0.1162],\n",
      "          [-0.1425, -0.1780,  0.0804]],\n",
      "\n",
      "         [[-0.1492,  0.0131, -0.1910],\n",
      "          [ 0.1202, -0.0291, -0.0195],\n",
      "          [-0.1300,  0.1211,  0.0847]],\n",
      "\n",
      "         [[ 0.1782,  0.1211,  0.0696],\n",
      "          [-0.0995,  0.1325,  0.0233],\n",
      "          [-0.0488, -0.1893,  0.0852]]]], requires_grad=True)\n",
      "-------------------------------------------------------------\n",
      "Checkpoint model_exp_1 cargado con éxito.\n"
     ]
    }
   ],
   "source": [
    "# Instanciación del modelo sin entrenar\n",
    "model_exp_1 = UNetAutoencoder(input_channels=3, output_channels=3, learning_rate=cfg.model.learning_rate)\n",
    "print(\"Pesos iniciales:\")\n",
    "print(model_exp_1.enc1[0].weight)\n",
    "\n",
    "\n",
    "checkpoint_UNetAutoencoder(model=model_exp_1, model_name='model_exp_1')"
   ]
  },
  {
   "cell_type": "markdown",
   "metadata": {},
   "source": [
    "## Reconstrucción de imágenes usando el Autoencoder"
   ]
  },
  {
   "cell_type": "markdown",
   "metadata": {},
   "source": [
    "Se utiliza el `set_de_datos_sin_labels` para reconstruir las muestras."
   ]
  },
  {
   "cell_type": "code",
   "execution_count": 116,
   "metadata": {},
   "outputs": [],
   "source": [
    "def test_reconstruction():\n",
    "    # Al parecer algo mueve el modelo al CPU en algun punto luego del entrenamiento\n",
    "    print(f'El modelo está en: {next(model_exp_1.parameters()).device}')\n",
    "\n",
    "    # Verificar si el modelo está en CPU y moverlo a GPU si es necesario\n",
    "    if next(model_exp_1.parameters()).device.type == 'cpu' and DEVICE.type == 'cuda':\n",
    "        print('Moviendo el modelo al GPU...')\n",
    "        model_exp_1 = model_exp_1.to(DEVICE)\n",
    "\n",
    "    # Verificar que las imágenes estén en el dispositivo correcto (GPU)\n",
    "    data_iter = iter(train_unlabeled_dl)\n",
    "    images, labels = next(data_iter)\n",
    "    images = images.to(DEVICE)\n",
    "\n",
    "    # Realizar la inferencia sin calcular los gradientes lo cual ahorra uso de memoria\n",
    "    with torch.no_grad():\n",
    "        reconstructed_images = model_exp_1(images)\n",
    "\n",
    "    original_image = images[0].cpu().detach().numpy().transpose(1, 2, 0)\n",
    "    reconstructed_image = reconstructed_images[0].cpu().detach().numpy().transpose(1, 2, 0)\n",
    "\n",
    "    # Mostrar una imagen original junto a una reconstruida\n",
    "    plt.figure(figsize=(10, 5))\n",
    "\n",
    "    plt.subplot(1, 2, 1)\n",
    "    plt.imshow(original_image)\n",
    "    plt.title(\"Imagen Original\")\n",
    "    plt.axis('off')\n",
    "\n",
    "    plt.subplot(1, 2, 2)\n",
    "    plt.imshow(reconstructed_image)\n",
    "    plt.title(\"Imagen Reconstruida\")\n",
    "    plt.axis('off')\n",
    "\n",
    "    plt.show()\n",
    "\n",
    "# test_reconstruction()"
   ]
  },
  {
   "cell_type": "markdown",
   "metadata": {},
   "source": [
    "## Instanciación y entrenamiento del calsificador A"
   ]
  },
  {
   "cell_type": "code",
   "execution_count": 117,
   "metadata": {},
   "outputs": [
    {
     "name": "stderr",
     "output_type": "stream",
     "text": [
      "c:\\Users\\aleja\\.conda\\envs\\env_IC6200_AI_P2_pytorch\\lib\\site-packages\\torchvision\\models\\_utils.py:208: UserWarning: The parameter 'pretrained' is deprecated since 0.13 and may be removed in the future, please use 'weights' instead.\n",
      "  warnings.warn(\n",
      "c:\\Users\\aleja\\.conda\\envs\\env_IC6200_AI_P2_pytorch\\lib\\site-packages\\torchvision\\models\\_utils.py:223: UserWarning: Arguments other than a weight enum or `None` for 'weights' are deprecated since 0.13 and may be removed in the future. The current behavior is equivalent to passing `weights=None`.\n",
      "  warnings.warn(msg)\n"
     ]
    },
    {
     "name": "stdout",
     "output_type": "stream",
     "text": [
      "-------------------------------------------------------------\n",
      "Checkpoint model_A.ckpt cargado con éxito.\n"
     ]
    },
    {
     "name": "stderr",
     "output_type": "stream",
     "text": [
      "C:\\Users\\aleja\\AppData\\Local\\Temp\\ipykernel_6172\\3195659470.py:9: FutureWarning: You are using `torch.load` with `weights_only=False` (the current default value), which uses the default pickle module implicitly. It is possible to construct malicious pickle data which will execute arbitrary code during unpickling (See https://github.com/pytorch/pytorch/blob/main/SECURITY.md#untrusted-models for more details). In a future release, the default value for `weights_only` will be flipped to `True`. This limits the functions that could be executed during unpickling. Arbitrary objects will no longer be allowed to be loaded via this mode unless they are explicitly allowlisted by the user via `torch.serialization.add_safe_globals`. We recommend you start setting `weights_only=True` for any use case where you don't have full control of the loaded file. Please open an issue on GitHub for any issues related to this experimental feature.\n",
      "  model.load_state_dict(torch.load(filepath))\n"
     ]
    }
   ],
   "source": [
    "model_A = ClassifierA()\n",
    "\n",
    "# train_clasifier(clasifier_model=model_A, model_name='model_A', train_dataloader=train_labeled_dl)\n",
    "checkpoint_classifier(model=model_A, model_name='model_A', save=False)"
   ]
  },
  {
   "cell_type": "markdown",
   "metadata": {},
   "source": [
    "## Instanciación de los modelos B"
   ]
  },
  {
   "cell_type": "code",
   "execution_count": 118,
   "metadata": {},
   "outputs": [],
   "source": [
    "encoder = Encoder(model_exp_1)\n",
    "\n",
    "for param in encoder.parameters():\n",
    "    param.requires_grad = False\n",
    "\n",
    "model_B1 = ClassifierB(encoder)\n",
    "model_B2 = ClassifierB(Encoder(model_exp_1))"
   ]
  },
  {
   "cell_type": "markdown",
   "metadata": {},
   "source": [
    "## Entrenamiento de los modelos B"
   ]
  },
  {
   "cell_type": "code",
   "execution_count": 119,
   "metadata": {},
   "outputs": [
    {
     "name": "stderr",
     "output_type": "stream",
     "text": [
      "C:\\Users\\aleja\\AppData\\Local\\Temp\\ipykernel_6172\\3195659470.py:9: FutureWarning: You are using `torch.load` with `weights_only=False` (the current default value), which uses the default pickle module implicitly. It is possible to construct malicious pickle data which will execute arbitrary code during unpickling (See https://github.com/pytorch/pytorch/blob/main/SECURITY.md#untrusted-models for more details). In a future release, the default value for `weights_only` will be flipped to `True`. This limits the functions that could be executed during unpickling. Arbitrary objects will no longer be allowed to be loaded via this mode unless they are explicitly allowlisted by the user via `torch.serialization.add_safe_globals`. We recommend you start setting `weights_only=True` for any use case where you don't have full control of the loaded file. Please open an issue on GitHub for any issues related to this experimental feature.\n",
      "  model.load_state_dict(torch.load(filepath))\n"
     ]
    },
    {
     "name": "stdout",
     "output_type": "stream",
     "text": [
      "-------------------------------------------------------------\n",
      "Checkpoint model_B1.ckpt cargado con éxito.\n",
      "-------------------------------------------------------------\n",
      "Checkpoint model_B2.ckpt cargado con éxito.\n"
     ]
    }
   ],
   "source": [
    "# train_clasifier(clasifier_model=model_B1, model_name='model_B1', train_dataloader=train_labeled_dl)\n",
    "# train_clasifier(clasifier_model=model_B2, model_name='model_B2', train_dataloader=train_labeled_dl)\n",
    "\n",
    "checkpoint_classifier(model=model_B1, model_name='model_B1', save=False)\n",
    "checkpoint_classifier(model=model_B2, model_name='model_B2', save=False)"
   ]
  },
  {
   "cell_type": "markdown",
   "metadata": {},
   "source": [
    "## Cuantización de los modelos A y B (B1 y B2)"
   ]
  },
  {
   "cell_type": "code",
   "execution_count": 120,
   "metadata": {},
   "outputs": [],
   "source": [
    "# En proceso\n",
    "# En proceso\n",
    "# En proceso\n",
    "# En proceso\n",
    "# En proceso\n",
    "# En proceso\n",
    "# En proceso\n",
    "# En proceso\n",
    "# En proceso\n",
    "# En proceso\n",
    "# En proceso\n",
    "# En proceso\n",
    "# En proceso\n",
    "# En proceso\n",
    "# En proceso\n",
    "# En proceso\n",
    "# En proceso\n",
    "# En proceso\n",
    "# En proceso\n",
    "\n",
    "# print('--- Modelo A Normal ---')\n",
    "# print(model_A)\n",
    "# print()\n",
    "\n",
    "# print('--- Cuantizacion del Modelo A ---')\n",
    "# quantized_model_A = cuantization(clasifier_model=model_A, train_dataloader=train_labeled_dl)\n",
    "\n",
    "# print('--- Modelo A Normal ---')\n",
    "# print(model_A)\n",
    "# print()\n",
    "\n",
    "# # print('--- Cuantizacion del Modelo B1 ---')\n",
    "# # quantized_model_B1 = cuantization(clasifier_model=model_B1, train_dataloader=train_labeled_dl)\n",
    "# # print()\n",
    "\n",
    "# # print('--- Cuantizacion del Modelo B2 ---')\n",
    "# # quantized_model_B2 = cuantization(clasifier_model=model_B2, train_dataloader=train_labeled_dl)\n",
    "# # print()"
   ]
  }
 ],
 "metadata": {
  "kernelspec": {
   "display_name": "env_IC6200_AI_P2_pytorch",
   "language": "python",
   "name": "python3"
  },
  "language_info": {
   "codemirror_mode": {
    "name": "ipython",
    "version": 3
   },
   "file_extension": ".py",
   "mimetype": "text/x-python",
   "name": "python",
   "nbconvert_exporter": "python",
   "pygments_lexer": "ipython3",
   "version": "3.8.20"
  }
 },
 "nbformat": 4,
 "nbformat_minor": 2
}
