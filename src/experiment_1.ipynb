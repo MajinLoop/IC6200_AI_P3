{
 "cells": [
  {
   "cell_type": "markdown",
   "metadata": {},
   "source": [
    "## Lbrerías"
   ]
  },
  {
   "cell_type": "code",
   "execution_count": 208,
   "metadata": {},
   "outputs": [],
   "source": [
    "import os\n",
    "from typing import Tuple\n",
    "import random\n",
    "from collections import Counter\n",
    "from PIL import Image\n",
    "\n",
    "# Pytorch\n",
    "import torch\n",
    "from torch import nn\n",
    "from torch.utils.data import DataLoader, Dataset, Subset, random_split\n",
    "from torchvision import datasets, transforms\n",
    "\n",
    "# Pytorch Lightning\n",
    "import pytorch_lightning as pl\n",
    "from pytorch_lightning import Trainer\n",
    "from pytorch_lightning.callbacks.early_stopping import EarlyStopping\n",
    "\n",
    "# Hydra\n",
    "import hydra\n",
    "from hydra.core.global_hydra import GlobalHydra\n",
    "from omegaconf import DictConfig\n",
    "from omegaconf import OmegaConf\n",
    "\n",
    "# Sklearn\n",
    "from sklearn.model_selection import train_test_split\n"
   ]
  },
  {
   "cell_type": "markdown",
   "metadata": {},
   "source": [
    "## Configuración de librerías"
   ]
  },
  {
   "cell_type": "code",
   "execution_count": 209,
   "metadata": {},
   "outputs": [],
   "source": [
    "random.seed(42)"
   ]
  },
  {
   "cell_type": "markdown",
   "metadata": {},
   "source": [
    "## Globales"
   ]
  },
  {
   "cell_type": "code",
   "execution_count": 210,
   "metadata": {},
   "outputs": [
    {
     "name": "stdout",
     "output_type": "stream",
     "text": [
      "model:\n",
      "  learning_rate: 0.001\n",
      "  batch_size: 32\n",
      "  epochs: 10\n",
      "  train_dataset_dir: data/train\n",
      "  validation_dataset_dir: data/valid\n",
      "  test_dataset_dir: data/test\n",
      "data:\n",
      "  labeled_percentage: 0.3\n",
      "\n"
     ]
    }
   ],
   "source": [
    "GlobalHydra.instance().clear()\n",
    "hydra.initialize(config_path=\".\", version_base=None)\n",
    "cfg = hydra.compose(config_name=\"config\")\n",
    "print(OmegaConf.to_yaml(cfg))"
   ]
  },
  {
   "cell_type": "code",
   "execution_count": 211,
   "metadata": {},
   "outputs": [],
   "source": [
    "class CustomLoader(pl.LightningDataModule):\n",
    "    def __init__(self, dataset, batch_size=32):\n",
    "        super().__init__()\n",
    "        self.dataset = dataset\n",
    "        self.batch_size = batch_size\n",
    "\n",
    "\n",
    "    def split(self, labeled_percentage) -> Tuple[Dataset, Dataset]:\n",
    "        labels = [sample[1] for sample in self.dataset.samples]        \n",
    "        \n",
    "        # División estratificada\n",
    "        labeled_indices, unlabeled_indices = train_test_split \\\n",
    "        (\n",
    "            range(len(self.dataset)),\n",
    "            test_size=1 - labeled_percentage,\n",
    "            stratify=labels\n",
    "        )\n",
    "\n",
    "        labeled_subset = Subset(self.dataset, labeled_indices)\n",
    "        unlabeled_subset = Subset(self.dataset, unlabeled_indices)\n",
    "        \n",
    "        labeled_dataset = self.create_dataset_from_subset(labeled_subset)\n",
    "        unlabeled_dataset = self.create_dataset_from_subset(unlabeled_subset)\n",
    "\n",
    "        return labeled_dataset, unlabeled_dataset\n",
    "\n",
    "\n",
    "    def create_dataset_from_subset(self, subset):\n",
    "        samples = [self.dataset.samples[idx] for idx in subset.indices]\n",
    "        new_dataset = datasets.ImageFolder(root=self.dataset.root, transform=self.dataset.transform)\n",
    "        new_dataset.samples = samples\n",
    "        new_dataset.targets = [sample[1] for sample in samples]  # Actualizar etiquetas\n",
    "        return new_dataset\n",
    "\n",
    "\n",
    "    def get_dataloader(self):\n",
    "        return DataLoader(self.labeled_data, batch_size=self.batch_size, shuffle=True)"
   ]
  },
  {
   "cell_type": "code",
   "execution_count": null,
   "metadata": {},
   "outputs": [],
   "source": [
    "# (U Net Autoencoder)\n",
    "class Autoencoder(pl.LightningModule):\n",
    "    def __init__(self):\n",
    "        super(Autoencoder, self).__init__()\n",
    "        # Define las capas del encoder y del decoder con skip connections\n",
    "        self.encoder = nn.Sequential\n",
    "        (\n",
    "            nn.Conv2d(1, 64, 3, padding=1),\n",
    "            nn.ReLU(),\n",
    "            # Agrega más capas de encoder\n",
    "        )\n",
    "        self.decoder = nn.Sequential\n",
    "        (\n",
    "            nn.ConvTranspose2d(64, 1, 3, padding=1),\n",
    "            nn.ReLU(),\n",
    "            # Agrega más capas de decoder\n",
    "        )\n",
    "\n",
    "    def forward(self, x):\n",
    "        encoded = self.encoder(x)\n",
    "        decoded = self.decoder(encoded)\n",
    "        return decoded\n",
    "\n",
    "    def training_step(self, batch, batch_idx):\n",
    "        x, _ = batch\n",
    "        reconstruction = self(x)\n",
    "        loss = nn.MSELoss()(reconstruction, x)\n",
    "        return loss\n",
    "\n",
    "    def configure_optimizers(self):\n",
    "        return torch.optim.Adam(self.parameters(), lr=1e-3)\n"
   ]
  },
  {
   "cell_type": "code",
   "execution_count": 213,
   "metadata": {},
   "outputs": [],
   "source": [
    "class Classifier_A(pl.LightningModule):\n",
    "    def __init__(self):\n",
    "        super(Classifier_A, self).__init__()\n",
    "        self.model = nn.Sequential\n",
    "        (\n",
    "            nn.Flatten(),\n",
    "            nn.Linear(512, 128),  # Ajusta según sea necesario\n",
    "            nn.ReLU(),\n",
    "            nn.Linear(128, 10)\n",
    "        )\n",
    "\n",
    "    def forward(self, x):\n",
    "        return self.model(x)\n",
    "\n",
    "    def training_step(self, batch, batch_idx):\n",
    "        x, y = batch\n",
    "        y_hat = self(x)\n",
    "        loss = nn.CrossEntropyLoss()(y_hat, y)\n",
    "        return loss\n",
    "\n",
    "    def configure_optimizers(self):\n",
    "        return torch.optim.Adam(self.parameters(), lr=1e-3)\n",
    "\n",
    "\n",
    "class Classifier_B(pl.LightningModule):\n",
    "    def __init__(self, encoder, fine_tune=False):\n",
    "        super(Classifier_B, self).__init__()\n",
    "        self.encoder = encoder\n",
    "\n",
    "        if not fine_tune:\n",
    "            for param in self.encoder.parameters():\n",
    "                param.requires_grad = False  # Congelar el encoder si es necesario\n",
    "        \n",
    "        self.classifier = nn.Sequential\n",
    "        (\n",
    "            nn.Flatten(),\n",
    "            nn.Linear(512, 128),\n",
    "            nn.ReLU(),\n",
    "            nn.Linear(128, 10)\n",
    "        )\n",
    "\n",
    "    def forward(self, x):\n",
    "        x = self.encoder(x)\n",
    "        return self.classifier(x)\n",
    "\n",
    "    def training_step(self, batch, batch_idx):\n",
    "        x, y = batch\n",
    "        y_hat = self(x)\n",
    "        loss = nn.CrossEntropyLoss()(y_hat, y)\n",
    "        return loss\n",
    "\n",
    "    def configure_optimizers(self):\n",
    "        return torch.optim.Adam(self.parameters(), lr=1e-3)\n"
   ]
  },
  {
   "cell_type": "code",
   "execution_count": 214,
   "metadata": {},
   "outputs": [],
   "source": [
    "early_stop_callback = EarlyStopping \\\n",
    "(\n",
    "    monitor='val_loss',\n",
    "    patience=3,\n",
    "    verbose=True,\n",
    "    mode='min'\n",
    ")"
   ]
  },
  {
   "cell_type": "markdown",
   "metadata": {},
   "source": [
    "## Hydra"
   ]
  },
  {
   "cell_type": "code",
   "execution_count": null,
   "metadata": {},
   "outputs": [],
   "source": []
  },
  {
   "cell_type": "markdown",
   "metadata": {},
   "source": [
    "## Samples"
   ]
  },
  {
   "cell_type": "code",
   "execution_count": 215,
   "metadata": {},
   "outputs": [
    {
     "name": "stdout",
     "output_type": "stream",
     "text": [
      "Training samples: 2546\n",
      "Testing samples: 500\n"
     ]
    }
   ],
   "source": [
    "# El dataset no redimensiona las imágenes de forma inmediata al ser cargadas en memoria. Las imágenes se cargan solo cuando accedes a ellas.\n",
    "# Las transformaciones se aplican cada vez que accedes a una imagen, no al momento de la creación del dataset. Esto significa que la imagen será\n",
    "# redimensionada solo cuando el dataset realmente cargue la imagen durante el entrenamiento o la evaluación (cuando haces una iteración sobre el dataset).\n",
    "train_full_dataset = datasets.ImageFolder(root=cfg.model.train_dataset_dir)\n",
    "test_full_dataset = datasets.ImageFolder(root=cfg.model.test_dataset_dir)\n",
    "\n",
    "train_species_counts = Counter([sample[1] for sample in train_full_dataset.samples])\n",
    "top_20_species = [species for species, count in train_species_counts.most_common(20)]\n",
    "\n",
    "train_samples_from_top_20_species_by_image_count = [sample for sample in train_full_dataset.samples if sample[1] in top_20_species]\n",
    "test_samples_from_top_20_species_by_image_count = [sample for sample in test_full_dataset.samples if sample[1] in top_20_species]\n",
    "\n",
    "train_samples = []\n",
    "test_samples = test_samples_from_top_20_species_by_image_count\n",
    "\n",
    "for specie in top_20_species:\n",
    "    species_samples = [sample for sample in train_samples_from_top_20_species_by_image_count if sample[1] == specie] # if sample tag = tag\n",
    "    random.shuffle(species_samples)\n",
    "    train_samples.extend(species_samples[:-20])\n",
    "    test_samples.extend(species_samples[-20:])\n",
    "\n",
    "print(f'Training samples: {len(train_samples)}')\n",
    "print(f'Testing samples: {len(test_samples)}')"
   ]
  },
  {
   "cell_type": "markdown",
   "metadata": {},
   "source": [
    "## Datasets"
   ]
  },
  {
   "cell_type": "code",
   "execution_count": 216,
   "metadata": {},
   "outputs": [],
   "source": [
    "transform = transforms.Compose\n",
    "(\n",
    "    [\n",
    "        transforms.Resize((128, 128)),\n",
    "        transforms.ToTensor(),\n",
    "        transforms.Normalize(mean=[0.485, 0.456, 0.406], std=[0.229, 0.224, 0.225]),\n",
    "    ]\n",
    ")\n",
    "\n",
    "train_dataset = datasets.ImageFolder(root=cfg.model.train_dataset_dir, transform=transform)\n",
    "train_dataset.samples = train_samples\n",
    "\n",
    "test_dataset = datasets.ImageFolder(root=cfg.model.test_dataset_dir, transform=transform)\n",
    "test_dataset.samples = test_samples"
   ]
  },
  {
   "cell_type": "markdown",
   "metadata": {},
   "source": [
    "## Experimento 1"
   ]
  },
  {
   "cell_type": "markdown",
   "metadata": {},
   "source": [
    "Tome el set de datos de entrenamiento y simule que una parte de cada clase no contiene\n",
    "labels, denominado set de datos sin labels, el otro restante será denominado set de datos\n",
    "con labels."
   ]
  },
  {
   "cell_type": "code",
   "execution_count": null,
   "metadata": {},
   "outputs": [
    {
     "name": "stdout",
     "output_type": "stream",
     "text": [
      "Labeled: 763\n",
      "Unlabeled: 1783\n",
      "[('data/train\\\\GREEN HAIRSTREAK\\\\175.jpg', 48), ('data/train\\\\MOURNING CLOAK\\\\139.jpg', 65), ('data/train\\\\BROOKES BIRDWING\\\\131.jpg', 16), ('data/train\\\\ORANGE TIP\\\\71.jpg', 68), ('data/train\\\\CHALK HILL BLUE\\\\062.jpg', 21), ('data/train\\\\GREEN HAIRSTREAK\\\\127.jpg', 48), ('data/train\\\\ARCIGERA FLOWER MOTH\\\\106.jpg', 5), ('data/train\\\\HUMMING BIRD HAWK MOTH\\\\091.jpg', 51), ('data/train\\\\WHITE LINED SPHINX MOTH\\\\087.jpg', 96), ('data/train\\\\MOURNING CLOAK\\\\160.jpg', 65), ('data/train\\\\ROSY MAPLE MOTH\\\\086.jpg', 84), ('data/train\\\\GREEN HAIRSTREAK\\\\159.jpg', 48), ('data/train\\\\HUMMING BIRD HAWK MOTH\\\\059.jpg', 51), ('data/train\\\\ARCIGERA FLOWER MOTH\\\\082.jpg', 5), ('data/train\\\\BROWN SIPROETA\\\\113.jpg', 18), ('data/train\\\\MOURNING CLOAK\\\\121.jpg', 65), ('data/train\\\\BROWN ARGUS\\\\018.jpg', 17), ('data/train\\\\MILBERTS TORTOISESHELL\\\\010.jpg', 63), ('data/train\\\\BANDED ORANGE HELICONIAN\\\\133.jpg', 8), ('data/train\\\\HERCULES MOTH\\\\026.jpg', 50), ('data/train\\\\ARCIGERA FLOWER MOTH\\\\014.jpg', 5), ('data/train\\\\MOURNING CLOAK\\\\149.jpg', 65), ('data/train\\\\CHALK HILL BLUE\\\\137.jpg', 21), ('data/train\\\\MOURNING CLOAK\\\\067.jpg', 65), ('data/train\\\\BANDED TIGER MOTH\\\\114.jpg', 10), ('data/train\\\\CHALK HILL BLUE\\\\026.jpg', 21), ('data/train\\\\ROSY MAPLE MOTH\\\\127.jpg', 84), ('data/train\\\\MOURNING CLOAK\\\\052.jpg', 65), ('data/train\\\\SLEEPY ORANGE\\\\038.jpg', 88), ('data/train\\\\HERCULES MOTH\\\\003.jpg', 50), ('data/train\\\\BROWN SIPROETA\\\\093.jpg', 18), ('data/train\\\\ORANGE TIP\\\\33.jpg', 68), ('data/train\\\\ORANGE TIP\\\\20.jpg', 68), ('data/train\\\\RED CRACKER\\\\049.jpg', 81), ('data/train\\\\HERCULES MOTH\\\\136.jpg', 50), ('data/train\\\\ROSY MAPLE MOTH\\\\055.jpg', 84), ('data/train\\\\BROWN ARGUS\\\\004.jpg', 17), ('data/train\\\\CHALK HILL BLUE\\\\084.jpg', 21), ('data/train\\\\HUMMING BIRD HAWK MOTH\\\\138.jpg', 51), ('data/train\\\\HUMMING BIRD HAWK MOTH\\\\005.jpg', 51), ('data/train\\\\BROOKES BIRDWING\\\\153.jpg', 16), ('data/train\\\\HUMMING BIRD HAWK MOTH\\\\042.jpg', 51), ('data/train\\\\ARCIGERA FLOWER MOTH\\\\083.jpg', 5), ('data/train\\\\BROOKES BIRDWING\\\\125.jpg', 16), ('data/train\\\\RED CRACKER\\\\072.jpg', 81), ('data/train\\\\BROOKES BIRDWING\\\\154.jpg', 16), ('data/train\\\\RED CRACKER\\\\106.jpg', 81), ('data/train\\\\MOURNING CLOAK\\\\088.jpg', 65), ('data/train\\\\HERCULES MOTH\\\\014.jpg', 50), ('data/train\\\\MOURNING CLOAK\\\\177.jpg', 65), ('data/train\\\\ARCIGERA FLOWER MOTH\\\\081.jpg', 5), ('data/train\\\\ORANGE TIP\\\\99.jpg', 68), ('data/train\\\\BANDED TIGER MOTH\\\\040.jpg', 10), ('data/train\\\\CHALK HILL BLUE\\\\089.jpg', 21), ('data/train\\\\SCARCE SWALLOW\\\\032.jpg', 85), ('data/train\\\\BROWN SIPROETA\\\\097.jpg', 18), ('data/train\\\\GREEN HAIRSTREAK\\\\012.jpg', 48), ('data/train\\\\MOURNING CLOAK\\\\161.jpg', 65), ('data/train\\\\BROWN ARGUS\\\\110.jpg', 17), ('data/train\\\\RED CRACKER\\\\051.jpg', 81), ('data/train\\\\CHALK HILL BLUE\\\\102.jpg', 21), ('data/train\\\\BROWN ARGUS\\\\090.jpg', 17), ('data/train\\\\SCARCE SWALLOW\\\\033.jpg', 85), ('data/train\\\\ARCIGERA FLOWER MOTH\\\\028.jpg', 5), ('data/train\\\\BANDED TIGER MOTH\\\\013.jpg', 10), ('data/train\\\\HUMMING BIRD HAWK MOTH\\\\058.jpg', 51), ('data/train\\\\CHALK HILL BLUE\\\\138.jpg', 21), ('data/train\\\\MOURNING CLOAK\\\\114.jpg', 65), ('data/train\\\\WHITE LINED SPHINX MOTH\\\\118.jpg', 96), ('data/train\\\\MOURNING CLOAK\\\\110.jpg', 65), ('data/train\\\\ROSY MAPLE MOTH\\\\117.jpg', 84), ('data/train\\\\CRECENT\\\\77.jpg', 33), ('data/train\\\\BROOKES BIRDWING\\\\138.jpg', 16), ('data/train\\\\ARCIGERA FLOWER MOTH\\\\107.jpg', 5), ('data/train\\\\BANDED TIGER MOTH\\\\123.jpg', 10), ('data/train\\\\MILBERTS TORTOISESHELL\\\\137.jpg', 63), ('data/train\\\\SLEEPY ORANGE\\\\136.jpg', 88), ('data/train\\\\BROWN ARGUS\\\\089.jpg', 17), ('data/train\\\\RED CRACKER\\\\086.jpg', 81), ('data/train\\\\GREEN HAIRSTREAK\\\\165.jpg', 48), ('data/train\\\\BROWN SIPROETA\\\\038.jpg', 18), ('data/train\\\\ATALA\\\\060.jpg', 6), ('data/train\\\\BANDED ORANGE HELICONIAN\\\\045.jpg', 8), ('data/train\\\\BROWN ARGUS\\\\099.jpg', 17), ('data/train\\\\BROWN ARGUS\\\\051.jpg', 17), ('data/train\\\\SLEEPY ORANGE\\\\114.jpg', 88), ('data/train\\\\MOURNING CLOAK\\\\186.jpg', 65), ('data/train\\\\GREEN HAIRSTREAK\\\\032.jpg', 48), ('data/train\\\\GREEN HAIRSTREAK\\\\117.jpg', 48), ('data/train\\\\MILBERTS TORTOISESHELL\\\\122.jpg', 63), ('data/train\\\\SLEEPY ORANGE\\\\105.jpg', 88), ('data/train\\\\BANDED ORANGE HELICONIAN\\\\025.jpg', 8), ('data/train\\\\BROWN ARGUS\\\\065.jpg', 17), ('data/train\\\\ATALA\\\\016.jpg', 6), ('data/train\\\\BROOKES BIRDWING\\\\142.jpg', 16), ('data/train\\\\RED CRACKER\\\\093.jpg', 81), ('data/train\\\\WHITE LINED SPHINX MOTH\\\\134.jpg', 96), ('data/train\\\\MOURNING CLOAK\\\\069.jpg', 65), ('data/train\\\\BANDED ORANGE HELICONIAN\\\\058.jpg', 8), ('data/train\\\\HUMMING BIRD HAWK MOTH\\\\030.jpg', 51), ('data/train\\\\BROWN SIPROETA\\\\069.jpg', 18), ('data/train\\\\CHALK HILL BLUE\\\\043.jpg', 21), ('data/train\\\\BROWN SIPROETA\\\\124.jpg', 18), ('data/train\\\\MOURNING CLOAK\\\\180.jpg', 65), ('data/train\\\\SLEEPY ORANGE\\\\059.jpg', 88), ('data/train\\\\MILBERTS TORTOISESHELL\\\\095.jpg', 63), ('data/train\\\\ROSY MAPLE MOTH\\\\085.jpg', 84), ('data/train\\\\CRECENT\\\\109.jpg', 33), ('data/train\\\\SLEEPY ORANGE\\\\118.jpg', 88), ('data/train\\\\MILBERTS TORTOISESHELL\\\\009.jpg', 63), ('data/train\\\\SLEEPY ORANGE\\\\022.jpg', 88), ('data/train\\\\MOURNING CLOAK\\\\038.jpg', 65), ('data/train\\\\HUMMING BIRD HAWK MOTH\\\\069.jpg', 51), ('data/train\\\\BROWN SIPROETA\\\\028.jpg', 18), ('data/train\\\\BROWN ARGUS\\\\082.jpg', 17), ('data/train\\\\RED CRACKER\\\\121.jpg', 81), ('data/train\\\\WHITE LINED SPHINX MOTH\\\\099.jpg', 96), ('data/train\\\\ROSY MAPLE MOTH\\\\067.jpg', 84), ('data/train\\\\BANDED TIGER MOTH\\\\014.jpg', 10), ('data/train\\\\BANDED TIGER MOTH\\\\029.jpg', 10), ('data/train\\\\HERCULES MOTH\\\\130.jpg', 50), ('data/train\\\\RED CRACKER\\\\063.jpg', 81), ('data/train\\\\WHITE LINED SPHINX MOTH\\\\032.jpg', 96), ('data/train\\\\BROWN ARGUS\\\\005.jpg', 17), ('data/train\\\\ROSY MAPLE MOTH\\\\121.jpg', 84), ('data/train\\\\ROSY MAPLE MOTH\\\\046.jpg', 84), ('data/train\\\\GREEN HAIRSTREAK\\\\149.jpg', 48), ('data/train\\\\SLEEPY ORANGE\\\\003.jpg', 88), ('data/train\\\\ORANGE TIP\\\\74.jpg', 68), ('data/train\\\\GREEN HAIRSTREAK\\\\005.jpg', 48), ('data/train\\\\ATALA\\\\090.jpg', 6), ('data/train\\\\ARCIGERA FLOWER MOTH\\\\062.jpg', 5), ('data/train\\\\BROWN ARGUS\\\\144.jpg', 17), ('data/train\\\\MOURNING CLOAK\\\\182.jpg', 65), ('data/train\\\\SCARCE SWALLOW\\\\121.jpg', 85), ('data/train\\\\BANDED ORANGE HELICONIAN\\\\030.jpg', 8), ('data/train\\\\BROWN ARGUS\\\\064.jpg', 17), ('data/train\\\\HERCULES MOTH\\\\128.jpg', 50), ('data/train\\\\ATALA\\\\122.jpg', 6), ('data/train\\\\RED CRACKER\\\\009.jpg', 81), ('data/train\\\\GREEN HAIRSTREAK\\\\008.jpg', 48), ('data/train\\\\HUMMING BIRD HAWK MOTH\\\\037.jpg', 51), ('data/train\\\\SLEEPY ORANGE\\\\103.jpg', 88), ('data/train\\\\HERCULES MOTH\\\\054.jpg', 50), ('data/train\\\\BROWN ARGUS\\\\118.jpg', 17), ('data/train\\\\GREEN HAIRSTREAK\\\\163.jpg', 48), ('data/train\\\\CHALK HILL BLUE\\\\044.jpg', 21), ('data/train\\\\ORANGE TIP\\\\102.jpg', 68), ('data/train\\\\ATALA\\\\129.jpg', 6), ('data/train\\\\BROOKES BIRDWING\\\\046.jpg', 16), ('data/train\\\\GREEN HAIRSTREAK\\\\126.jpg', 48), ('data/train\\\\CHALK HILL BLUE\\\\106.jpg', 21), ('data/train\\\\ROSY MAPLE MOTH\\\\087.jpg', 84), ('data/train\\\\CRECENT\\\\17.jpg', 33), ('data/train\\\\SCARCE SWALLOW\\\\037.jpg', 85), ('data/train\\\\SCARCE SWALLOW\\\\011.jpg', 85), ('data/train\\\\CHALK HILL BLUE\\\\111.jpg', 21), ('data/train\\\\ROSY MAPLE MOTH\\\\101.jpg', 84), ('data/train\\\\BROWN SIPROETA\\\\060.jpg', 18), ('data/train\\\\RED CRACKER\\\\112.jpg', 81), ('data/train\\\\HUMMING BIRD HAWK MOTH\\\\105.jpg', 51), ('data/train\\\\MOURNING CLOAK\\\\104.jpg', 65), ('data/train\\\\BROWN ARGUS\\\\042.jpg', 17), ('data/train\\\\MILBERTS TORTOISESHELL\\\\041.jpg', 63), ('data/train\\\\CHALK HILL BLUE\\\\036.jpg', 21), ('data/train\\\\WHITE LINED SPHINX MOTH\\\\109.jpg', 96), ('data/train\\\\BROWN SIPROETA\\\\072.jpg', 18), ('data/train\\\\CRECENT\\\\67.jpg', 33), ('data/train\\\\MOURNING CLOAK\\\\118.jpg', 65), ('data/train\\\\BROOKES BIRDWING\\\\095.jpg', 16), ('data/train\\\\SLEEPY ORANGE\\\\153.jpg', 88), ('data/train\\\\SLEEPY ORANGE\\\\047.jpg', 88), ('data/train\\\\SCARCE SWALLOW\\\\066.jpg', 85), ('data/train\\\\BANDED TIGER MOTH\\\\089.jpg', 10), ('data/train\\\\CRECENT\\\\92.jpg', 33), ('data/train\\\\SLEEPY ORANGE\\\\146.jpg', 88), ('data/train\\\\BANDED TIGER MOTH\\\\085.jpg', 10), ('data/train\\\\SLEEPY ORANGE\\\\045.jpg', 88), ('data/train\\\\RED CRACKER\\\\020.jpg', 81), ('data/train\\\\BROWN SIPROETA\\\\138.jpg', 18), ('data/train\\\\SCARCE SWALLOW\\\\067.jpg', 85), ('data/train\\\\BROWN ARGUS\\\\125.jpg', 17), ('data/train\\\\BANDED ORANGE HELICONIAN\\\\123.jpg', 8), ('data/train\\\\GREEN HAIRSTREAK\\\\062.jpg', 48), ('data/train\\\\SCARCE SWALLOW\\\\087.jpg', 85), ('data/train\\\\HERCULES MOTH\\\\082.jpg', 50), ('data/train\\\\BANDED ORANGE HELICONIAN\\\\037.jpg', 8), ('data/train\\\\BANDED TIGER MOTH\\\\103.jpg', 10), ('data/train\\\\MOURNING CLOAK\\\\185.jpg', 65), ('data/train\\\\HERCULES MOTH\\\\097.jpg', 50), ('data/train\\\\SLEEPY ORANGE\\\\061.jpg', 88), ('data/train\\\\CRECENT\\\\70.jpg', 33), ('data/train\\\\WHITE LINED SPHINX MOTH\\\\062.jpg', 96), ('data/train\\\\ROSY MAPLE MOTH\\\\135.jpg', 84), ('data/train\\\\BANDED TIGER MOTH\\\\030.jpg', 10), ('data/train\\\\MOURNING CLOAK\\\\138.jpg', 65), ('data/train\\\\ROSY MAPLE MOTH\\\\060.jpg', 84), ('data/train\\\\MOURNING CLOAK\\\\184.jpg', 65), ('data/train\\\\ARCIGERA FLOWER MOTH\\\\013.jpg', 5), ('data/train\\\\ORANGE TIP\\\\18.jpg', 68), ('data/train\\\\BROOKES BIRDWING\\\\163.jpg', 16), ('data/train\\\\MOURNING CLOAK\\\\078.jpg', 65), ('data/train\\\\MOURNING CLOAK\\\\002.jpg', 65), ('data/train\\\\MILBERTS TORTOISESHELL\\\\093.jpg', 63), ('data/train\\\\SCARCE SWALLOW\\\\091.jpg', 85), ('data/train\\\\GREEN HAIRSTREAK\\\\006.jpg', 48), ('data/train\\\\HERCULES MOTH\\\\113.jpg', 50), ('data/train\\\\MILBERTS TORTOISESHELL\\\\017.jpg', 63), ('data/train\\\\MOURNING CLOAK\\\\092.jpg', 65), ('data/train\\\\BROWN SIPROETA\\\\033.jpg', 18), ('data/train\\\\HUMMING BIRD HAWK MOTH\\\\033.jpg', 51), ('data/train\\\\GREEN HAIRSTREAK\\\\053.jpg', 48), ('data/train\\\\MILBERTS TORTOISESHELL\\\\049.jpg', 63), ('data/train\\\\CRECENT\\\\18.jpg', 33), ('data/train\\\\BANDED ORANGE HELICONIAN\\\\065.jpg', 8), ('data/train\\\\ARCIGERA FLOWER MOTH\\\\023.jpg', 5), ('data/train\\\\ATALA\\\\085.jpg', 6), ('data/train\\\\RED CRACKER\\\\118.jpg', 81), ('data/train\\\\ORANGE TIP\\\\61.jpg', 68), ('data/train\\\\WHITE LINED SPHINX MOTH\\\\019.jpg', 96), ('data/train\\\\ARCIGERA FLOWER MOTH\\\\043.jpg', 5), ('data/train\\\\BROOKES BIRDWING\\\\009.jpg', 16), ('data/train\\\\ORANGE TIP\\\\01.jpg', 68), ('data/train\\\\BROWN ARGUS\\\\132.jpg', 17), ('data/train\\\\WHITE LINED SPHINX MOTH\\\\075.jpg', 96), ('data/train\\\\GREEN HAIRSTREAK\\\\054.jpg', 48), ('data/train\\\\BROWN ARGUS\\\\057.jpg', 17), ('data/train\\\\MOURNING CLOAK\\\\040.jpg', 65), ('data/train\\\\ATALA\\\\062.jpg', 6), ('data/train\\\\CRECENT\\\\103.jpg', 33), ('data/train\\\\BANDED TIGER MOTH\\\\075.jpg', 10), ('data/train\\\\ARCIGERA FLOWER MOTH\\\\085.jpg', 5), ('data/train\\\\HERCULES MOTH\\\\027.jpg', 50), ('data/train\\\\BROWN SIPROETA\\\\053.jpg', 18), ('data/train\\\\RED CRACKER\\\\066.jpg', 81), ('data/train\\\\MOURNING CLOAK\\\\070.jpg', 65), ('data/train\\\\BROWN SIPROETA\\\\080.jpg', 18), ('data/train\\\\ATALA\\\\036.jpg', 6), ('data/train\\\\MILBERTS TORTOISESHELL\\\\058.jpg', 63), ('data/train\\\\ARCIGERA FLOWER MOTH\\\\040.jpg', 5), ('data/train\\\\WHITE LINED SPHINX MOTH\\\\143.jpg', 96), ('data/train\\\\MILBERTS TORTOISESHELL\\\\086.jpg', 63), ('data/train\\\\SCARCE SWALLOW\\\\019.jpg', 85), ('data/train\\\\SLEEPY ORANGE\\\\053.jpg', 88), ('data/train\\\\BANDED TIGER MOTH\\\\074.jpg', 10), ('data/train\\\\BANDED TIGER MOTH\\\\020.jpg', 10), ('data/train\\\\BROOKES BIRDWING\\\\076.jpg', 16), ('data/train\\\\ATALA\\\\078.jpg', 6), ('data/train\\\\HUMMING BIRD HAWK MOTH\\\\089.jpg', 51), ('data/train\\\\ORANGE TIP\\\\91.jpg', 68), ('data/train\\\\MOURNING CLOAK\\\\031.jpg', 65), ('data/train\\\\GREEN HAIRSTREAK\\\\001.jpg', 48), ('data/train\\\\WHITE LINED SPHINX MOTH\\\\045.jpg', 96), ('data/train\\\\ROSY MAPLE MOTH\\\\061.jpg', 84), ('data/train\\\\GREEN HAIRSTREAK\\\\010.jpg', 48), ('data/train\\\\ARCIGERA FLOWER MOTH\\\\068.jpg', 5), ('data/train\\\\CHALK HILL BLUE\\\\054.jpg', 21), ('data/train\\\\BANDED ORANGE HELICONIAN\\\\131.jpg', 8), ('data/train\\\\GREEN HAIRSTREAK\\\\040.jpg', 48), ('data/train\\\\BROWN ARGUS\\\\111.jpg', 17), ('data/train\\\\WHITE LINED SPHINX MOTH\\\\124.jpg', 96), ('data/train\\\\BROWN SIPROETA\\\\136.jpg', 18), ('data/train\\\\MILBERTS TORTOISESHELL\\\\123.jpg', 63), ('data/train\\\\BROWN SIPROETA\\\\100.jpg', 18), ('data/train\\\\ROSY MAPLE MOTH\\\\075.jpg', 84), ('data/train\\\\ORANGE TIP\\\\32.jpg', 68), ('data/train\\\\WHITE LINED SPHINX MOTH\\\\066.jpg', 96), ('data/train\\\\BROWN SIPROETA\\\\024.jpg', 18), ('data/train\\\\HUMMING BIRD HAWK MOTH\\\\119.jpg', 51), ('data/train\\\\WHITE LINED SPHINX MOTH\\\\089.jpg', 96), ('data/train\\\\ATALA\\\\086.jpg', 6), ('data/train\\\\ORANGE TIP\\\\52.jpg', 68), ('data/train\\\\BANDED ORANGE HELICONIAN\\\\077.jpg', 8), ('data/train\\\\ROSY MAPLE MOTH\\\\012.jpg', 84), ('data/train\\\\RED CRACKER\\\\026.jpg', 81), ('data/train\\\\HUMMING BIRD HAWK MOTH\\\\098.jpg', 51), ('data/train\\\\BROOKES BIRDWING\\\\043.jpg', 16), ('data/train\\\\SLEEPY ORANGE\\\\091.jpg', 88), ('data/train\\\\HUMMING BIRD HAWK MOTH\\\\041.jpg', 51), ('data/train\\\\CHALK HILL BLUE\\\\146.jpg', 21), ('data/train\\\\BANDED ORANGE HELICONIAN\\\\017.jpg', 8), ('data/train\\\\BROOKES BIRDWING\\\\152.jpg', 16), ('data/train\\\\CRECENT\\\\55.jpg', 33), ('data/train\\\\BANDED TIGER MOTH\\\\122.jpg', 10), ('data/train\\\\BROOKES BIRDWING\\\\062.jpg', 16), ('data/train\\\\BANDED TIGER MOTH\\\\016.jpg', 10), ('data/train\\\\ATALA\\\\079.jpg', 6), ('data/train\\\\WHITE LINED SPHINX MOTH\\\\065.jpg', 96), ('data/train\\\\MILBERTS TORTOISESHELL\\\\133.jpg', 63), ('data/train\\\\HERCULES MOTH\\\\085.jpg', 50), ('data/train\\\\BROOKES BIRDWING\\\\139.jpg', 16), ('data/train\\\\ARCIGERA FLOWER MOTH\\\\063.jpg', 5), ('data/train\\\\GREEN HAIRSTREAK\\\\170.jpg', 48), ('data/train\\\\SCARCE SWALLOW\\\\018.jpg', 85), ('data/train\\\\HERCULES MOTH\\\\117.jpg', 50), ('data/train\\\\BROOKES BIRDWING\\\\161.jpg', 16), ('data/train\\\\MILBERTS TORTOISESHELL\\\\014.jpg', 63), ('data/train\\\\BROWN SIPROETA\\\\068.jpg', 18), ('data/train\\\\SCARCE SWALLOW\\\\103.jpg', 85), ('data/train\\\\ARCIGERA FLOWER MOTH\\\\025.jpg', 5), ('data/train\\\\HUMMING BIRD HAWK MOTH\\\\031.jpg', 51), ('data/train\\\\ORANGE TIP\\\\22.jpg', 68), ('data/train\\\\BROOKES BIRDWING\\\\021.jpg', 16), ('data/train\\\\BANDED TIGER MOTH\\\\028.jpg', 10), ('data/train\\\\MILBERTS TORTOISESHELL\\\\067.jpg', 63), ('data/train\\\\RED CRACKER\\\\100.jpg', 81), ('data/train\\\\SCARCE SWALLOW\\\\104.jpg', 85), ('data/train\\\\BROOKES BIRDWING\\\\109.jpg', 16), ('data/train\\\\CRECENT\\\\54.jpg', 33), ('data/train\\\\SLEEPY ORANGE\\\\070.jpg', 88), ('data/train\\\\HERCULES MOTH\\\\087.jpg', 50), ('data/train\\\\MILBERTS TORTOISESHELL\\\\116.jpg', 63), ('data/train\\\\HUMMING BIRD HAWK MOTH\\\\007.jpg', 51), ('data/train\\\\BANDED TIGER MOTH\\\\059.jpg', 10), ('data/train\\\\SLEEPY ORANGE\\\\133.jpg', 88), ('data/train\\\\CHALK HILL BLUE\\\\132.jpg', 21), ('data/train\\\\SCARCE SWALLOW\\\\031.jpg', 85), ('data/train\\\\SLEEPY ORANGE\\\\013.jpg', 88), ('data/train\\\\BANDED TIGER MOTH\\\\007.jpg', 10), ('data/train\\\\RED CRACKER\\\\076.jpg', 81), ('data/train\\\\ATALA\\\\041.jpg', 6), ('data/train\\\\CRECENT\\\\04.jpg', 33), ('data/train\\\\BANDED ORANGE HELICONIAN\\\\040.jpg', 8), ('data/train\\\\CHALK HILL BLUE\\\\020.jpg', 21), ('data/train\\\\CRECENT\\\\133.jpg', 33), ('data/train\\\\ATALA\\\\017.jpg', 6), ('data/train\\\\BROWN SIPROETA\\\\096.jpg', 18), ('data/train\\\\GREEN HAIRSTREAK\\\\027.jpg', 48), ('data/train\\\\SCARCE SWALLOW\\\\023.jpg', 85), ('data/train\\\\CHALK HILL BLUE\\\\131.jpg', 21), ('data/train\\\\CHALK HILL BLUE\\\\116.jpg', 21), ('data/train\\\\BROOKES BIRDWING\\\\115.jpg', 16), ('data/train\\\\WHITE LINED SPHINX MOTH\\\\072.jpg', 96), ('data/train\\\\ARCIGERA FLOWER MOTH\\\\066.jpg', 5), ('data/train\\\\SLEEPY ORANGE\\\\020.jpg', 88), ('data/train\\\\BROOKES BIRDWING\\\\014.jpg', 16), ('data/train\\\\CHALK HILL BLUE\\\\112.jpg', 21), ('data/train\\\\SCARCE SWALLOW\\\\117.jpg', 85), ('data/train\\\\WHITE LINED SPHINX MOTH\\\\142.jpg', 96), ('data/train\\\\BANDED TIGER MOTH\\\\076.jpg', 10), ('data/train\\\\ROSY MAPLE MOTH\\\\021.jpg', 84), ('data/train\\\\GREEN HAIRSTREAK\\\\060.jpg', 48), ('data/train\\\\SLEEPY ORANGE\\\\138.jpg', 88), ('data/train\\\\ORANGE TIP\\\\17.jpg', 68), ('data/train\\\\BANDED ORANGE HELICONIAN\\\\095.jpg', 8), ('data/train\\\\HUMMING BIRD HAWK MOTH\\\\087.jpg', 51), ('data/train\\\\HERCULES MOTH\\\\098.jpg', 50), ('data/train\\\\MOURNING CLOAK\\\\143.jpg', 65), ('data/train\\\\BROWN ARGUS\\\\116.jpg', 17), ('data/train\\\\BROWN SIPROETA\\\\043.jpg', 18), ('data/train\\\\HUMMING BIRD HAWK MOTH\\\\129.jpg', 51), ('data/train\\\\BROOKES BIRDWING\\\\027.jpg', 16), ('data/train\\\\BROOKES BIRDWING\\\\018.jpg', 16), ('data/train\\\\MOURNING CLOAK\\\\172.jpg', 65), ('data/train\\\\GREEN HAIRSTREAK\\\\014.jpg', 48), ('data/train\\\\MILBERTS TORTOISESHELL\\\\131.jpg', 63), ('data/train\\\\BROWN ARGUS\\\\036.jpg', 17), ('data/train\\\\ORANGE TIP\\\\69.jpg', 68), ('data/train\\\\RED CRACKER\\\\133.jpg', 81), ('data/train\\\\CRECENT\\\\138.jpg', 33), ('data/train\\\\BANDED ORANGE HELICONIAN\\\\004.jpg', 8), ('data/train\\\\HUMMING BIRD HAWK MOTH\\\\104.jpg', 51), ('data/train\\\\GREEN HAIRSTREAK\\\\146.jpg', 48), ('data/train\\\\BANDED ORANGE HELICONIAN\\\\054.jpg', 8), ('data/train\\\\ORANGE TIP\\\\134.jpg', 68), ('data/train\\\\BANDED TIGER MOTH\\\\032.jpg', 10), ('data/train\\\\ORANGE TIP\\\\31.jpg', 68), ('data/train\\\\ARCIGERA FLOWER MOTH\\\\077.jpg', 5), ('data/train\\\\BROWN ARGUS\\\\108.jpg', 17), ('data/train\\\\MOURNING CLOAK\\\\123.jpg', 65), ('data/train\\\\SLEEPY ORANGE\\\\152.jpg', 88), ('data/train\\\\MILBERTS TORTOISESHELL\\\\015.jpg', 63), ('data/train\\\\BANDED ORANGE HELICONIAN\\\\034.jpg', 8), ('data/train\\\\ROSY MAPLE MOTH\\\\035.jpg', 84), ('data/train\\\\ROSY MAPLE MOTH\\\\137.jpg', 84), ('data/train\\\\ROSY MAPLE MOTH\\\\007.jpg', 84), ('data/train\\\\HUMMING BIRD HAWK MOTH\\\\128.jpg', 51), ('data/train\\\\MOURNING CLOAK\\\\042.jpg', 65), ('data/train\\\\GREEN HAIRSTREAK\\\\083.jpg', 48), ('data/train\\\\ARCIGERA FLOWER MOTH\\\\135.jpg', 5), ('data/train\\\\BANDED TIGER MOTH\\\\062.jpg', 10), ('data/train\\\\HUMMING BIRD HAWK MOTH\\\\055.jpg', 51), ('data/train\\\\BROWN SIPROETA\\\\057.jpg', 18), ('data/train\\\\BROOKES BIRDWING\\\\039.jpg', 16), ('data/train\\\\ROSY MAPLE MOTH\\\\048.jpg', 84), ('data/train\\\\MOURNING CLOAK\\\\108.jpg', 65), ('data/train\\\\MOURNING CLOAK\\\\131.jpg', 65), ('data/train\\\\WHITE LINED SPHINX MOTH\\\\046.jpg', 96), ('data/train\\\\SCARCE SWALLOW\\\\125.jpg', 85), ('data/train\\\\SLEEPY ORANGE\\\\049.jpg', 88), ('data/train\\\\ARCIGERA FLOWER MOTH\\\\092.jpg', 5), ('data/train\\\\WHITE LINED SPHINX MOTH\\\\001.jpg', 96), ('data/train\\\\HERCULES MOTH\\\\103.jpg', 50), ('data/train\\\\CRECENT\\\\37.jpg', 33), ('data/train\\\\HERCULES MOTH\\\\112.jpg', 50), ('data/train\\\\SCARCE SWALLOW\\\\131.jpg', 85), ('data/train\\\\CHALK HILL BLUE\\\\046.jpg', 21), ('data/train\\\\GREEN HAIRSTREAK\\\\099.jpg', 48), ('data/train\\\\WHITE LINED SPHINX MOTH\\\\038.jpg', 96), ('data/train\\\\WHITE LINED SPHINX MOTH\\\\117.jpg', 96), ('data/train\\\\ORANGE TIP\\\\107.jpg', 68), ('data/train\\\\BANDED ORANGE HELICONIAN\\\\130.jpg', 8), ('data/train\\\\WHITE LINED SPHINX MOTH\\\\047.jpg', 96), ('data/train\\\\HERCULES MOTH\\\\079.jpg', 50), ('data/train\\\\RED CRACKER\\\\056.jpg', 81), ('data/train\\\\HUMMING BIRD HAWK MOTH\\\\054.jpg', 51), ('data/train\\\\GREEN HAIRSTREAK\\\\123.jpg', 48), ('data/train\\\\BANDED TIGER MOTH\\\\033.jpg', 10), ('data/train\\\\SCARCE SWALLOW\\\\105.jpg', 85), ('data/train\\\\ARCIGERA FLOWER MOTH\\\\123.jpg', 5), ('data/train\\\\WHITE LINED SPHINX MOTH\\\\055.jpg', 96), ('data/train\\\\BROWN SIPROETA\\\\008.jpg', 18), ('data/train\\\\ATALA\\\\092.jpg', 6), ('data/train\\\\HUMMING BIRD HAWK MOTH\\\\122.jpg', 51), ('data/train\\\\GREEN HAIRSTREAK\\\\158.jpg', 48), ('data/train\\\\BROWN SIPROETA\\\\131.jpg', 18), ('data/train\\\\HUMMING BIRD HAWK MOTH\\\\011.jpg', 51), ('data/train\\\\ARCIGERA FLOWER MOTH\\\\105.jpg', 5), ('data/train\\\\RED CRACKER\\\\105.jpg', 81), ('data/train\\\\RED CRACKER\\\\136.jpg', 81), ('data/train\\\\ARCIGERA FLOWER MOTH\\\\115.jpg', 5), ('data/train\\\\SLEEPY ORANGE\\\\127.jpg', 88), ('data/train\\\\CHALK HILL BLUE\\\\010.jpg', 21), ('data/train\\\\HERCULES MOTH\\\\049.jpg', 50), ('data/train\\\\CHALK HILL BLUE\\\\086.jpg', 21), ('data/train\\\\BANDED TIGER MOTH\\\\100.jpg', 10), ('data/train\\\\BANDED TIGER MOTH\\\\113.jpg', 10), ('data/train\\\\ROSY MAPLE MOTH\\\\052.jpg', 84), ('data/train\\\\RED CRACKER\\\\078.jpg', 81), ('data/train\\\\RED CRACKER\\\\095.jpg', 81), ('data/train\\\\HERCULES MOTH\\\\048.jpg', 50), ('data/train\\\\MILBERTS TORTOISESHELL\\\\110.jpg', 63), ('data/train\\\\BROWN SIPROETA\\\\065.jpg', 18), ('data/train\\\\SCARCE SWALLOW\\\\056.jpg', 85), ('data/train\\\\GREEN HAIRSTREAK\\\\004.jpg', 48), ('data/train\\\\RED CRACKER\\\\060.jpg', 81), ('data/train\\\\CRECENT\\\\99.jpg', 33), ('data/train\\\\WHITE LINED SPHINX MOTH\\\\103.jpg', 96), ('data/train\\\\BANDED ORANGE HELICONIAN\\\\010.jpg', 8), ('data/train\\\\ATALA\\\\042.jpg', 6), ('data/train\\\\WHITE LINED SPHINX MOTH\\\\042.jpg', 96), ('data/train\\\\HUMMING BIRD HAWK MOTH\\\\109.jpg', 51), ('data/train\\\\CRECENT\\\\88.jpg', 33), ('data/train\\\\BROWN ARGUS\\\\123.jpg', 17), ('data/train\\\\CHALK HILL BLUE\\\\101.jpg', 21), ('data/train\\\\SCARCE SWALLOW\\\\093.jpg', 85), ('data/train\\\\GREEN HAIRSTREAK\\\\166.jpg', 48), ('data/train\\\\BROWN SIPROETA\\\\083.jpg', 18), ('data/train\\\\HERCULES MOTH\\\\137.jpg', 50), ('data/train\\\\MILBERTS TORTOISESHELL\\\\098.jpg', 63), ('data/train\\\\HUMMING BIRD HAWK MOTH\\\\004.jpg', 51), ('data/train\\\\MOURNING CLOAK\\\\103.jpg', 65), ('data/train\\\\ORANGE TIP\\\\133.jpg', 68), ('data/train\\\\MILBERTS TORTOISESHELL\\\\120.jpg', 63), ('data/train\\\\MILBERTS TORTOISESHELL\\\\050.jpg', 63), ('data/train\\\\BROWN SIPROETA\\\\109.jpg', 18), ('data/train\\\\BANDED ORANGE HELICONIAN\\\\035.jpg', 8), ('data/train\\\\BROOKES BIRDWING\\\\042.jpg', 16), ('data/train\\\\HUMMING BIRD HAWK MOTH\\\\101.jpg', 51), ('data/train\\\\BANDED TIGER MOTH\\\\081.jpg', 10), ('data/train\\\\RED CRACKER\\\\065.jpg', 81), ('data/train\\\\GREEN HAIRSTREAK\\\\155.jpg', 48), ('data/train\\\\GREEN HAIRSTREAK\\\\095.jpg', 48), ('data/train\\\\BROOKES BIRDWING\\\\155.jpg', 16), ('data/train\\\\BROWN SIPROETA\\\\127.jpg', 18), ('data/train\\\\BROOKES BIRDWING\\\\098.jpg', 16), ('data/train\\\\BROWN ARGUS\\\\075.jpg', 17), ('data/train\\\\MILBERTS TORTOISESHELL\\\\081.jpg', 63), ('data/train\\\\BROWN ARGUS\\\\146.jpg', 17), ('data/train\\\\ORANGE TIP\\\\54.jpg', 68), ('data/train\\\\BROOKES BIRDWING\\\\002.jpg', 16), ('data/train\\\\SCARCE SWALLOW\\\\055.jpg', 85), ('data/train\\\\ROSY MAPLE MOTH\\\\065.jpg', 84), ('data/train\\\\MOURNING CLOAK\\\\105.jpg', 65), ('data/train\\\\HERCULES MOTH\\\\118.jpg', 50), ('data/train\\\\MILBERTS TORTOISESHELL\\\\068.jpg', 63), ('data/train\\\\ROSY MAPLE MOTH\\\\090.jpg', 84), ('data/train\\\\BROWN ARGUS\\\\155.jpg', 17), ('data/train\\\\MOURNING CLOAK\\\\181.jpg', 65), ('data/train\\\\CRECENT\\\\06.jpg', 33), ('data/train\\\\BROWN ARGUS\\\\060.jpg', 17), ('data/train\\\\BROWN ARGUS\\\\044.jpg', 17), ('data/train\\\\GREEN HAIRSTREAK\\\\056.jpg', 48), ('data/train\\\\ATALA\\\\091.jpg', 6), ('data/train\\\\ARCIGERA FLOWER MOTH\\\\064.jpg', 5), ('data/train\\\\BANDED ORANGE HELICONIAN\\\\051.jpg', 8), ('data/train\\\\BANDED ORANGE HELICONIAN\\\\062.jpg', 8), ('data/train\\\\ATALA\\\\107.jpg', 6), ('data/train\\\\MOURNING CLOAK\\\\150.jpg', 65), ('data/train\\\\BANDED ORANGE HELICONIAN\\\\006.jpg', 8), ('data/train\\\\BROOKES BIRDWING\\\\072.jpg', 16), ('data/train\\\\ORANGE TIP\\\\16.jpg', 68), ('data/train\\\\ARCIGERA FLOWER MOTH\\\\122.jpg', 5), ('data/train\\\\BROOKES BIRDWING\\\\121.jpg', 16), ('data/train\\\\GREEN HAIRSTREAK\\\\066.jpg', 48), ('data/train\\\\BROOKES BIRDWING\\\\032.jpg', 16), ('data/train\\\\BROOKES BIRDWING\\\\077.jpg', 16), ('data/train\\\\BROWN ARGUS\\\\091.jpg', 17), ('data/train\\\\MILBERTS TORTOISESHELL\\\\075.jpg', 63), ('data/train\\\\ROSY MAPLE MOTH\\\\132.jpg', 84), ('data/train\\\\ARCIGERA FLOWER MOTH\\\\021.jpg', 5), ('data/train\\\\BANDED ORANGE HELICONIAN\\\\098.jpg', 8), ('data/train\\\\ROSY MAPLE MOTH\\\\104.jpg', 84), ('data/train\\\\RED CRACKER\\\\055.jpg', 81), ('data/train\\\\BROWN ARGUS\\\\164.jpg', 17), ('data/train\\\\BANDED ORANGE HELICONIAN\\\\079.jpg', 8), ('data/train\\\\ORANGE TIP\\\\114.jpg', 68), ('data/train\\\\WHITE LINED SPHINX MOTH\\\\006.jpg', 96), ('data/train\\\\WHITE LINED SPHINX MOTH\\\\107.jpg', 96), ('data/train\\\\BROOKES BIRDWING\\\\085.jpg', 16), ('data/train\\\\ATALA\\\\124.jpg', 6), ('data/train\\\\CRECENT\\\\86.jpg', 33), ('data/train\\\\CHALK HILL BLUE\\\\095.jpg', 21), ('data/train\\\\BROOKES BIRDWING\\\\065.jpg', 16), ('data/train\\\\MOURNING CLOAK\\\\094.jpg', 65), ('data/train\\\\ATALA\\\\141.jpg', 6), ('data/train\\\\WHITE LINED SPHINX MOTH\\\\003.jpg', 96), ('data/train\\\\ROSY MAPLE MOTH\\\\136.jpg', 84), ('data/train\\\\CHALK HILL BLUE\\\\069.jpg', 21), ('data/train\\\\RED CRACKER\\\\021.jpg', 81), ('data/train\\\\MOURNING CLOAK\\\\086.jpg', 65), ('data/train\\\\ATALA\\\\056.jpg', 6), ('data/train\\\\ROSY MAPLE MOTH\\\\017.jpg', 84), ('data/train\\\\BANDED TIGER MOTH\\\\116.jpg', 10), ('data/train\\\\HERCULES MOTH\\\\033.jpg', 50), ('data/train\\\\RED CRACKER\\\\003.jpg', 81), ('data/train\\\\ARCIGERA FLOWER MOTH\\\\060.jpg', 5), ('data/train\\\\BROOKES BIRDWING\\\\087.jpg', 16), ('data/train\\\\HERCULES MOTH\\\\094.jpg', 50), ('data/train\\\\SCARCE SWALLOW\\\\115.jpg', 85), ('data/train\\\\ORANGE TIP\\\\122.jpg', 68), ('data/train\\\\ATALA\\\\043.jpg', 6), ('data/train\\\\BROWN ARGUS\\\\167.jpg', 17), ('data/train\\\\HUMMING BIRD HAWK MOTH\\\\052.jpg', 51), ('data/train\\\\BROWN ARGUS\\\\002.jpg', 17), ('data/train\\\\BROOKES BIRDWING\\\\079.jpg', 16), ('data/train\\\\SCARCE SWALLOW\\\\101.jpg', 85), ('data/train\\\\WHITE LINED SPHINX MOTH\\\\079.jpg', 96), ('data/train\\\\CRECENT\\\\21.jpg', 33), ('data/train\\\\BANDED TIGER MOTH\\\\101.jpg', 10), ('data/train\\\\RED CRACKER\\\\081.jpg', 81), ('data/train\\\\SCARCE SWALLOW\\\\017.jpg', 85), ('data/train\\\\ROSY MAPLE MOTH\\\\011.jpg', 84), ('data/train\\\\MILBERTS TORTOISESHELL\\\\074.jpg', 63), ('data/train\\\\BANDED TIGER MOTH\\\\119.jpg', 10), ('data/train\\\\CRECENT\\\\131.jpg', 33), ('data/train\\\\ORANGE TIP\\\\136.jpg', 68), ('data/train\\\\RED CRACKER\\\\024.jpg', 81), ('data/train\\\\ATALA\\\\034.jpg', 6), ('data/train\\\\ROSY MAPLE MOTH\\\\088.jpg', 84), ('data/train\\\\MILBERTS TORTOISESHELL\\\\019.jpg', 63), ('data/train\\\\BROOKES BIRDWING\\\\045.jpg', 16), ('data/train\\\\BANDED TIGER MOTH\\\\049.jpg', 10), ('data/train\\\\ARCIGERA FLOWER MOTH\\\\133.jpg', 5), ('data/train\\\\WHITE LINED SPHINX MOTH\\\\096.jpg', 96), ('data/train\\\\CRECENT\\\\114.jpg', 33), ('data/train\\\\GREEN HAIRSTREAK\\\\025.jpg', 48), ('data/train\\\\MILBERTS TORTOISESHELL\\\\112.jpg', 63), ('data/train\\\\BROWN ARGUS\\\\158.jpg', 17), ('data/train\\\\CRECENT\\\\124.jpg', 33), ('data/train\\\\BROOKES BIRDWING\\\\049.jpg', 16), ('data/train\\\\SCARCE SWALLOW\\\\015.jpg', 85), ('data/train\\\\BROWN ARGUS\\\\149.jpg', 17), ('data/train\\\\BANDED ORANGE HELICONIAN\\\\048.jpg', 8), ('data/train\\\\MOURNING CLOAK\\\\075.jpg', 65), ('data/train\\\\HERCULES MOTH\\\\077.jpg', 50), ('data/train\\\\BANDED TIGER MOTH\\\\042.jpg', 10), ('data/train\\\\ATALA\\\\002.jpg', 6), ('data/train\\\\HUMMING BIRD HAWK MOTH\\\\103.jpg', 51), ('data/train\\\\CHALK HILL BLUE\\\\087.jpg', 21), ('data/train\\\\SLEEPY ORANGE\\\\096.jpg', 88), ('data/train\\\\GREEN HAIRSTREAK\\\\134.jpg', 48), ('data/train\\\\BROWN SIPROETA\\\\071.jpg', 18), ('data/train\\\\BROWN ARGUS\\\\131.jpg', 17), ('data/train\\\\GREEN HAIRSTREAK\\\\067.jpg', 48), ('data/train\\\\CRECENT\\\\95.jpg', 33), ('data/train\\\\HERCULES MOTH\\\\031.jpg', 50), ('data/train\\\\CRECENT\\\\07.jpg', 33), ('data/train\\\\MOURNING CLOAK\\\\176.jpg', 65), ('data/train\\\\ARCIGERA FLOWER MOTH\\\\087.jpg', 5), ('data/train\\\\ATALA\\\\032.jpg', 6), ('data/train\\\\CHALK HILL BLUE\\\\039.jpg', 21), ('data/train\\\\ROSY MAPLE MOTH\\\\031.jpg', 84), ('data/train\\\\BROWN SIPROETA\\\\015.jpg', 18), ('data/train\\\\CRECENT\\\\137.jpg', 33), ('data/train\\\\ARCIGERA FLOWER MOTH\\\\080.jpg', 5), ('data/train\\\\SLEEPY ORANGE\\\\106.jpg', 88), ('data/train\\\\SCARCE SWALLOW\\\\054.jpg', 85), ('data/train\\\\ORANGE TIP\\\\76.jpg', 68), ('data/train\\\\BROWN SIPROETA\\\\115.jpg', 18), ('data/train\\\\ATALA\\\\027.jpg', 6), ('data/train\\\\WHITE LINED SPHINX MOTH\\\\054.jpg', 96), ('data/train\\\\ATALA\\\\113.jpg', 6), ('data/train\\\\CHALK HILL BLUE\\\\115.jpg', 21), ('data/train\\\\BROWN ARGUS\\\\152.jpg', 17), ('data/train\\\\BROWN ARGUS\\\\120.jpg', 17), ('data/train\\\\CHALK HILL BLUE\\\\091.jpg', 21), ('data/train\\\\MILBERTS TORTOISESHELL\\\\066.jpg', 63), ('data/train\\\\MOURNING CLOAK\\\\049.jpg', 65), ('data/train\\\\ORANGE TIP\\\\42.jpg', 68), ('data/train\\\\ARCIGERA FLOWER MOTH\\\\100.jpg', 5), ('data/train\\\\BROOKES BIRDWING\\\\093.jpg', 16), ('data/train\\\\ARCIGERA FLOWER MOTH\\\\140.jpg', 5), ('data/train\\\\MILBERTS TORTOISESHELL\\\\018.jpg', 63), ('data/train\\\\ARCIGERA FLOWER MOTH\\\\069.jpg', 5), ('data/train\\\\WHITE LINED SPHINX MOTH\\\\077.jpg', 96), ('data/train\\\\ATALA\\\\018.jpg', 6), ('data/train\\\\CRECENT\\\\105.jpg', 33), ('data/train\\\\ATALA\\\\110.jpg', 6), ('data/train\\\\CHALK HILL BLUE\\\\108.jpg', 21), ('data/train\\\\CHALK HILL BLUE\\\\071.jpg', 21), ('data/train\\\\SLEEPY ORANGE\\\\101.jpg', 88), ('data/train\\\\HERCULES MOTH\\\\122.jpg', 50), ('data/train\\\\BANDED TIGER MOTH\\\\012.jpg', 10), ('data/train\\\\BANDED ORANGE HELICONIAN\\\\093.jpg', 8), ('data/train\\\\WHITE LINED SPHINX MOTH\\\\059.jpg', 96), ('data/train\\\\CRECENT\\\\26.jpg', 33), ('data/train\\\\MILBERTS TORTOISESHELL\\\\002.jpg', 63), ('data/train\\\\SCARCE SWALLOW\\\\071.jpg', 85), ('data/train\\\\CHALK HILL BLUE\\\\079.jpg', 21), ('data/train\\\\ATALA\\\\031.jpg', 6), ('data/train\\\\WHITE LINED SPHINX MOTH\\\\026.jpg', 96), ('data/train\\\\ORANGE TIP\\\\70.jpg', 68), ('data/train\\\\BROWN ARGUS\\\\058.jpg', 17), ('data/train\\\\ORANGE TIP\\\\06.jpg', 68), ('data/train\\\\CHALK HILL BLUE\\\\077.jpg', 21), ('data/train\\\\CHALK HILL BLUE\\\\016.jpg', 21), ('data/train\\\\SCARCE SWALLOW\\\\047.jpg', 85), ('data/train\\\\HUMMING BIRD HAWK MOTH\\\\034.jpg', 51), ('data/train\\\\HUMMING BIRD HAWK MOTH\\\\024.jpg', 51), ('data/train\\\\RED CRACKER\\\\074.jpg', 81), ('data/train\\\\BANDED ORANGE HELICONIAN\\\\084.jpg', 8), ('data/train\\\\BANDED ORANGE HELICONIAN\\\\108.jpg', 8), ('data/train\\\\ATALA\\\\029.jpg', 6), ('data/train\\\\ARCIGERA FLOWER MOTH\\\\058.jpg', 5), ('data/train\\\\SLEEPY ORANGE\\\\021.jpg', 88), ('data/train\\\\BROWN ARGUS\\\\019.jpg', 17), ('data/train\\\\BROWN ARGUS\\\\066.jpg', 17), ('data/train\\\\ORANGE TIP\\\\35.jpg', 68), ('data/train\\\\WHITE LINED SPHINX MOTH\\\\052.jpg', 96), ('data/train\\\\ORANGE TIP\\\\51.jpg', 68), ('data/train\\\\CRECENT\\\\36.jpg', 33), ('data/train\\\\HERCULES MOTH\\\\135.jpg', 50), ('data/train\\\\CRECENT\\\\97.jpg', 33), ('data/train\\\\SCARCE SWALLOW\\\\135.jpg', 85), ('data/train\\\\ORANGE TIP\\\\63.jpg', 68), ('data/train\\\\ORANGE TIP\\\\47.jpg', 68), ('data/train\\\\BROWN SIPROETA\\\\104.jpg', 18), ('data/train\\\\BANDED ORANGE HELICONIAN\\\\107.jpg', 8), ('data/train\\\\WHITE LINED SPHINX MOTH\\\\125.jpg', 96), ('data/train\\\\SCARCE SWALLOW\\\\062.jpg', 85), ('data/train\\\\WHITE LINED SPHINX MOTH\\\\074.jpg', 96), ('data/train\\\\BANDED TIGER MOTH\\\\105.jpg', 10), ('data/train\\\\RED CRACKER\\\\039.jpg', 81), ('data/train\\\\RED CRACKER\\\\069.jpg', 81), ('data/train\\\\MOURNING CLOAK\\\\136.jpg', 65), ('data/train\\\\BANDED ORANGE HELICONIAN\\\\078.jpg', 8), ('data/train\\\\BANDED TIGER MOTH\\\\052.jpg', 10), ('data/train\\\\ATALA\\\\033.jpg', 6), ('data/train\\\\HUMMING BIRD HAWK MOTH\\\\095.jpg', 51), ('data/train\\\\ROSY MAPLE MOTH\\\\134.jpg', 84), ('data/train\\\\BROWN SIPROETA\\\\114.jpg', 18), ('data/train\\\\ATALA\\\\020.jpg', 6), ('data/train\\\\SCARCE SWALLOW\\\\127.jpg', 85), ('data/train\\\\SLEEPY ORANGE\\\\089.jpg', 88), ('data/train\\\\MOURNING CLOAK\\\\073.jpg', 65), ('data/train\\\\GREEN HAIRSTREAK\\\\092.jpg', 48), ('data/train\\\\BROWN ARGUS\\\\148.jpg', 17), ('data/train\\\\GREEN HAIRSTREAK\\\\097.jpg', 48), ('data/train\\\\MILBERTS TORTOISESHELL\\\\079.jpg', 63), ('data/train\\\\SLEEPY ORANGE\\\\137.jpg', 88), ('data/train\\\\BROWN ARGUS\\\\029.jpg', 17), ('data/train\\\\GREEN HAIRSTREAK\\\\094.jpg', 48), ('data/train\\\\MOURNING CLOAK\\\\016.jpg', 65), ('data/train\\\\HERCULES MOTH\\\\061.jpg', 50), ('data/train\\\\BANDED TIGER MOTH\\\\127.jpg', 10), ('data/train\\\\ATALA\\\\142.jpg', 6), ('data/train\\\\SLEEPY ORANGE\\\\117.jpg', 88), ('data/train\\\\ROSY MAPLE MOTH\\\\128.jpg', 84), ('data/train\\\\MOURNING CLOAK\\\\047.jpg', 65), ('data/train\\\\RED CRACKER\\\\029.jpg', 81), ('data/train\\\\SLEEPY ORANGE\\\\090.jpg', 88), ('data/train\\\\BROOKES BIRDWING\\\\025.jpg', 16), ('data/train\\\\HUMMING BIRD HAWK MOTH\\\\071.jpg', 51), ('data/train\\\\BANDED ORANGE HELICONIAN\\\\007.jpg', 8), ('data/train\\\\HUMMING BIRD HAWK MOTH\\\\136.jpg', 51), ('data/train\\\\ROSY MAPLE MOTH\\\\097.jpg', 84), ('data/train\\\\ATALA\\\\101.jpg', 6), ('data/train\\\\HERCULES MOTH\\\\064.jpg', 50), ('data/train\\\\SCARCE SWALLOW\\\\030.jpg', 85), ('data/train\\\\SLEEPY ORANGE\\\\110.jpg', 88), ('data/train\\\\ATALA\\\\044.jpg', 6), ('data/train\\\\SLEEPY ORANGE\\\\019.jpg', 88), ('data/train\\\\GREEN HAIRSTREAK\\\\039.jpg', 48), ('data/train\\\\HERCULES MOTH\\\\025.jpg', 50), ('data/train\\\\ATALA\\\\089.jpg', 6), ('data/train\\\\BROOKES BIRDWING\\\\033.jpg', 16), ('data/train\\\\ARCIGERA FLOWER MOTH\\\\061.jpg', 5), ('data/train\\\\CRECENT\\\\15.jpg', 33), ('data/train\\\\BROWN SIPROETA\\\\108.jpg', 18), ('data/train\\\\RED CRACKER\\\\096.jpg', 81), ('data/train\\\\ROSY MAPLE MOTH\\\\079.jpg', 84), ('data/train\\\\SLEEPY ORANGE\\\\065.jpg', 88), ('data/train\\\\SCARCE SWALLOW\\\\001.jpg', 85), ('data/train\\\\HERCULES MOTH\\\\057.jpg', 50), ('data/train\\\\MILBERTS TORTOISESHELL\\\\004.jpg', 63), ('data/train\\\\BROOKES BIRDWING\\\\129.jpg', 16), ('data/train\\\\BANDED ORANGE HELICONIAN\\\\071.jpg', 8), ('data/train\\\\CRECENT\\\\118.jpg', 33), ('data/train\\\\BANDED ORANGE HELICONIAN\\\\023.jpg', 8), ('data/train\\\\GREEN HAIRSTREAK\\\\124.jpg', 48), ('data/train\\\\MOURNING CLOAK\\\\142.jpg', 65), ('data/train\\\\ROSY MAPLE MOTH\\\\102.jpg', 84), ('data/train\\\\BANDED ORANGE HELICONIAN\\\\128.jpg', 8), ('data/train\\\\GREEN HAIRSTREAK\\\\118.jpg', 48), ('data/train\\\\GREEN HAIRSTREAK\\\\142.jpg', 48), ('data/train\\\\RED CRACKER\\\\114.jpg', 81), ('data/train\\\\BROWN SIPROETA\\\\048.jpg', 18), ('data/train\\\\GREEN HAIRSTREAK\\\\021.jpg', 48), ('data/train\\\\SCARCE SWALLOW\\\\076.jpg', 85), ('data/train\\\\CHALK HILL BLUE\\\\013.jpg', 21), ('data/train\\\\CHALK HILL BLUE\\\\099.jpg', 21), ('data/train\\\\BROWN ARGUS\\\\151.jpg', 17), ('data/train\\\\SCARCE SWALLOW\\\\090.jpg', 85), ('data/train\\\\GREEN HAIRSTREAK\\\\087.jpg', 48), ('data/train\\\\BANDED ORANGE HELICONIAN\\\\036.jpg', 8), ('data/train\\\\BROOKES BIRDWING\\\\082.jpg', 16), ('data/train\\\\ARCIGERA FLOWER MOTH\\\\076.jpg', 5), ('data/train\\\\BANDED ORANGE HELICONIAN\\\\038.jpg', 8), ('data/train\\\\CHALK HILL BLUE\\\\029.jpg', 21), ('data/train\\\\SLEEPY ORANGE\\\\027.jpg', 88), ('data/train\\\\ATALA\\\\072.jpg', 6), ('data/train\\\\BROWN ARGUS\\\\041.jpg', 17), ('data/train\\\\HERCULES MOTH\\\\011.jpg', 50), ('data/train\\\\GREEN HAIRSTREAK\\\\064.jpg', 48), ('data/train\\\\HERCULES MOTH\\\\046.jpg', 50), ('data/train\\\\MOURNING CLOAK\\\\095.jpg', 65), ('data/train\\\\BROWN SIPROETA\\\\067.jpg', 18), ('data/train\\\\SLEEPY ORANGE\\\\036.jpg', 88), ('data/train\\\\BROOKES BIRDWING\\\\160.jpg', 16), ('data/train\\\\CHALK HILL BLUE\\\\141.jpg', 21), ('data/train\\\\HUMMING BIRD HAWK MOTH\\\\097.jpg', 51), ('data/train\\\\HUMMING BIRD HAWK MOTH\\\\079.jpg', 51), ('data/train\\\\HERCULES MOTH\\\\089.jpg', 50), ('data/train\\\\CRECENT\\\\03.jpg', 33), ('data/train\\\\MOURNING CLOAK\\\\117.jpg', 65), ('data/train\\\\SLEEPY ORANGE\\\\125.jpg', 88), ('data/train\\\\SLEEPY ORANGE\\\\094.jpg', 88), ('data/train\\\\MOURNING CLOAK\\\\082.jpg', 65), ('data/train\\\\BROWN SIPROETA\\\\010.jpg', 18), ('data/train\\\\MILBERTS TORTOISESHELL\\\\102.jpg', 63), ('data/train\\\\SLEEPY ORANGE\\\\093.jpg', 88), ('data/train\\\\MILBERTS TORTOISESHELL\\\\034.jpg', 63), ('data/train\\\\BANDED TIGER MOTH\\\\082.jpg', 10), ('data/train\\\\ORANGE TIP\\\\75.jpg', 68), ('data/train\\\\CRECENT\\\\20.jpg', 33), ('data/train\\\\ORANGE TIP\\\\55.jpg', 68), ('data/train\\\\BROWN SIPROETA\\\\091.jpg', 18), ('data/train\\\\CRECENT\\\\40.jpg', 33), ('data/train\\\\BROWN ARGUS\\\\038.jpg', 17), ('data/train\\\\CHALK HILL BLUE\\\\022.jpg', 21), ('data/train\\\\CRECENT\\\\120.jpg', 33), ('data/train\\\\ORANGE TIP\\\\04.jpg', 68)]\n",
      "Número de clases diferentes en los samples: 20\n"
     ]
    }
   ],
   "source": [
    "cl = CustomLoader(dataset=train_dataset, batch_size=cfg.model.batch_size)\n",
    "train_labeled_ds, train_unlabeled_ds = cl.split(labeled_percentage=cfg.data.labeled_percentage)\n",
    "\n",
    "print(f\"Labeled: {len(train_labeled_ds.samples)}\")\n",
    "print(f\"Unlabeled: {len(train_unlabeled_ds.samples)}\")\n",
    "\n",
    "\n",
    "# labels = [sample[1] for sample in train_labeled_ds.samples]\n",
    "# unique_classes = set(labels)\n",
    "# num_unique_classes = len(unique_classes)\n",
    "# print(\"Número de clases diferentes en los samples:\", num_unique_classes)"
   ]
  },
  {
   "cell_type": "markdown",
   "metadata": {},
   "source": [
    "Utilice el set de datos sin labels para reconstruir las muestras utilizando un Autoencoder\n",
    "para aprender una representación latente de los datos. El Autoencoder debe estar basado\n",
    "en la Arquitectura U-Net. Es obligatorio la permanencia de Skip Connections."
   ]
  },
  {
   "cell_type": "code",
   "execution_count": null,
   "metadata": {},
   "outputs": [],
   "source": []
  },
  {
   "cell_type": "code",
   "execution_count": 218,
   "metadata": {},
   "outputs": [
    {
     "name": "stderr",
     "output_type": "stream",
     "text": [
      "GPU available: True (cuda), used: True\n",
      "TPU available: False, using: 0 TPU cores\n",
      "HPU available: False, using: 0 HPUs\n"
     ]
    },
    {
     "ename": "NameError",
     "evalue": "name 'model' is not defined",
     "output_type": "error",
     "traceback": [
      "\u001b[1;31m---------------------------------------------------------------------------\u001b[0m",
      "\u001b[1;31mNameError\u001b[0m                                 Traceback (most recent call last)",
      "Cell \u001b[1;32mIn[218], line 2\u001b[0m\n\u001b[0;32m      1\u001b[0m trainer \u001b[38;5;241m=\u001b[39m Trainer(callbacks\u001b[38;5;241m=\u001b[39m[early_stop_callback], max_epochs\u001b[38;5;241m=\u001b[39m\u001b[38;5;241m10\u001b[39m)\n\u001b[1;32m----> 2\u001b[0m trainer\u001b[38;5;241m.\u001b[39mfit(\u001b[43mmodel\u001b[49m, datamodule)\n",
      "\u001b[1;31mNameError\u001b[0m: name 'model' is not defined"
     ]
    }
   ],
   "source": [
    "trainer = Trainer(callbacks=[early_stop_callback], max_epochs=10)\n",
    "trainer.fit(model, datamodule)\n"
   ]
  },
  {
   "cell_type": "code",
   "execution_count": null,
   "metadata": {},
   "outputs": [],
   "source": [
    "@hydra.main(config_path=\".\", config_name=\"config\")\n",
    "def main(cfg: DictConfig):\n",
    "    # Aquí usas los valores de cfg para ajustar los hiperparámetros\n",
    "    print(cfg.model.lr)"
   ]
  }
 ],
 "metadata": {
  "kernelspec": {
   "display_name": "env_IC6200_AI_P2_pytorch",
   "language": "python",
   "name": "python3"
  },
  "language_info": {
   "codemirror_mode": {
    "name": "ipython",
    "version": 3
   },
   "file_extension": ".py",
   "mimetype": "text/x-python",
   "name": "python",
   "nbconvert_exporter": "python",
   "pygments_lexer": "ipython3",
   "version": "3.8.20"
  }
 },
 "nbformat": 4,
 "nbformat_minor": 2
}
