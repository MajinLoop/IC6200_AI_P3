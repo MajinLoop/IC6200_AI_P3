{
 "cells": [
  {
   "cell_type": "code",
   "execution_count": 26,
   "metadata": {},
   "outputs": [],
   "source": [
    "import os\n",
    "import random\n",
    "from collections import Counter\n",
    "from PIL import Image\n",
    "\n",
    "# Pytorch\n",
    "import torch\n",
    "from torch import nn\n",
    "from torch.utils.data import DataLoader, Dataset, random_split\n",
    "from torchvision import datasets, transforms\n",
    "\n",
    "# Pytorch Lightning\n",
    "import pytorch_lightning as pl\n",
    "from pytorch_lightning import Trainer\n",
    "from pytorch_lightning.callbacks.early_stopping import EarlyStopping\n",
    "\n",
    "# Hydra\n",
    "import hydra\n",
    "from omegaconf import DictConfig"
   ]
  },
  {
   "cell_type": "code",
   "execution_count": 27,
   "metadata": {},
   "outputs": [],
   "source": [
    "DATASET_DIR = 'data/train'"
   ]
  },
  {
   "cell_type": "code",
   "execution_count": 28,
   "metadata": {},
   "outputs": [],
   "source": [
    "class CustomLoader(pl.LightningDataModule):\n",
    "    def __init__(self, dataset, batch_size=32, labeled_percentage=0.3):\n",
    "        super().__init__()\n",
    "        self.dataset = dataset\n",
    "        self.batch_size = batch_size\n",
    "        self.labeled_percentage = labeled_percentage\n",
    "\n",
    "    def setup(self):\n",
    "        total_size = len(self.dataset)\n",
    "        labeled_size = int(total_size * self.labeled_percentage)\n",
    "        unlabeled_size = total_size - labeled_size\n",
    "        self.labeled_data, self.unlabeled_data = random_split(self.dataset, [labeled_size, unlabeled_size])\n",
    "\n",
    "    def train_dataloader(self):\n",
    "        return DataLoader(self.labeled_data, batch_size=self.batch_size, shuffle=True)\n",
    "\n",
    "    def val_dataloader(self):\n",
    "        return DataLoader(self.labeled_data, batch_size=self.batch_size)\n",
    "\n",
    "    def test_dataloader(self):\n",
    "        return DataLoader(self.labeled_data, batch_size=self.batch_size)"
   ]
  },
  {
   "cell_type": "code",
   "execution_count": 29,
   "metadata": {},
   "outputs": [],
   "source": [
    "# (U Net Autoencoder)\n",
    "class Autoencoder(pl.LightningModule):\n",
    "    def __init__(self):\n",
    "        super(Autoencoder, self).__init__()\n",
    "        # Define las capas del encoder y del decoder con skip connections\n",
    "        self.encoder = nn.Sequential\n",
    "        (\n",
    "            nn.Conv2d(1, 64, 3, padding=1),\n",
    "            nn.ReLU(),\n",
    "            # Agrega más capas de encoder\n",
    "        )\n",
    "        self.decoder = nn.Sequential\n",
    "        (\n",
    "            nn.ConvTranspose2d(64, 1, 3, padding=1),\n",
    "            nn.ReLU(),\n",
    "            # Agrega más capas de decoder\n",
    "        )\n",
    "\n",
    "    def forward(self, x):\n",
    "        encoded = self.encoder(x)\n",
    "        decoded = self.decoder(encoded)\n",
    "        return decoded\n",
    "\n",
    "    def training_step(self, batch, batch_idx):\n",
    "        x, _ = batch\n",
    "        reconstruction = self(x)\n",
    "        loss = nn.MSELoss()(reconstruction, x)\n",
    "        return loss\n",
    "\n",
    "    def configure_optimizers(self):\n",
    "        return torch.optim.Adam(self.parameters(), lr=1e-3)\n"
   ]
  },
  {
   "cell_type": "code",
   "execution_count": 30,
   "metadata": {},
   "outputs": [],
   "source": [
    "class Classifier_A(pl.LightningModule):\n",
    "    def __init__(self):\n",
    "        super(Classifier_A, self).__init__()\n",
    "        self.model = nn.Sequential\n",
    "        (\n",
    "            nn.Flatten(),\n",
    "            nn.Linear(512, 128),  # Ajusta según sea necesario\n",
    "            nn.ReLU(),\n",
    "            nn.Linear(128, 10)\n",
    "        )\n",
    "\n",
    "    def forward(self, x):\n",
    "        return self.model(x)\n",
    "\n",
    "    def training_step(self, batch, batch_idx):\n",
    "        x, y = batch\n",
    "        y_hat = self(x)\n",
    "        loss = nn.CrossEntropyLoss()(y_hat, y)\n",
    "        return loss\n",
    "\n",
    "    def configure_optimizers(self):\n",
    "        return torch.optim.Adam(self.parameters(), lr=1e-3)\n",
    "\n",
    "\n",
    "class Classifier_B(pl.LightningModule):\n",
    "    def __init__(self, encoder, fine_tune=False):\n",
    "        super(Classifier_B, self).__init__()\n",
    "        self.encoder = encoder\n",
    "\n",
    "        if not fine_tune:\n",
    "            for param in self.encoder.parameters():\n",
    "                param.requires_grad = False  # Congelar el encoder si es necesario\n",
    "        \n",
    "        self.classifier = nn.Sequential\n",
    "        (\n",
    "            nn.Flatten(),\n",
    "            nn.Linear(512, 128),\n",
    "            nn.ReLU(),\n",
    "            nn.Linear(128, 10)\n",
    "        )\n",
    "\n",
    "    def forward(self, x):\n",
    "        x = self.encoder(x)\n",
    "        return self.classifier(x)\n",
    "\n",
    "    def training_step(self, batch, batch_idx):\n",
    "        x, y = batch\n",
    "        y_hat = self(x)\n",
    "        loss = nn.CrossEntropyLoss()(y_hat, y)\n",
    "        return loss\n",
    "\n",
    "    def configure_optimizers(self):\n",
    "        return torch.optim.Adam(self.parameters(), lr=1e-3)\n"
   ]
  },
  {
   "cell_type": "code",
   "execution_count": 31,
   "metadata": {},
   "outputs": [],
   "source": [
    "early_stop_callback = EarlyStopping \\\n",
    "(\n",
    "    monitor='val_loss',\n",
    "    patience=3,\n",
    "    verbose=True,\n",
    "    mode='min'\n",
    ")"
   ]
  },
  {
   "cell_type": "code",
   "execution_count": null,
   "metadata": {},
   "outputs": [
    {
     "ename": "AttributeError",
     "evalue": "module 'torch.utils.data' has no attribute 'DatasetFolder'",
     "output_type": "error",
     "traceback": [
      "\u001b[1;31m---------------------------------------------------------------------------\u001b[0m",
      "\u001b[1;31mAttributeError\u001b[0m                            Traceback (most recent call last)",
      "Cell \u001b[1;32mIn[32], line 25\u001b[0m\n\u001b[0;32m     23\u001b[0m \u001b[38;5;66;03m# Filtrar el dataset solo con las 20 especies seleccionadas\u001b[39;00m\n\u001b[0;32m     24\u001b[0m filtered_samples \u001b[38;5;241m=\u001b[39m [sample \u001b[38;5;28;01mfor\u001b[39;00m sample \u001b[38;5;129;01min\u001b[39;00m full_dataset\u001b[38;5;241m.\u001b[39msamples \u001b[38;5;28;01mif\u001b[39;00m sample[\u001b[38;5;241m1\u001b[39m] \u001b[38;5;129;01min\u001b[39;00m top_20_species]\n\u001b[1;32m---> 25\u001b[0m filtered_dataset \u001b[38;5;241m=\u001b[39m \u001b[43mtorch\u001b[49m\u001b[38;5;241;43m.\u001b[39;49m\u001b[43mutils\u001b[49m\u001b[38;5;241;43m.\u001b[39;49m\u001b[43mdata\u001b[49m\u001b[38;5;241;43m.\u001b[39;49m\u001b[43mDatasetFolder\u001b[49m(root\u001b[38;5;241m=\u001b[39mDATASET_DIR, samples\u001b[38;5;241m=\u001b[39mfiltered_samples, loader\u001b[38;5;241m=\u001b[39mfull_dataset\u001b[38;5;241m.\u001b[39mloader, extensions\u001b[38;5;241m=\u001b[39mfull_dataset\u001b[38;5;241m.\u001b[39mextensions, transform\u001b[38;5;241m=\u001b[39mtransform)\n\u001b[0;32m     27\u001b[0m \u001b[38;5;66;03m# Paso 3: Dividir los datos de entrenamiento y prueba\u001b[39;00m\n\u001b[0;32m     28\u001b[0m train_samples \u001b[38;5;241m=\u001b[39m []\n",
      "\u001b[1;31mAttributeError\u001b[0m: module 'torch.utils.data' has no attribute 'DatasetFolder'"
     ]
    }
   ],
   "source": [
    "# Paso 1: Cargar y preprocesar el dataset\n",
    "transform = transforms.Compose\n",
    "(\n",
    "    [\n",
    "        transforms.Resize((128, 128)),\n",
    "        transforms.ToTensor(),\n",
    "        transforms.Normalize(mean=[0.485, 0.456, 0.406], std=[0.229, 0.224, 0.225]),\n",
    "    ]\n",
    ")\n",
    "\n",
    "# Cargar el dataset completo (sin filtrar aún por las 20 especies)\n",
    "full_dataset = datasets.ImageFolder(root=DATASET_DIR, transform=transform)\n",
    "\n",
    "# Paso 2: Contar las imágenes por especie\n",
    "species_counts = Counter([sample[1] for sample in full_dataset.samples])\n",
    "\n",
    "# Seleccionar las 20 especies con más muestras\n",
    "top_20_species = [species for species, count in species_counts.most_common(20)]\n",
    "\n",
    "# Filtrar el dataset solo con las 20 especies seleccionadas\n",
    "filtered_samples = [sample for sample in full_dataset.samples if sample[1] in top_20_species]\n",
    "filtered_dataset = torch.utils.data.DatasetFolder(root=DATASET_DIR, samples=filtered_samples, loader=full_dataset.loader, extensions=full_dataset.extensions, transform=transform)\n",
    "\n",
    "# Paso 3: Dividir los datos de entrenamiento y prueba\n",
    "train_samples = []\n",
    "test_samples = []\n",
    "\n",
    "# Para cada especie seleccionada, mover 20 muestras de entrenamiento a prueba\n",
    "for species in top_20_species:\n",
    "    # Obtener todas las imágenes de una especie\n",
    "    species_samples = [sample for sample in filtered_samples if sample[1] == species]\n",
    "    \n",
    "    # Dividir 20 muestras para testing\n",
    "    random.shuffle(species_samples)\n",
    "    train_samples_species = species_samples[:-20]\n",
    "    test_samples_species = species_samples[-20:]\n",
    "\n",
    "    train_samples.extend(train_samples_species)\n",
    "    test_samples.extend(test_samples_species)\n",
    "\n",
    "# Crear datasets de entrenamiento y prueba\n",
    "train_dataset = torch.utils.data.DatasetFolder(root=DATASET_DIR, samples=train_samples, loader=full_dataset.loader, extensions=full_dataset.extensions, transform=transform)\n",
    "test_dataset = torch.utils.data.DatasetFolder(root=DATASET_DIR, samples=test_samples, loader=full_dataset.loader, extensions=full_dataset.extensions, transform=transform)\n",
    "\n",
    "# Paso 4: Crear DataLoaders\n",
    "train_loader = DataLoader(train_dataset, batch_size=32, shuffle=True)\n",
    "test_loader = DataLoader(test_dataset, batch_size=32, shuffle=False)\n",
    "\n",
    "print(f'Training samples: {len(train_samples)}')\n",
    "print(f'Testing samples: {len(test_samples)}')\n"
   ]
  },
  {
   "cell_type": "code",
   "execution_count": null,
   "metadata": {},
   "outputs": [
    {
     "name": "stderr",
     "output_type": "stream",
     "text": [
      "GPU available: True (cuda), used: True\n",
      "TPU available: False, using: 0 TPU cores\n",
      "HPU available: False, using: 0 HPUs\n",
      "c:\\Users\\aleja\\.conda\\envs\\env_IC6200_AI_P2_pytorch\\lib\\site-packages\\pytorch_lightning\\trainer\\connectors\\logger_connector\\logger_connector.py:75: Starting from v1.9.0, `tensorboardX` has been removed as a dependency of the `pytorch_lightning` package, due to potential conflicts with other packages in the ML ecosystem. For this reason, `logger=True` will use `CSVLogger` as the default logger, unless the `tensorboard` or `tensorboardX` packages are found. Please `pip install lightning[extra]` or one of them to enable TensorBoard support by default\n"
     ]
    },
    {
     "ename": "NameError",
     "evalue": "name 'model' is not defined",
     "output_type": "error",
     "traceback": [
      "\u001b[1;31m---------------------------------------------------------------------------\u001b[0m",
      "\u001b[1;31mNameError\u001b[0m                                 Traceback (most recent call last)",
      "Cell \u001b[1;32mIn[18], line 2\u001b[0m\n\u001b[0;32m      1\u001b[0m trainer \u001b[38;5;241m=\u001b[39m Trainer(callbacks\u001b[38;5;241m=\u001b[39m[early_stop_callback], max_epochs\u001b[38;5;241m=\u001b[39m\u001b[38;5;241m10\u001b[39m)\n\u001b[1;32m----> 2\u001b[0m trainer\u001b[38;5;241m.\u001b[39mfit(\u001b[43mmodel\u001b[49m, datamodule)\n",
      "\u001b[1;31mNameError\u001b[0m: name 'model' is not defined"
     ]
    }
   ],
   "source": [
    "trainer = Trainer(callbacks=[early_stop_callback], max_epochs=10)\n",
    "trainer.fit(model, datamodule)\n"
   ]
  },
  {
   "cell_type": "code",
   "execution_count": null,
   "metadata": {},
   "outputs": [],
   "source": [
    "@hydra.main(config_path=\".\", config_name=\"config\")\n",
    "def main(cfg: DictConfig):\n",
    "    # Aquí usas los valores de cfg para ajustar los hiperparámetros\n",
    "    print(cfg.model.lr)"
   ]
  }
 ],
 "metadata": {
  "kernelspec": {
   "display_name": "env_IC6200_AI_P2_pytorch",
   "language": "python",
   "name": "python3"
  },
  "language_info": {
   "codemirror_mode": {
    "name": "ipython",
    "version": 3
   },
   "file_extension": ".py",
   "mimetype": "text/x-python",
   "name": "python",
   "nbconvert_exporter": "python",
   "pygments_lexer": "ipython3",
   "version": "3.8.20"
  }
 },
 "nbformat": 4,
 "nbformat_minor": 2
}
